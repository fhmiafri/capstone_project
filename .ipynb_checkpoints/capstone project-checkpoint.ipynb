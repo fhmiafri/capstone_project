{
 "cells": [
  {
   "cell_type": "markdown",
   "metadata": {},
   "source": [
    "Student name: Fahmi Afri\n",
    "\n",
    "Student pace: part time\n",
    "\n",
    "Scheduled project review date/time: 7/11/2022\n",
    "\n",
    "Instructor name: Hardik Idnani\n",
    "\n",
    "Blog post URL: https://github.com/fhmiafri/capstone_project"
   ]
  },
  {
   "cell_type": "code",
   "execution_count": 1,
   "metadata": {},
   "outputs": [],
   "source": [
    "#import libaries\n",
    "import pandas as pd\n",
    "import numpy as np\n",
    "import matplotlib.pyplot as plt\n",
    "import seaborn as sns\n",
    "import scipy.stats as stats\n",
    "import warnings\n",
    "warnings.filterwarnings('ignore')"
   ]
  },
  {
   "cell_type": "code",
   "execution_count": 2,
   "metadata": {},
   "outputs": [],
   "source": [
    "#loadind dataset from csv file to pandas dataframe\n",
    "data = pd.read_csv ('C:/Users/fahmi/Downloads/PakWheelsDataSet.csv.zip')"
   ]
  },
  {
   "cell_type": "code",
   "execution_count": 3,
   "metadata": {},
   "outputs": [
    {
     "data": {
      "text/html": [
       "<div>\n",
       "<style scoped>\n",
       "    .dataframe tbody tr th:only-of-type {\n",
       "        vertical-align: middle;\n",
       "    }\n",
       "\n",
       "    .dataframe tbody tr th {\n",
       "        vertical-align: top;\n",
       "    }\n",
       "\n",
       "    .dataframe thead th {\n",
       "        text-align: right;\n",
       "    }\n",
       "</style>\n",
       "<table border=\"1\" class=\"dataframe\">\n",
       "  <thead>\n",
       "    <tr style=\"text-align: right;\">\n",
       "      <th></th>\n",
       "      <th>Unnamed: 0</th>\n",
       "      <th>Make</th>\n",
       "      <th>Name</th>\n",
       "      <th>Transmission</th>\n",
       "      <th>Engine Type</th>\n",
       "      <th>Engine Capacity(CC)</th>\n",
       "      <th>Mileage(kms)</th>\n",
       "      <th>City</th>\n",
       "      <th>Year</th>\n",
       "      <th>Price</th>\n",
       "    </tr>\n",
       "  </thead>\n",
       "  <tbody>\n",
       "    <tr>\n",
       "      <th>0</th>\n",
       "      <td>0</td>\n",
       "      <td>Honda</td>\n",
       "      <td>BR-V   i-VTEC S</td>\n",
       "      <td>Automatic</td>\n",
       "      <td>Petrol</td>\n",
       "      <td>1500.0</td>\n",
       "      <td>41371</td>\n",
       "      <td>Karachi</td>\n",
       "      <td>2017</td>\n",
       "      <td>3150000.0</td>\n",
       "    </tr>\n",
       "    <tr>\n",
       "      <th>1</th>\n",
       "      <td>1</td>\n",
       "      <td>Toyota</td>\n",
       "      <td>Corolla   Altis Automatic 1.6</td>\n",
       "      <td>Automatic</td>\n",
       "      <td>Petrol</td>\n",
       "      <td>1600.0</td>\n",
       "      <td>2460</td>\n",
       "      <td>Karachi</td>\n",
       "      <td>2021</td>\n",
       "      <td>3575000.0</td>\n",
       "    </tr>\n",
       "    <tr>\n",
       "      <th>2</th>\n",
       "      <td>2</td>\n",
       "      <td>Toyota</td>\n",
       "      <td>Vitz   F Limited II 1.0</td>\n",
       "      <td>Automatic</td>\n",
       "      <td>Petrol</td>\n",
       "      <td>1000.0</td>\n",
       "      <td>67000</td>\n",
       "      <td>Karachi</td>\n",
       "      <td>2014</td>\n",
       "      <td>1955000.0</td>\n",
       "    </tr>\n",
       "    <tr>\n",
       "      <th>3</th>\n",
       "      <td>3</td>\n",
       "      <td>Daihatsu</td>\n",
       "      <td>Move   Custom X Limited</td>\n",
       "      <td>Automatic</td>\n",
       "      <td>Petrol</td>\n",
       "      <td>660.0</td>\n",
       "      <td>64000</td>\n",
       "      <td>Lahore</td>\n",
       "      <td>2013</td>\n",
       "      <td>1450000.0</td>\n",
       "    </tr>\n",
       "    <tr>\n",
       "      <th>4</th>\n",
       "      <td>4</td>\n",
       "      <td>Toyota</td>\n",
       "      <td>Prado   TX L Package 2.7</td>\n",
       "      <td>Automatic</td>\n",
       "      <td>Petrol</td>\n",
       "      <td>2700.0</td>\n",
       "      <td>64000</td>\n",
       "      <td>Lahore</td>\n",
       "      <td>2016</td>\n",
       "      <td>19000000.0</td>\n",
       "    </tr>\n",
       "  </tbody>\n",
       "</table>\n",
       "</div>"
      ],
      "text/plain": [
       "   Unnamed: 0      Make                            Name Transmission  \\\n",
       "0           0     Honda                BR-V   i-VTEC S     Automatic   \n",
       "1           1    Toyota  Corolla   Altis Automatic 1.6     Automatic   \n",
       "2           2    Toyota        Vitz   F Limited II 1.0     Automatic   \n",
       "3           3  Daihatsu        Move   Custom X Limited     Automatic   \n",
       "4           4    Toyota       Prado   TX L Package 2.7     Automatic   \n",
       "\n",
       "  Engine Type  Engine Capacity(CC)  Mileage(kms)     City  Year       Price  \n",
       "0      Petrol               1500.0         41371  Karachi  2017   3150000.0  \n",
       "1      Petrol               1600.0          2460  Karachi  2021   3575000.0  \n",
       "2      Petrol               1000.0         67000  Karachi  2014   1955000.0  \n",
       "3      Petrol                660.0         64000   Lahore  2013   1450000.0  \n",
       "4      Petrol               2700.0         64000   Lahore  2016  19000000.0  "
      ]
     },
     "execution_count": 3,
     "metadata": {},
     "output_type": "execute_result"
    }
   ],
   "source": [
    "#inspect the first 5 rows\n",
    "data.head()"
   ]
  },
  {
   "cell_type": "code",
   "execution_count": 4,
   "metadata": {},
   "outputs": [
    {
     "name": "stdout",
     "output_type": "stream",
     "text": [
      "<class 'pandas.core.frame.DataFrame'>\n",
      "RangeIndex: 76690 entries, 0 to 76689\n",
      "Data columns (total 10 columns):\n",
      " #   Column               Non-Null Count  Dtype  \n",
      "---  ------               --------------  -----  \n",
      " 0   Unnamed: 0           76690 non-null  int64  \n",
      " 1   Make                 76690 non-null  object \n",
      " 2   Name                 76690 non-null  object \n",
      " 3   Transmission         76690 non-null  object \n",
      " 4   Engine Type          76690 non-null  object \n",
      " 5   Engine Capacity(CC)  76687 non-null  float64\n",
      " 6   Mileage(kms)         76690 non-null  int64  \n",
      " 7   City                 76690 non-null  object \n",
      " 8   Year                 76690 non-null  int64  \n",
      " 9   Price                76690 non-null  float64\n",
      "dtypes: float64(2), int64(3), object(5)\n",
      "memory usage: 5.9+ MB\n"
     ]
    }
   ],
   "source": [
    "#getting information about the dataset\n",
    "data.info()"
   ]
  },
  {
   "cell_type": "code",
   "execution_count": 5,
   "metadata": {},
   "outputs": [
    {
     "data": {
      "text/plain": [
       "(76690, 10)"
      ]
     },
     "execution_count": 5,
     "metadata": {},
     "output_type": "execute_result"
    }
   ],
   "source": [
    "#checking the number of rows and columns\n",
    "data.shape"
   ]
  },
  {
   "cell_type": "code",
   "execution_count": 6,
   "metadata": {},
   "outputs": [
    {
     "data": {
      "text/plain": [
       "76690"
      ]
     },
     "execution_count": 6,
     "metadata": {},
     "output_type": "execute_result"
    }
   ],
   "source": [
    "#checking for duplicates\n",
    "len(set(data['Unnamed: 0']))"
   ]
  },
  {
   "cell_type": "code",
   "execution_count": 7,
   "metadata": {},
   "outputs": [
    {
     "data": {
      "text/plain": [
       "Index(['Unnamed: 0', 'Make', 'Name', 'Transmission', 'Engine Type',\n",
       "       'Engine Capacity(CC)', 'Mileage(kms)', 'City', 'Year', 'Price'],\n",
       "      dtype='object')"
      ]
     },
     "execution_count": 7,
     "metadata": {},
     "output_type": "execute_result"
    }
   ],
   "source": [
    "#checking columns\n",
    "data.columns"
   ]
  },
  {
   "cell_type": "code",
   "execution_count": 8,
   "metadata": {},
   "outputs": [],
   "source": [
    "#dropping unneccessary columns\n",
    "data=data.drop(['Unnamed: 0','City'], axis=1)"
   ]
  },
  {
   "cell_type": "code",
   "execution_count": 9,
   "metadata": {},
   "outputs": [
    {
     "data": {
      "text/html": [
       "<div>\n",
       "<style scoped>\n",
       "    .dataframe tbody tr th:only-of-type {\n",
       "        vertical-align: middle;\n",
       "    }\n",
       "\n",
       "    .dataframe tbody tr th {\n",
       "        vertical-align: top;\n",
       "    }\n",
       "\n",
       "    .dataframe thead th {\n",
       "        text-align: right;\n",
       "    }\n",
       "</style>\n",
       "<table border=\"1\" class=\"dataframe\">\n",
       "  <thead>\n",
       "    <tr style=\"text-align: right;\">\n",
       "      <th></th>\n",
       "      <th>Make</th>\n",
       "      <th>Name</th>\n",
       "      <th>Transmission</th>\n",
       "      <th>Engine Type</th>\n",
       "      <th>Engine Capacity(CC)</th>\n",
       "      <th>Mileage(kms)</th>\n",
       "      <th>Year</th>\n",
       "      <th>Price</th>\n",
       "    </tr>\n",
       "  </thead>\n",
       "  <tbody>\n",
       "    <tr>\n",
       "      <th>0</th>\n",
       "      <td>Honda</td>\n",
       "      <td>BR-V   i-VTEC S</td>\n",
       "      <td>Automatic</td>\n",
       "      <td>Petrol</td>\n",
       "      <td>1500.0</td>\n",
       "      <td>41371</td>\n",
       "      <td>2017</td>\n",
       "      <td>3150000.0</td>\n",
       "    </tr>\n",
       "    <tr>\n",
       "      <th>1</th>\n",
       "      <td>Toyota</td>\n",
       "      <td>Corolla   Altis Automatic 1.6</td>\n",
       "      <td>Automatic</td>\n",
       "      <td>Petrol</td>\n",
       "      <td>1600.0</td>\n",
       "      <td>2460</td>\n",
       "      <td>2021</td>\n",
       "      <td>3575000.0</td>\n",
       "    </tr>\n",
       "    <tr>\n",
       "      <th>2</th>\n",
       "      <td>Toyota</td>\n",
       "      <td>Vitz   F Limited II 1.0</td>\n",
       "      <td>Automatic</td>\n",
       "      <td>Petrol</td>\n",
       "      <td>1000.0</td>\n",
       "      <td>67000</td>\n",
       "      <td>2014</td>\n",
       "      <td>1955000.0</td>\n",
       "    </tr>\n",
       "    <tr>\n",
       "      <th>3</th>\n",
       "      <td>Daihatsu</td>\n",
       "      <td>Move   Custom X Limited</td>\n",
       "      <td>Automatic</td>\n",
       "      <td>Petrol</td>\n",
       "      <td>660.0</td>\n",
       "      <td>64000</td>\n",
       "      <td>2013</td>\n",
       "      <td>1450000.0</td>\n",
       "    </tr>\n",
       "    <tr>\n",
       "      <th>4</th>\n",
       "      <td>Toyota</td>\n",
       "      <td>Prado   TX L Package 2.7</td>\n",
       "      <td>Automatic</td>\n",
       "      <td>Petrol</td>\n",
       "      <td>2700.0</td>\n",
       "      <td>64000</td>\n",
       "      <td>2016</td>\n",
       "      <td>19000000.0</td>\n",
       "    </tr>\n",
       "  </tbody>\n",
       "</table>\n",
       "</div>"
      ],
      "text/plain": [
       "       Make                            Name Transmission Engine Type  \\\n",
       "0     Honda                BR-V   i-VTEC S     Automatic      Petrol   \n",
       "1    Toyota  Corolla   Altis Automatic 1.6     Automatic      Petrol   \n",
       "2    Toyota        Vitz   F Limited II 1.0     Automatic      Petrol   \n",
       "3  Daihatsu        Move   Custom X Limited     Automatic      Petrol   \n",
       "4    Toyota       Prado   TX L Package 2.7     Automatic      Petrol   \n",
       "\n",
       "   Engine Capacity(CC)  Mileage(kms)  Year       Price  \n",
       "0               1500.0         41371  2017   3150000.0  \n",
       "1               1600.0          2460  2021   3575000.0  \n",
       "2               1000.0         67000  2014   1955000.0  \n",
       "3                660.0         64000  2013   1450000.0  \n",
       "4               2700.0         64000  2016  19000000.0  "
      ]
     },
     "execution_count": 9,
     "metadata": {},
     "output_type": "execute_result"
    }
   ],
   "source": [
    "data.head()"
   ]
  },
  {
   "cell_type": "code",
   "execution_count": 10,
   "metadata": {},
   "outputs": [
    {
     "name": "stdout",
     "output_type": "stream",
     "text": [
      "<class 'pandas.core.frame.DataFrame'>\n",
      "RangeIndex: 76690 entries, 0 to 76689\n",
      "Data columns (total 8 columns):\n",
      " #   Column               Non-Null Count  Dtype  \n",
      "---  ------               --------------  -----  \n",
      " 0   Make                 76690 non-null  object \n",
      " 1   Name                 76690 non-null  object \n",
      " 2   Transmission         76690 non-null  object \n",
      " 3   Engine Type          76690 non-null  object \n",
      " 4   Engine Capacity(CC)  76687 non-null  float64\n",
      " 5   Mileage(kms)         76690 non-null  int64  \n",
      " 6   Year                 76690 non-null  int64  \n",
      " 7   Price                76690 non-null  float64\n",
      "dtypes: float64(2), int64(2), object(4)\n",
      "memory usage: 4.7+ MB\n"
     ]
    }
   ],
   "source": [
    "data.info()"
   ]
  },
  {
   "cell_type": "code",
   "execution_count": 11,
   "metadata": {},
   "outputs": [
    {
     "data": {
      "text/plain": [
       "Make                   0\n",
       "Name                   0\n",
       "Transmission           0\n",
       "Engine Type            0\n",
       "Engine Capacity(CC)    3\n",
       "Mileage(kms)           0\n",
       "Year                   0\n",
       "Price                  0\n",
       "dtype: int64"
      ]
     },
     "execution_count": 11,
     "metadata": {},
     "output_type": "execute_result"
    }
   ],
   "source": [
    "#checking for missing values\n",
    "data.isnull().sum()"
   ]
  },
  {
   "cell_type": "code",
   "execution_count": 12,
   "metadata": {},
   "outputs": [],
   "source": [
    "#dropping 3 nan values \n",
    "data = data[~data['Engine Capacity(CC)'].isna()]"
   ]
  },
  {
   "cell_type": "code",
   "execution_count": 13,
   "metadata": {},
   "outputs": [
    {
     "data": {
      "text/plain": [
       "(76687, 8)"
      ]
     },
     "execution_count": 13,
     "metadata": {},
     "output_type": "execute_result"
    }
   ],
   "source": [
    "data.shape"
   ]
  },
  {
   "cell_type": "code",
   "execution_count": 14,
   "metadata": {},
   "outputs": [
    {
     "data": {
      "text/plain": [
       "Index(['Make', 'Name', 'Transmission', 'Engine Type', 'Engine Capacity(CC)',\n",
       "       'Mileage(kms)', 'Year', 'Price'],\n",
       "      dtype='object')"
      ]
     },
     "execution_count": 14,
     "metadata": {},
     "output_type": "execute_result"
    }
   ],
   "source": [
    "data.columns"
   ]
  },
  {
   "cell_type": "code",
   "execution_count": 25,
   "metadata": {},
   "outputs": [],
   "source": [
    "data.rename(columns={'EngineCapacity(CC)':'EngineCapacity_cc', 'Mileage(kms)':'Mileage_kms'}, inplace=True)"
   ]
  },
  {
   "cell_type": "code",
   "execution_count": 17,
   "metadata": {},
   "outputs": [],
   "source": [
    "#removing space in columns name\n",
    "data.columns = data.columns.str.replace(' ', '')"
   ]
  },
  {
   "cell_type": "code",
   "execution_count": 18,
   "metadata": {},
   "outputs": [
    {
     "data": {
      "text/plain": [
       "Index(['Make', 'Name', 'Transmission', 'EngineType', 'EngineCapacity(CC)',\n",
       "       'Mileage_kms', 'Year', 'Price'],\n",
       "      dtype='object')"
      ]
     },
     "execution_count": 18,
     "metadata": {},
     "output_type": "execute_result"
    }
   ],
   "source": [
    "data.columns"
   ]
  },
  {
   "cell_type": "code",
   "execution_count": 19,
   "metadata": {},
   "outputs": [
    {
     "data": {
      "text/plain": [
       "array(['Honda', 'Toyota', 'Daihatsu', 'Range', 'Suzuki', 'Mercedes',\n",
       "       'BMW', 'KIA', 'Hyundai', 'MG', 'Nissan', 'Mazda', 'FAW',\n",
       "       'Mitsubishi', 'Prince', 'Changan', 'Audi', 'Haval', 'Jeep',\n",
       "       'Proton', 'DFSK', 'Dodge', 'Ford', 'BAIC', 'Land', 'Lexus',\n",
       "       'Porsche', 'Volkswagen', 'Daehan', 'Chevrolet', 'Hino', 'Subaru',\n",
       "       'GMC', 'MINI', 'Isuzu', 'Daewoo', 'United', 'SsangYong', 'Adam',\n",
       "       'Others', 'Cadillac', 'Willys', 'Chrysler', 'Geely', 'JAC', 'JW',\n",
       "       'Sogo', 'Datsun', 'Chery', 'Fiat', 'Hummer', 'Vauxhall', 'Master',\n",
       "       'Morris', 'Citroen', 'Dongfeng', 'JMC', 'Mushtaq', 'Bentley',\n",
       "       'Jaguar', 'Pontiac', 'Austin', 'Classic', 'ZOTYE', 'Volvo', 'Roma'],\n",
       "      dtype=object)"
      ]
     },
     "execution_count": 19,
     "metadata": {},
     "output_type": "execute_result"
    }
   ],
   "source": [
    "#checking unique values\n",
    "data['Make'].unique()"
   ]
  },
  {
   "cell_type": "code",
   "execution_count": 20,
   "metadata": {},
   "outputs": [
    {
     "data": {
      "text/plain": [
       "array(['Automatic', 'Manual'], dtype=object)"
      ]
     },
     "execution_count": 20,
     "metadata": {},
     "output_type": "execute_result"
    }
   ],
   "source": [
    "data['Transmission'].unique()"
   ]
  },
  {
   "cell_type": "code",
   "execution_count": 21,
   "metadata": {},
   "outputs": [
    {
     "data": {
      "text/plain": [
       "array(['Petrol', 'CNG', 'Hybrid', 'Diesel', 'LPG'], dtype=object)"
      ]
     },
     "execution_count": 21,
     "metadata": {},
     "output_type": "execute_result"
    }
   ],
   "source": [
    "data['EngineType'].unique()"
   ]
  },
  {
   "cell_type": "code",
   "execution_count": 22,
   "metadata": {},
   "outputs": [
    {
     "data": {
      "text/plain": [
       "array([ 41371,   2460,  67000, ..., 114987,  11662,  52840], dtype=int64)"
      ]
     },
     "execution_count": 22,
     "metadata": {},
     "output_type": "execute_result"
    }
   ],
   "source": [
    "data['Mileage_kms'].unique()"
   ]
  },
  {
   "cell_type": "code",
   "execution_count": 23,
   "metadata": {},
   "outputs": [
    {
     "data": {
      "text/plain": [
       "array([2017, 2021, 2014, 2013, 2016, 2009, 2019, 2006, 2005, 2018, 2007,\n",
       "       1999, 2011, 2001, 2008, 2012, 2010, 2015, 1990, 2003, 2020, 2002,\n",
       "       1997, 2004, 1994, 1995, 1984, 1996, 1986, 1993, 1998, 1988, 1992,\n",
       "       1991, 2000, 1967, 1983, 1982, 1985, 1987, 1989, 1981, 1972, 1970,\n",
       "       1978, 1973, 1963, 1974, 1977, 1976, 1979, 1980, 1969, 1961, 1966,\n",
       "       1942, 1975, 1968, 1960, 1959, 1965, 1964, 1951, 1940, 1962, 1952,\n",
       "       1950, 1971], dtype=int64)"
      ]
     },
     "execution_count": 23,
     "metadata": {},
     "output_type": "execute_result"
    }
   ],
   "source": [
    "data['Year'].unique()"
   ]
  },
  {
   "cell_type": "code",
   "execution_count": 26,
   "metadata": {
    "scrolled": false
   },
   "outputs": [
    {
     "data": {
      "text/plain": [
       "array([1500., 1600., 1000.,  660., 2700., 4200., 2600., 1800.,  800.,\n",
       "       1400., 1300., 4600., 2000., 2400., 2500., 4700., 1100., 3000.,\n",
       "       1200., 4608., 4000., 2800., 3400., 4400., 3500., 1900., 5700.,\n",
       "       4500., 3200., 5000., 3300., 2100.,  100.,  270., 5600., 6200.,\n",
       "       1700., 5663., 3378., 4164.,  900., 2200., 5500., 4663.,  300.,\n",
       "       2300.,  123.,  860.,  600.,  200., 5400., 3348., 6600., 2879.,\n",
       "       3450., 6400., 4300., 2900., 3342., 3600., 1198., 2255., 4230.,\n",
       "       6000., 4965.,  698., 5300., 1323., 6603.,  853., 4461.,   16.,\n",
       "       4800., 4160.,  700., 1668., 3431., 3700., 5676.,  570., 3800.,\n",
       "       5125.,  696.,  552.,  880., 3950.,  870., 4100.,  215., 3100.,\n",
       "       1122., 2171.,  750., 1699., 2599., 6208., 5959., 2950.,  933.,\n",
       "       2906., 5834., 4999., 5552., 4104.,  896., 4660., 2268., 3150.,\n",
       "       5555.])"
      ]
     },
     "execution_count": 26,
     "metadata": {},
     "output_type": "execute_result"
    }
   ],
   "source": [
    "data['EngineCapacity_cc'].unique()"
   ]
  },
  {
   "cell_type": "code",
   "execution_count": 27,
   "metadata": {},
   "outputs": [
    {
     "data": {
      "text/plain": [
       "Make                 0\n",
       "Name                 0\n",
       "Transmission         0\n",
       "EngineType           0\n",
       "EngineCapacity_cc    0\n",
       "Mileage_kms          0\n",
       "Year                 0\n",
       "Price                0\n",
       "dtype: int64"
      ]
     },
     "execution_count": 27,
     "metadata": {},
     "output_type": "execute_result"
    }
   ],
   "source": [
    "data.isnull().sum()"
   ]
  },
  {
   "cell_type": "code",
   "execution_count": 28,
   "metadata": {},
   "outputs": [
    {
     "name": "stdout",
     "output_type": "stream",
     "text": [
      "Automatic    44107\n",
      "Manual       32580\n",
      "Name: Transmission, dtype: int64\n",
      "Petrol    68888\n",
      "Diesel     3661\n",
      "Hybrid     3509\n",
      "CNG         616\n",
      "LPG          13\n",
      "Name: EngineType, dtype: int64\n",
      "2018    6893\n",
      "2021    6868\n",
      "2017    5795\n",
      "2016    5310\n",
      "2015    4479\n",
      "        ... \n",
      "1962       1\n",
      "1942       1\n",
      "1940       1\n",
      "1966       1\n",
      "1950       1\n",
      "Name: Year, Length: 68, dtype: int64\n"
     ]
    }
   ],
   "source": [
    "#cheking the distribution of categorical data\n",
    "print(data.Transmission.value_counts())\n",
    "print(data.EngineType.value_counts())\n",
    "print(data.Year.value_counts())"
   ]
  },
  {
   "cell_type": "code",
   "execution_count": 29,
   "metadata": {},
   "outputs": [
    {
     "data": {
      "text/html": [
       "<div>\n",
       "<style scoped>\n",
       "    .dataframe tbody tr th:only-of-type {\n",
       "        vertical-align: middle;\n",
       "    }\n",
       "\n",
       "    .dataframe tbody tr th {\n",
       "        vertical-align: top;\n",
       "    }\n",
       "\n",
       "    .dataframe thead th {\n",
       "        text-align: right;\n",
       "    }\n",
       "</style>\n",
       "<table border=\"1\" class=\"dataframe\">\n",
       "  <thead>\n",
       "    <tr style=\"text-align: right;\">\n",
       "      <th></th>\n",
       "      <th>EngineCapacity_cc</th>\n",
       "      <th>Mileage_kms</th>\n",
       "      <th>Year</th>\n",
       "      <th>Price</th>\n",
       "    </tr>\n",
       "  </thead>\n",
       "  <tbody>\n",
       "    <tr>\n",
       "      <th>count</th>\n",
       "      <td>76687.000000</td>\n",
       "      <td>76687.000000</td>\n",
       "      <td>76687.000000</td>\n",
       "      <td>7.668700e+04</td>\n",
       "    </tr>\n",
       "    <tr>\n",
       "      <th>mean</th>\n",
       "      <td>1499.699806</td>\n",
       "      <td>87962.008854</td>\n",
       "      <td>2011.999100</td>\n",
       "      <td>3.023153e+06</td>\n",
       "    </tr>\n",
       "    <tr>\n",
       "      <th>std</th>\n",
       "      <td>723.373657</td>\n",
       "      <td>78759.333327</td>\n",
       "      <td>7.371107</td>\n",
       "      <td>4.303289e+06</td>\n",
       "    </tr>\n",
       "    <tr>\n",
       "      <th>min</th>\n",
       "      <td>16.000000</td>\n",
       "      <td>1.000000</td>\n",
       "      <td>1940.000000</td>\n",
       "      <td>5.000000e+05</td>\n",
       "    </tr>\n",
       "    <tr>\n",
       "      <th>25%</th>\n",
       "      <td>1000.000000</td>\n",
       "      <td>39000.000000</td>\n",
       "      <td>2007.000000</td>\n",
       "      <td>1.215000e+06</td>\n",
       "    </tr>\n",
       "    <tr>\n",
       "      <th>50%</th>\n",
       "      <td>1300.000000</td>\n",
       "      <td>79900.000000</td>\n",
       "      <td>2014.000000</td>\n",
       "      <td>2.025000e+06</td>\n",
       "    </tr>\n",
       "    <tr>\n",
       "      <th>75%</th>\n",
       "      <td>1800.000000</td>\n",
       "      <td>119800.000000</td>\n",
       "      <td>2018.000000</td>\n",
       "      <td>3.200000e+06</td>\n",
       "    </tr>\n",
       "    <tr>\n",
       "      <th>max</th>\n",
       "      <td>6603.000000</td>\n",
       "      <td>999999.000000</td>\n",
       "      <td>2021.000000</td>\n",
       "      <td>9.350000e+07</td>\n",
       "    </tr>\n",
       "  </tbody>\n",
       "</table>\n",
       "</div>"
      ],
      "text/plain": [
       "       EngineCapacity_cc    Mileage_kms          Year         Price\n",
       "count       76687.000000   76687.000000  76687.000000  7.668700e+04\n",
       "mean         1499.699806   87962.008854   2011.999100  3.023153e+06\n",
       "std           723.373657   78759.333327      7.371107  4.303289e+06\n",
       "min            16.000000       1.000000   1940.000000  5.000000e+05\n",
       "25%          1000.000000   39000.000000   2007.000000  1.215000e+06\n",
       "50%          1300.000000   79900.000000   2014.000000  2.025000e+06\n",
       "75%          1800.000000  119800.000000   2018.000000  3.200000e+06\n",
       "max          6603.000000  999999.000000   2021.000000  9.350000e+07"
      ]
     },
     "execution_count": 29,
     "metadata": {},
     "output_type": "execute_result"
    }
   ],
   "source": [
    "data.describe()"
   ]
  },
  {
   "cell_type": "markdown",
   "metadata": {},
   "source": [
    "The minimum engine capacity(cc) is very rarely to be under 660cc nowadays , and having 1km for the mileage(kms) for a used car is not very rational behavior . "
   ]
  },
  {
   "cell_type": "code",
   "execution_count": 30,
   "metadata": {},
   "outputs": [
    {
     "data": {
      "text/html": [
       "<div>\n",
       "<style scoped>\n",
       "    .dataframe tbody tr th:only-of-type {\n",
       "        vertical-align: middle;\n",
       "    }\n",
       "\n",
       "    .dataframe tbody tr th {\n",
       "        vertical-align: top;\n",
       "    }\n",
       "\n",
       "    .dataframe thead th {\n",
       "        text-align: right;\n",
       "    }\n",
       "</style>\n",
       "<table border=\"1\" class=\"dataframe\">\n",
       "  <thead>\n",
       "    <tr style=\"text-align: right;\">\n",
       "      <th></th>\n",
       "      <th>Make</th>\n",
       "      <th>Name</th>\n",
       "      <th>Transmission</th>\n",
       "      <th>EngineType</th>\n",
       "      <th>EngineCapacity_cc</th>\n",
       "      <th>Mileage_kms</th>\n",
       "      <th>Year</th>\n",
       "      <th>Price</th>\n",
       "    </tr>\n",
       "  </thead>\n",
       "  <tbody>\n",
       "    <tr>\n",
       "      <th>2455</th>\n",
       "      <td>GMC</td>\n",
       "      <td>Sierra</td>\n",
       "      <td>Automatic</td>\n",
       "      <td>Petrol</td>\n",
       "      <td>6200.0</td>\n",
       "      <td>19375</td>\n",
       "      <td>2019</td>\n",
       "      <td>26900000.0</td>\n",
       "    </tr>\n",
       "    <tr>\n",
       "      <th>5117</th>\n",
       "      <td>Mercedes</td>\n",
       "      <td>Benz G Class   G 63 AMG</td>\n",
       "      <td>Automatic</td>\n",
       "      <td>Petrol</td>\n",
       "      <td>6200.0</td>\n",
       "      <td>22645</td>\n",
       "      <td>2016</td>\n",
       "      <td>93500000.0</td>\n",
       "    </tr>\n",
       "    <tr>\n",
       "      <th>5567</th>\n",
       "      <td>Cadillac</td>\n",
       "      <td>Escalade Ext</td>\n",
       "      <td>Automatic</td>\n",
       "      <td>Petrol</td>\n",
       "      <td>6200.0</td>\n",
       "      <td>87000</td>\n",
       "      <td>2007</td>\n",
       "      <td>5000000.0</td>\n",
       "    </tr>\n",
       "    <tr>\n",
       "      <th>7017</th>\n",
       "      <td>GMC</td>\n",
       "      <td>Sierra</td>\n",
       "      <td>Automatic</td>\n",
       "      <td>Petrol</td>\n",
       "      <td>6200.0</td>\n",
       "      <td>19375</td>\n",
       "      <td>2019</td>\n",
       "      <td>26900000.0</td>\n",
       "    </tr>\n",
       "    <tr>\n",
       "      <th>10987</th>\n",
       "      <td>Nissan</td>\n",
       "      <td>Roox   HIGHWAY STAR URBAN SELECTION...</td>\n",
       "      <td>Automatic</td>\n",
       "      <td>Petrol</td>\n",
       "      <td>6600.0</td>\n",
       "      <td>77000</td>\n",
       "      <td>2016</td>\n",
       "      <td>1450000.0</td>\n",
       "    </tr>\n",
       "    <tr>\n",
       "      <th>12429</th>\n",
       "      <td>Jeep</td>\n",
       "      <td>Cherokee</td>\n",
       "      <td>Automatic</td>\n",
       "      <td>Petrol</td>\n",
       "      <td>6400.0</td>\n",
       "      <td>26000</td>\n",
       "      <td>2013</td>\n",
       "      <td>24000000.0</td>\n",
       "    </tr>\n",
       "    <tr>\n",
       "      <th>12430</th>\n",
       "      <td>Ford</td>\n",
       "      <td>F 150   Raptor 5.0L</td>\n",
       "      <td>Automatic</td>\n",
       "      <td>Petrol</td>\n",
       "      <td>6200.0</td>\n",
       "      <td>33000</td>\n",
       "      <td>2011</td>\n",
       "      <td>16000000.0</td>\n",
       "    </tr>\n",
       "    <tr>\n",
       "      <th>12721</th>\n",
       "      <td>Ford</td>\n",
       "      <td>F 150   Raptor 5.0L</td>\n",
       "      <td>Automatic</td>\n",
       "      <td>Petrol</td>\n",
       "      <td>6200.0</td>\n",
       "      <td>70000</td>\n",
       "      <td>2014</td>\n",
       "      <td>11800000.0</td>\n",
       "    </tr>\n",
       "    <tr>\n",
       "      <th>18006</th>\n",
       "      <td>Mercedes</td>\n",
       "      <td>Benz C Class   C63 AMG</td>\n",
       "      <td>Automatic</td>\n",
       "      <td>Petrol</td>\n",
       "      <td>6200.0</td>\n",
       "      <td>60000</td>\n",
       "      <td>2009</td>\n",
       "      <td>11500000.0</td>\n",
       "    </tr>\n",
       "    <tr>\n",
       "      <th>21604</th>\n",
       "      <td>Mitsubishi</td>\n",
       "      <td>I Mivec</td>\n",
       "      <td>Automatic</td>\n",
       "      <td>Petrol</td>\n",
       "      <td>6603.0</td>\n",
       "      <td>985000</td>\n",
       "      <td>2007</td>\n",
       "      <td>975000.0</td>\n",
       "    </tr>\n",
       "    <tr>\n",
       "      <th>32845</th>\n",
       "      <td>Cadillac</td>\n",
       "      <td>Escalade Ext</td>\n",
       "      <td>Automatic</td>\n",
       "      <td>Petrol</td>\n",
       "      <td>6200.0</td>\n",
       "      <td>66000</td>\n",
       "      <td>2007</td>\n",
       "      <td>9800000.0</td>\n",
       "    </tr>\n",
       "    <tr>\n",
       "      <th>37093</th>\n",
       "      <td>Jeep</td>\n",
       "      <td>Cherokee</td>\n",
       "      <td>Automatic</td>\n",
       "      <td>Petrol</td>\n",
       "      <td>6400.0</td>\n",
       "      <td>26000</td>\n",
       "      <td>2013</td>\n",
       "      <td>24000000.0</td>\n",
       "    </tr>\n",
       "    <tr>\n",
       "      <th>37095</th>\n",
       "      <td>Ford</td>\n",
       "      <td>F 150   Raptor 5.0L</td>\n",
       "      <td>Automatic</td>\n",
       "      <td>Petrol</td>\n",
       "      <td>6200.0</td>\n",
       "      <td>33000</td>\n",
       "      <td>2011</td>\n",
       "      <td>16000000.0</td>\n",
       "    </tr>\n",
       "    <tr>\n",
       "      <th>39109</th>\n",
       "      <td>Ford</td>\n",
       "      <td>F 150   Raptor 5.0L</td>\n",
       "      <td>Automatic</td>\n",
       "      <td>Petrol</td>\n",
       "      <td>6200.0</td>\n",
       "      <td>70000</td>\n",
       "      <td>2014</td>\n",
       "      <td>11800000.0</td>\n",
       "    </tr>\n",
       "    <tr>\n",
       "      <th>40264</th>\n",
       "      <td>GMC</td>\n",
       "      <td>Other</td>\n",
       "      <td>Automatic</td>\n",
       "      <td>Petrol</td>\n",
       "      <td>6200.0</td>\n",
       "      <td>93000</td>\n",
       "      <td>2013</td>\n",
       "      <td>8500000.0</td>\n",
       "    </tr>\n",
       "    <tr>\n",
       "      <th>42407</th>\n",
       "      <td>Suzuki</td>\n",
       "      <td>Every</td>\n",
       "      <td>Automatic</td>\n",
       "      <td>Petrol</td>\n",
       "      <td>6600.0</td>\n",
       "      <td>92000</td>\n",
       "      <td>2017</td>\n",
       "      <td>1764000.0</td>\n",
       "    </tr>\n",
       "    <tr>\n",
       "      <th>45682</th>\n",
       "      <td>Daihatsu</td>\n",
       "      <td>Mira</td>\n",
       "      <td>Automatic</td>\n",
       "      <td>Petrol</td>\n",
       "      <td>6600.0</td>\n",
       "      <td>1000</td>\n",
       "      <td>2018</td>\n",
       "      <td>2250000.0</td>\n",
       "    </tr>\n",
       "    <tr>\n",
       "      <th>49285</th>\n",
       "      <td>Mercedes</td>\n",
       "      <td>Benz E Class 3rd (W211) Generation 20...</td>\n",
       "      <td>Automatic</td>\n",
       "      <td>Petrol</td>\n",
       "      <td>6208.0</td>\n",
       "      <td>60800</td>\n",
       "      <td>2007</td>\n",
       "      <td>8000000.0</td>\n",
       "    </tr>\n",
       "    <tr>\n",
       "      <th>53795</th>\n",
       "      <td>Cadillac</td>\n",
       "      <td>Escalade Ext</td>\n",
       "      <td>Automatic</td>\n",
       "      <td>Petrol</td>\n",
       "      <td>6200.0</td>\n",
       "      <td>80000</td>\n",
       "      <td>2007</td>\n",
       "      <td>5100000.0</td>\n",
       "    </tr>\n",
       "    <tr>\n",
       "      <th>58575</th>\n",
       "      <td>GMC</td>\n",
       "      <td>Sierra</td>\n",
       "      <td>Automatic</td>\n",
       "      <td>Petrol</td>\n",
       "      <td>6200.0</td>\n",
       "      <td>42000</td>\n",
       "      <td>2016</td>\n",
       "      <td>16500000.0</td>\n",
       "    </tr>\n",
       "    <tr>\n",
       "      <th>63217</th>\n",
       "      <td>Ford</td>\n",
       "      <td>F 150</td>\n",
       "      <td>Automatic</td>\n",
       "      <td>Petrol</td>\n",
       "      <td>6200.0</td>\n",
       "      <td>101000</td>\n",
       "      <td>2013</td>\n",
       "      <td>11700000.0</td>\n",
       "    </tr>\n",
       "  </tbody>\n",
       "</table>\n",
       "</div>"
      ],
      "text/plain": [
       "             Make                                      Name Transmission  \\\n",
       "2455          GMC                                Sierra        Automatic   \n",
       "5117     Mercedes                  Benz G Class   G 63 AMG     Automatic   \n",
       "5567     Cadillac                          Escalade Ext        Automatic   \n",
       "7017          GMC                                Sierra        Automatic   \n",
       "10987      Nissan    Roox   HIGHWAY STAR URBAN SELECTION...    Automatic   \n",
       "12429        Jeep                              Cherokee        Automatic   \n",
       "12430        Ford                      F 150   Raptor 5.0L     Automatic   \n",
       "12721        Ford                      F 150   Raptor 5.0L     Automatic   \n",
       "18006    Mercedes                   Benz C Class   C63 AMG     Automatic   \n",
       "21604  Mitsubishi                               I Mivec        Automatic   \n",
       "32845    Cadillac                          Escalade Ext        Automatic   \n",
       "37093        Jeep                              Cherokee        Automatic   \n",
       "37095        Ford                      F 150   Raptor 5.0L     Automatic   \n",
       "39109        Ford                      F 150   Raptor 5.0L     Automatic   \n",
       "40264         GMC                                 Other        Automatic   \n",
       "42407      Suzuki                                 Every        Automatic   \n",
       "45682    Daihatsu                                  Mira        Automatic   \n",
       "49285    Mercedes  Benz E Class 3rd (W211) Generation 20...    Automatic   \n",
       "53795    Cadillac                          Escalade Ext        Automatic   \n",
       "58575         GMC                                Sierra        Automatic   \n",
       "63217        Ford                                 F 150        Automatic   \n",
       "\n",
       "      EngineType  EngineCapacity_cc  Mileage_kms  Year       Price  \n",
       "2455      Petrol             6200.0        19375  2019  26900000.0  \n",
       "5117      Petrol             6200.0        22645  2016  93500000.0  \n",
       "5567      Petrol             6200.0        87000  2007   5000000.0  \n",
       "7017      Petrol             6200.0        19375  2019  26900000.0  \n",
       "10987     Petrol             6600.0        77000  2016   1450000.0  \n",
       "12429     Petrol             6400.0        26000  2013  24000000.0  \n",
       "12430     Petrol             6200.0        33000  2011  16000000.0  \n",
       "12721     Petrol             6200.0        70000  2014  11800000.0  \n",
       "18006     Petrol             6200.0        60000  2009  11500000.0  \n",
       "21604     Petrol             6603.0       985000  2007    975000.0  \n",
       "32845     Petrol             6200.0        66000  2007   9800000.0  \n",
       "37093     Petrol             6400.0        26000  2013  24000000.0  \n",
       "37095     Petrol             6200.0        33000  2011  16000000.0  \n",
       "39109     Petrol             6200.0        70000  2014  11800000.0  \n",
       "40264     Petrol             6200.0        93000  2013   8500000.0  \n",
       "42407     Petrol             6600.0        92000  2017   1764000.0  \n",
       "45682     Petrol             6600.0         1000  2018   2250000.0  \n",
       "49285     Petrol             6208.0        60800  2007   8000000.0  \n",
       "53795     Petrol             6200.0        80000  2007   5100000.0  \n",
       "58575     Petrol             6200.0        42000  2016  16500000.0  \n",
       "63217     Petrol             6200.0       101000  2013  11700000.0  "
      ]
     },
     "execution_count": 30,
     "metadata": {},
     "output_type": "execute_result"
    }
   ],
   "source": [
    "data[data['EngineCapacity_cc']>6000]"
   ]
  },
  {
   "cell_type": "code",
   "execution_count": 31,
   "metadata": {},
   "outputs": [
    {
     "data": {
      "text/html": [
       "<div>\n",
       "<style scoped>\n",
       "    .dataframe tbody tr th:only-of-type {\n",
       "        vertical-align: middle;\n",
       "    }\n",
       "\n",
       "    .dataframe tbody tr th {\n",
       "        vertical-align: top;\n",
       "    }\n",
       "\n",
       "    .dataframe thead th {\n",
       "        text-align: right;\n",
       "    }\n",
       "</style>\n",
       "<table border=\"1\" class=\"dataframe\">\n",
       "  <thead>\n",
       "    <tr style=\"text-align: right;\">\n",
       "      <th></th>\n",
       "      <th>Make</th>\n",
       "      <th>Name</th>\n",
       "      <th>Transmission</th>\n",
       "      <th>EngineType</th>\n",
       "      <th>EngineCapacity_cc</th>\n",
       "      <th>Mileage_kms</th>\n",
       "      <th>Year</th>\n",
       "      <th>Price</th>\n",
       "    </tr>\n",
       "  </thead>\n",
       "  <tbody>\n",
       "    <tr>\n",
       "      <th>1291</th>\n",
       "      <td>Toyota</td>\n",
       "      <td>Corolla   GLi 1.3</td>\n",
       "      <td>Automatic</td>\n",
       "      <td>Petrol</td>\n",
       "      <td>100.0</td>\n",
       "      <td>200000</td>\n",
       "      <td>1982</td>\n",
       "      <td>560000.0</td>\n",
       "    </tr>\n",
       "    <tr>\n",
       "      <th>2281</th>\n",
       "      <td>Hino</td>\n",
       "      <td>FG1J</td>\n",
       "      <td>Manual</td>\n",
       "      <td>Diesel</td>\n",
       "      <td>270.0</td>\n",
       "      <td>200000</td>\n",
       "      <td>2012</td>\n",
       "      <td>6000000.0</td>\n",
       "    </tr>\n",
       "    <tr>\n",
       "      <th>2360</th>\n",
       "      <td>Honda</td>\n",
       "      <td>Civic EK</td>\n",
       "      <td>Manual</td>\n",
       "      <td>Petrol</td>\n",
       "      <td>100.0</td>\n",
       "      <td>149161</td>\n",
       "      <td>1997</td>\n",
       "      <td>665000.0</td>\n",
       "    </tr>\n",
       "    <tr>\n",
       "      <th>5283</th>\n",
       "      <td>Suzuki</td>\n",
       "      <td>Bolan</td>\n",
       "      <td>Manual</td>\n",
       "      <td>Petrol</td>\n",
       "      <td>300.0</td>\n",
       "      <td>94000</td>\n",
       "      <td>2016</td>\n",
       "      <td>950000.0</td>\n",
       "    </tr>\n",
       "    <tr>\n",
       "      <th>5486</th>\n",
       "      <td>Toyota</td>\n",
       "      <td>Corolla   GLi Automatic 1.3 VVTi fo...</td>\n",
       "      <td>Automatic</td>\n",
       "      <td>Petrol</td>\n",
       "      <td>100.0</td>\n",
       "      <td>58000</td>\n",
       "      <td>2017</td>\n",
       "      <td>2850000.0</td>\n",
       "    </tr>\n",
       "    <tr>\n",
       "      <th>6067</th>\n",
       "      <td>Toyota</td>\n",
       "      <td>Vitz</td>\n",
       "      <td>Automatic</td>\n",
       "      <td>Petrol</td>\n",
       "      <td>100.0</td>\n",
       "      <td>1</td>\n",
       "      <td>1999</td>\n",
       "      <td>1050000.0</td>\n",
       "    </tr>\n",
       "    <tr>\n",
       "      <th>6258</th>\n",
       "      <td>Toyota</td>\n",
       "      <td>Passo</td>\n",
       "      <td>Automatic</td>\n",
       "      <td>Petrol</td>\n",
       "      <td>123.0</td>\n",
       "      <td>123</td>\n",
       "      <td>2016</td>\n",
       "      <td>2300000.0</td>\n",
       "    </tr>\n",
       "    <tr>\n",
       "      <th>7678</th>\n",
       "      <td>Suzuki</td>\n",
       "      <td>Every Wagon   PZ Turbo Special for ...</td>\n",
       "      <td>Automatic</td>\n",
       "      <td>Petrol</td>\n",
       "      <td>600.0</td>\n",
       "      <td>40000</td>\n",
       "      <td>2018</td>\n",
       "      <td>1900000.0</td>\n",
       "    </tr>\n",
       "    <tr>\n",
       "      <th>8184</th>\n",
       "      <td>Mercedes</td>\n",
       "      <td>Benz C Class   C200</td>\n",
       "      <td>Automatic</td>\n",
       "      <td>Petrol</td>\n",
       "      <td>200.0</td>\n",
       "      <td>170000</td>\n",
       "      <td>2007</td>\n",
       "      <td>3500000.0</td>\n",
       "    </tr>\n",
       "    <tr>\n",
       "      <th>9713</th>\n",
       "      <td>KIA</td>\n",
       "      <td>Sportage</td>\n",
       "      <td>Manual</td>\n",
       "      <td>Petrol</td>\n",
       "      <td>200.0</td>\n",
       "      <td>123456</td>\n",
       "      <td>2003</td>\n",
       "      <td>1050000.0</td>\n",
       "    </tr>\n",
       "    <tr>\n",
       "      <th>10457</th>\n",
       "      <td>Suzuki</td>\n",
       "      <td>Cultus</td>\n",
       "      <td>Manual</td>\n",
       "      <td>Petrol</td>\n",
       "      <td>100.0</td>\n",
       "      <td>360000</td>\n",
       "      <td>2007</td>\n",
       "      <td>580000.0</td>\n",
       "    </tr>\n",
       "    <tr>\n",
       "      <th>12329</th>\n",
       "      <td>Honda</td>\n",
       "      <td>Civic   EXi Prosmatec</td>\n",
       "      <td>Automatic</td>\n",
       "      <td>Petrol</td>\n",
       "      <td>100.0</td>\n",
       "      <td>100000</td>\n",
       "      <td>2006</td>\n",
       "      <td>1290000.0</td>\n",
       "    </tr>\n",
       "    <tr>\n",
       "      <th>12426</th>\n",
       "      <td>Suzuki</td>\n",
       "      <td>Ravi</td>\n",
       "      <td>Manual</td>\n",
       "      <td>Petrol</td>\n",
       "      <td>600.0</td>\n",
       "      <td>13700</td>\n",
       "      <td>2017</td>\n",
       "      <td>910000.0</td>\n",
       "    </tr>\n",
       "    <tr>\n",
       "      <th>12565</th>\n",
       "      <td>Toyota</td>\n",
       "      <td>Corolla</td>\n",
       "      <td>Automatic</td>\n",
       "      <td>Petrol</td>\n",
       "      <td>100.0</td>\n",
       "      <td>100000</td>\n",
       "      <td>1993</td>\n",
       "      <td>1400000.0</td>\n",
       "    </tr>\n",
       "    <tr>\n",
       "      <th>13060</th>\n",
       "      <td>Suzuki</td>\n",
       "      <td>Mehran</td>\n",
       "      <td>Manual</td>\n",
       "      <td>Petrol</td>\n",
       "      <td>100.0</td>\n",
       "      <td>120000</td>\n",
       "      <td>2006</td>\n",
       "      <td>550000.0</td>\n",
       "    </tr>\n",
       "    <tr>\n",
       "      <th>13757</th>\n",
       "      <td>Toyota</td>\n",
       "      <td>Corolla Indus</td>\n",
       "      <td>Automatic</td>\n",
       "      <td>Petrol</td>\n",
       "      <td>100.0</td>\n",
       "      <td>28000</td>\n",
       "      <td>1997</td>\n",
       "      <td>1350000.0</td>\n",
       "    </tr>\n",
       "    <tr>\n",
       "      <th>15197</th>\n",
       "      <td>Suzuki</td>\n",
       "      <td>Cultus</td>\n",
       "      <td>Manual</td>\n",
       "      <td>Petrol</td>\n",
       "      <td>100.0</td>\n",
       "      <td>123000</td>\n",
       "      <td>2008</td>\n",
       "      <td>785000.0</td>\n",
       "    </tr>\n",
       "    <tr>\n",
       "      <th>15300</th>\n",
       "      <td>Suzuki</td>\n",
       "      <td>Every</td>\n",
       "      <td>Automatic</td>\n",
       "      <td>Petrol</td>\n",
       "      <td>600.0</td>\n",
       "      <td>133920</td>\n",
       "      <td>2014</td>\n",
       "      <td>1600000.0</td>\n",
       "    </tr>\n",
       "    <tr>\n",
       "      <th>15615</th>\n",
       "      <td>Toyota</td>\n",
       "      <td>Corolla</td>\n",
       "      <td>Automatic</td>\n",
       "      <td>Petrol</td>\n",
       "      <td>100.0</td>\n",
       "      <td>1</td>\n",
       "      <td>2004</td>\n",
       "      <td>1325000.0</td>\n",
       "    </tr>\n",
       "    <tr>\n",
       "      <th>21331</th>\n",
       "      <td>Suzuki</td>\n",
       "      <td>Bolan</td>\n",
       "      <td>Manual</td>\n",
       "      <td>Petrol</td>\n",
       "      <td>600.0</td>\n",
       "      <td>40484</td>\n",
       "      <td>2015</td>\n",
       "      <td>780000.0</td>\n",
       "    </tr>\n",
       "    <tr>\n",
       "      <th>21818</th>\n",
       "      <td>Daihatsu</td>\n",
       "      <td>Mira</td>\n",
       "      <td>Automatic</td>\n",
       "      <td>Petrol</td>\n",
       "      <td>600.0</td>\n",
       "      <td>89000</td>\n",
       "      <td>2015</td>\n",
       "      <td>1700000.0</td>\n",
       "    </tr>\n",
       "    <tr>\n",
       "      <th>22805</th>\n",
       "      <td>Nissan</td>\n",
       "      <td>Otti</td>\n",
       "      <td>Manual</td>\n",
       "      <td>Petrol</td>\n",
       "      <td>600.0</td>\n",
       "      <td>160000</td>\n",
       "      <td>2010</td>\n",
       "      <td>1150000.0</td>\n",
       "    </tr>\n",
       "    <tr>\n",
       "      <th>22841</th>\n",
       "      <td>Suzuki</td>\n",
       "      <td>Jimny</td>\n",
       "      <td>Manual</td>\n",
       "      <td>Petrol</td>\n",
       "      <td>600.0</td>\n",
       "      <td>70000</td>\n",
       "      <td>2016</td>\n",
       "      <td>2900000.0</td>\n",
       "    </tr>\n",
       "    <tr>\n",
       "      <th>26157</th>\n",
       "      <td>Mercedes</td>\n",
       "      <td>Benz 200 D</td>\n",
       "      <td>Automatic</td>\n",
       "      <td>Petrol</td>\n",
       "      <td>100.0</td>\n",
       "      <td>200000</td>\n",
       "      <td>2005</td>\n",
       "      <td>2400000.0</td>\n",
       "    </tr>\n",
       "    <tr>\n",
       "      <th>26886</th>\n",
       "      <td>Toyota</td>\n",
       "      <td>Corolla</td>\n",
       "      <td>Manual</td>\n",
       "      <td>Petrol</td>\n",
       "      <td>16.0</td>\n",
       "      <td>90000</td>\n",
       "      <td>2005</td>\n",
       "      <td>1900000.0</td>\n",
       "    </tr>\n",
       "    <tr>\n",
       "      <th>28530</th>\n",
       "      <td>Toyota</td>\n",
       "      <td>Hiace</td>\n",
       "      <td>Manual</td>\n",
       "      <td>Petrol</td>\n",
       "      <td>100.0</td>\n",
       "      <td>81000</td>\n",
       "      <td>2010</td>\n",
       "      <td>2600000.0</td>\n",
       "    </tr>\n",
       "    <tr>\n",
       "      <th>29351</th>\n",
       "      <td>Toyota</td>\n",
       "      <td>Hiace</td>\n",
       "      <td>Manual</td>\n",
       "      <td>Petrol</td>\n",
       "      <td>100.0</td>\n",
       "      <td>72000</td>\n",
       "      <td>2002</td>\n",
       "      <td>2000000.0</td>\n",
       "    </tr>\n",
       "    <tr>\n",
       "      <th>29722</th>\n",
       "      <td>Chery</td>\n",
       "      <td>QQ   0.8 Comfortable</td>\n",
       "      <td>Automatic</td>\n",
       "      <td>Petrol</td>\n",
       "      <td>600.0</td>\n",
       "      <td>115000</td>\n",
       "      <td>2017</td>\n",
       "      <td>1250000.0</td>\n",
       "    </tr>\n",
       "    <tr>\n",
       "      <th>31243</th>\n",
       "      <td>KIA</td>\n",
       "      <td>Sportage</td>\n",
       "      <td>Manual</td>\n",
       "      <td>Petrol</td>\n",
       "      <td>300.0</td>\n",
       "      <td>20000</td>\n",
       "      <td>2003</td>\n",
       "      <td>900000.0</td>\n",
       "    </tr>\n",
       "    <tr>\n",
       "      <th>31374</th>\n",
       "      <td>Lexus</td>\n",
       "      <td>LX Series   LX570</td>\n",
       "      <td>Automatic</td>\n",
       "      <td>Petrol</td>\n",
       "      <td>570.0</td>\n",
       "      <td>10</td>\n",
       "      <td>2021</td>\n",
       "      <td>60000000.0</td>\n",
       "    </tr>\n",
       "    <tr>\n",
       "      <th>33248</th>\n",
       "      <td>Mercedes</td>\n",
       "      <td>Benz Other</td>\n",
       "      <td>Automatic</td>\n",
       "      <td>Petrol</td>\n",
       "      <td>100.0</td>\n",
       "      <td>80000</td>\n",
       "      <td>2006</td>\n",
       "      <td>3000000.0</td>\n",
       "    </tr>\n",
       "    <tr>\n",
       "      <th>34004</th>\n",
       "      <td>Bentley</td>\n",
       "      <td>Continental Gt</td>\n",
       "      <td>Automatic</td>\n",
       "      <td>Petrol</td>\n",
       "      <td>552.0</td>\n",
       "      <td>63000</td>\n",
       "      <td>2009</td>\n",
       "      <td>40000000.0</td>\n",
       "    </tr>\n",
       "    <tr>\n",
       "      <th>34706</th>\n",
       "      <td>Toyota</td>\n",
       "      <td>Corolla</td>\n",
       "      <td>Automatic</td>\n",
       "      <td>Petrol</td>\n",
       "      <td>100.0</td>\n",
       "      <td>10080</td>\n",
       "      <td>2009</td>\n",
       "      <td>1350000.0</td>\n",
       "    </tr>\n",
       "    <tr>\n",
       "      <th>34978</th>\n",
       "      <td>Mercedes</td>\n",
       "      <td>Benz E Class   E200 Exclusive for...</td>\n",
       "      <td>Automatic</td>\n",
       "      <td>Petrol</td>\n",
       "      <td>100.0</td>\n",
       "      <td>5000</td>\n",
       "      <td>2020</td>\n",
       "      <td>19300000.0</td>\n",
       "    </tr>\n",
       "    <tr>\n",
       "      <th>35071</th>\n",
       "      <td>Mitsubishi</td>\n",
       "      <td>Hiace</td>\n",
       "      <td>Manual</td>\n",
       "      <td>CNG</td>\n",
       "      <td>100.0</td>\n",
       "      <td>50000</td>\n",
       "      <td>1998</td>\n",
       "      <td>790000.0</td>\n",
       "    </tr>\n",
       "    <tr>\n",
       "      <th>35380</th>\n",
       "      <td>Suzuki</td>\n",
       "      <td>Alto</td>\n",
       "      <td>Automatic</td>\n",
       "      <td>Petrol</td>\n",
       "      <td>123.0</td>\n",
       "      <td>123000</td>\n",
       "      <td>2012</td>\n",
       "      <td>1270000.0</td>\n",
       "    </tr>\n",
       "    <tr>\n",
       "      <th>36809</th>\n",
       "      <td>Toyota</td>\n",
       "      <td>Corolla</td>\n",
       "      <td>Manual</td>\n",
       "      <td>Petrol</td>\n",
       "      <td>100.0</td>\n",
       "      <td>85000</td>\n",
       "      <td>2018</td>\n",
       "      <td>2800000.0</td>\n",
       "    </tr>\n",
       "    <tr>\n",
       "      <th>38791</th>\n",
       "      <td>Suzuki</td>\n",
       "      <td>Every</td>\n",
       "      <td>Manual</td>\n",
       "      <td>Petrol</td>\n",
       "      <td>100.0</td>\n",
       "      <td>156855</td>\n",
       "      <td>2009</td>\n",
       "      <td>1090000.0</td>\n",
       "    </tr>\n",
       "    <tr>\n",
       "      <th>39305</th>\n",
       "      <td>Suzuki</td>\n",
       "      <td>Bolan</td>\n",
       "      <td>Manual</td>\n",
       "      <td>Petrol</td>\n",
       "      <td>600.0</td>\n",
       "      <td>44300</td>\n",
       "      <td>2018</td>\n",
       "      <td>1130000.0</td>\n",
       "    </tr>\n",
       "    <tr>\n",
       "      <th>40912</th>\n",
       "      <td>Porsche</td>\n",
       "      <td>Taycan   4S</td>\n",
       "      <td>Automatic</td>\n",
       "      <td>Hybrid</td>\n",
       "      <td>215.0</td>\n",
       "      <td>20</td>\n",
       "      <td>2021</td>\n",
       "      <td>42500000.0</td>\n",
       "    </tr>\n",
       "    <tr>\n",
       "      <th>42283</th>\n",
       "      <td>Suzuki</td>\n",
       "      <td>Mehran   VXR</td>\n",
       "      <td>Manual</td>\n",
       "      <td>Petrol</td>\n",
       "      <td>600.0</td>\n",
       "      <td>85000</td>\n",
       "      <td>2012</td>\n",
       "      <td>780000.0</td>\n",
       "    </tr>\n",
       "    <tr>\n",
       "      <th>44071</th>\n",
       "      <td>Mitsubishi</td>\n",
       "      <td>Minicab Bravo</td>\n",
       "      <td>Automatic</td>\n",
       "      <td>Petrol</td>\n",
       "      <td>600.0</td>\n",
       "      <td>171000</td>\n",
       "      <td>2013</td>\n",
       "      <td>1000000.0</td>\n",
       "    </tr>\n",
       "    <tr>\n",
       "      <th>44112</th>\n",
       "      <td>Daihatsu</td>\n",
       "      <td>Hijet</td>\n",
       "      <td>Automatic</td>\n",
       "      <td>Petrol</td>\n",
       "      <td>600.0</td>\n",
       "      <td>13</td>\n",
       "      <td>2014</td>\n",
       "      <td>1100000.0</td>\n",
       "    </tr>\n",
       "    <tr>\n",
       "      <th>51057</th>\n",
       "      <td>Suzuki</td>\n",
       "      <td>Ravi</td>\n",
       "      <td>Manual</td>\n",
       "      <td>Petrol</td>\n",
       "      <td>600.0</td>\n",
       "      <td>70000</td>\n",
       "      <td>2016</td>\n",
       "      <td>690000.0</td>\n",
       "    </tr>\n",
       "    <tr>\n",
       "      <th>53573</th>\n",
       "      <td>Suzuki</td>\n",
       "      <td>Wagon R</td>\n",
       "      <td>Manual</td>\n",
       "      <td>Petrol</td>\n",
       "      <td>600.0</td>\n",
       "      <td>50000</td>\n",
       "      <td>2012</td>\n",
       "      <td>1000000.0</td>\n",
       "    </tr>\n",
       "    <tr>\n",
       "      <th>70124</th>\n",
       "      <td>Suzuki</td>\n",
       "      <td>Spacia   X</td>\n",
       "      <td>Automatic</td>\n",
       "      <td>Petrol</td>\n",
       "      <td>600.0</td>\n",
       "      <td>13000</td>\n",
       "      <td>2017</td>\n",
       "      <td>1900000.0</td>\n",
       "    </tr>\n",
       "    <tr>\n",
       "      <th>72188</th>\n",
       "      <td>Nissan</td>\n",
       "      <td>Dayz Highway Star</td>\n",
       "      <td>Automatic</td>\n",
       "      <td>Petrol</td>\n",
       "      <td>600.0</td>\n",
       "      <td>10000</td>\n",
       "      <td>2018</td>\n",
       "      <td>2100000.0</td>\n",
       "    </tr>\n",
       "    <tr>\n",
       "      <th>72747</th>\n",
       "      <td>Daihatsu</td>\n",
       "      <td>Atrai Wagon   CUSTOM TURBO R for ...</td>\n",
       "      <td>Automatic</td>\n",
       "      <td>Petrol</td>\n",
       "      <td>600.0</td>\n",
       "      <td>98000</td>\n",
       "      <td>2009</td>\n",
       "      <td>1250000.0</td>\n",
       "    </tr>\n",
       "    <tr>\n",
       "      <th>73085</th>\n",
       "      <td>Suzuki</td>\n",
       "      <td>Alto</td>\n",
       "      <td>Automatic</td>\n",
       "      <td>Petrol</td>\n",
       "      <td>600.0</td>\n",
       "      <td>65000</td>\n",
       "      <td>2016</td>\n",
       "      <td>1490000.0</td>\n",
       "    </tr>\n",
       "    <tr>\n",
       "      <th>74521</th>\n",
       "      <td>Suzuki</td>\n",
       "      <td>Every</td>\n",
       "      <td>Automatic</td>\n",
       "      <td>Petrol</td>\n",
       "      <td>600.0</td>\n",
       "      <td>90000</td>\n",
       "      <td>2011</td>\n",
       "      <td>1300000.0</td>\n",
       "    </tr>\n",
       "    <tr>\n",
       "      <th>75484</th>\n",
       "      <td>Suzuki</td>\n",
       "      <td>Mehran   VXR</td>\n",
       "      <td>Manual</td>\n",
       "      <td>Petrol</td>\n",
       "      <td>600.0</td>\n",
       "      <td>18000</td>\n",
       "      <td>2019</td>\n",
       "      <td>1125000.0</td>\n",
       "    </tr>\n",
       "  </tbody>\n",
       "</table>\n",
       "</div>"
      ],
      "text/plain": [
       "             Make                                    Name Transmission  \\\n",
       "1291       Toyota                      Corolla   GLi 1.3     Automatic   \n",
       "2281         Hino                                FG1J           Manual   \n",
       "2360        Honda                             Civic EK          Manual   \n",
       "5283       Suzuki                               Bolan           Manual   \n",
       "5486       Toyota  Corolla   GLi Automatic 1.3 VVTi fo...    Automatic   \n",
       "6067       Toyota                                Vitz        Automatic   \n",
       "6258       Toyota                               Passo        Automatic   \n",
       "7678       Suzuki  Every Wagon   PZ Turbo Special for ...    Automatic   \n",
       "8184     Mercedes                    Benz C Class   C200     Automatic   \n",
       "9713          KIA                            Sportage           Manual   \n",
       "10457      Suzuki                              Cultus           Manual   \n",
       "12329       Honda                  Civic   EXi Prosmatec     Automatic   \n",
       "12426      Suzuki                                Ravi           Manual   \n",
       "12565      Toyota                             Corolla        Automatic   \n",
       "13060      Suzuki                              Mehran           Manual   \n",
       "13757      Toyota                        Corolla Indus       Automatic   \n",
       "15197      Suzuki                              Cultus           Manual   \n",
       "15300      Suzuki                               Every        Automatic   \n",
       "15615      Toyota                             Corolla        Automatic   \n",
       "21331      Suzuki                               Bolan           Manual   \n",
       "21818    Daihatsu                                Mira        Automatic   \n",
       "22805      Nissan                                Otti           Manual   \n",
       "22841      Suzuki                               Jimny           Manual   \n",
       "26157    Mercedes                          Benz 200 D        Automatic   \n",
       "26886      Toyota                             Corolla           Manual   \n",
       "28530      Toyota                               Hiace           Manual   \n",
       "29351      Toyota                               Hiace           Manual   \n",
       "29722       Chery                   QQ   0.8 Comfortable     Automatic   \n",
       "31243         KIA                            Sportage           Manual   \n",
       "31374       Lexus                      LX Series   LX570     Automatic   \n",
       "33248    Mercedes                          Benz Other        Automatic   \n",
       "34004     Bentley                      Continental Gt        Automatic   \n",
       "34706      Toyota                             Corolla        Automatic   \n",
       "34978    Mercedes    Benz E Class   E200 Exclusive for...    Automatic   \n",
       "35071  Mitsubishi                               Hiace           Manual   \n",
       "35380      Suzuki                                Alto        Automatic   \n",
       "36809      Toyota                             Corolla           Manual   \n",
       "38791      Suzuki                               Every           Manual   \n",
       "39305      Suzuki                               Bolan           Manual   \n",
       "40912     Porsche                            Taycan   4S     Automatic   \n",
       "42283      Suzuki                           Mehran   VXR        Manual   \n",
       "44071  Mitsubishi                       Minicab Bravo        Automatic   \n",
       "44112    Daihatsu                               Hijet        Automatic   \n",
       "51057      Suzuki                                Ravi           Manual   \n",
       "53573      Suzuki                             Wagon R           Manual   \n",
       "70124      Suzuki                             Spacia   X     Automatic   \n",
       "72188      Nissan                   Dayz Highway Star        Automatic   \n",
       "72747    Daihatsu    Atrai Wagon   CUSTOM TURBO R for ...    Automatic   \n",
       "73085      Suzuki                                Alto        Automatic   \n",
       "74521      Suzuki                               Every        Automatic   \n",
       "75484      Suzuki                           Mehran   VXR        Manual   \n",
       "\n",
       "      EngineType  EngineCapacity_cc  Mileage_kms  Year       Price  \n",
       "1291      Petrol              100.0       200000  1982    560000.0  \n",
       "2281      Diesel              270.0       200000  2012   6000000.0  \n",
       "2360      Petrol              100.0       149161  1997    665000.0  \n",
       "5283      Petrol              300.0        94000  2016    950000.0  \n",
       "5486      Petrol              100.0        58000  2017   2850000.0  \n",
       "6067      Petrol              100.0            1  1999   1050000.0  \n",
       "6258      Petrol              123.0          123  2016   2300000.0  \n",
       "7678      Petrol              600.0        40000  2018   1900000.0  \n",
       "8184      Petrol              200.0       170000  2007   3500000.0  \n",
       "9713      Petrol              200.0       123456  2003   1050000.0  \n",
       "10457     Petrol              100.0       360000  2007    580000.0  \n",
       "12329     Petrol              100.0       100000  2006   1290000.0  \n",
       "12426     Petrol              600.0        13700  2017    910000.0  \n",
       "12565     Petrol              100.0       100000  1993   1400000.0  \n",
       "13060     Petrol              100.0       120000  2006    550000.0  \n",
       "13757     Petrol              100.0        28000  1997   1350000.0  \n",
       "15197     Petrol              100.0       123000  2008    785000.0  \n",
       "15300     Petrol              600.0       133920  2014   1600000.0  \n",
       "15615     Petrol              100.0            1  2004   1325000.0  \n",
       "21331     Petrol              600.0        40484  2015    780000.0  \n",
       "21818     Petrol              600.0        89000  2015   1700000.0  \n",
       "22805     Petrol              600.0       160000  2010   1150000.0  \n",
       "22841     Petrol              600.0        70000  2016   2900000.0  \n",
       "26157     Petrol              100.0       200000  2005   2400000.0  \n",
       "26886     Petrol               16.0        90000  2005   1900000.0  \n",
       "28530     Petrol              100.0        81000  2010   2600000.0  \n",
       "29351     Petrol              100.0        72000  2002   2000000.0  \n",
       "29722     Petrol              600.0       115000  2017   1250000.0  \n",
       "31243     Petrol              300.0        20000  2003    900000.0  \n",
       "31374     Petrol              570.0           10  2021  60000000.0  \n",
       "33248     Petrol              100.0        80000  2006   3000000.0  \n",
       "34004     Petrol              552.0        63000  2009  40000000.0  \n",
       "34706     Petrol              100.0        10080  2009   1350000.0  \n",
       "34978     Petrol              100.0         5000  2020  19300000.0  \n",
       "35071        CNG              100.0        50000  1998    790000.0  \n",
       "35380     Petrol              123.0       123000  2012   1270000.0  \n",
       "36809     Petrol              100.0        85000  2018   2800000.0  \n",
       "38791     Petrol              100.0       156855  2009   1090000.0  \n",
       "39305     Petrol              600.0        44300  2018   1130000.0  \n",
       "40912     Hybrid              215.0           20  2021  42500000.0  \n",
       "42283     Petrol              600.0        85000  2012    780000.0  \n",
       "44071     Petrol              600.0       171000  2013   1000000.0  \n",
       "44112     Petrol              600.0           13  2014   1100000.0  \n",
       "51057     Petrol              600.0        70000  2016    690000.0  \n",
       "53573     Petrol              600.0        50000  2012   1000000.0  \n",
       "70124     Petrol              600.0        13000  2017   1900000.0  \n",
       "72188     Petrol              600.0        10000  2018   2100000.0  \n",
       "72747     Petrol              600.0        98000  2009   1250000.0  \n",
       "73085     Petrol              600.0        65000  2016   1490000.0  \n",
       "74521     Petrol              600.0        90000  2011   1300000.0  \n",
       "75484     Petrol              600.0        18000  2019   1125000.0  "
      ]
     },
     "execution_count": 31,
     "metadata": {},
     "output_type": "execute_result"
    }
   ],
   "source": [
    "data[data['EngineCapacity_cc']<660]"
   ]
  },
  {
   "cell_type": "code",
   "execution_count": 32,
   "metadata": {},
   "outputs": [
    {
     "data": {
      "text/html": [
       "<div>\n",
       "<style scoped>\n",
       "    .dataframe tbody tr th:only-of-type {\n",
       "        vertical-align: middle;\n",
       "    }\n",
       "\n",
       "    .dataframe tbody tr th {\n",
       "        vertical-align: top;\n",
       "    }\n",
       "\n",
       "    .dataframe thead th {\n",
       "        text-align: right;\n",
       "    }\n",
       "</style>\n",
       "<table border=\"1\" class=\"dataframe\">\n",
       "  <thead>\n",
       "    <tr style=\"text-align: right;\">\n",
       "      <th></th>\n",
       "      <th>Make</th>\n",
       "      <th>Name</th>\n",
       "      <th>Transmission</th>\n",
       "      <th>EngineType</th>\n",
       "      <th>EngineCapacity_cc</th>\n",
       "      <th>Mileage_kms</th>\n",
       "      <th>Year</th>\n",
       "      <th>Price</th>\n",
       "    </tr>\n",
       "  </thead>\n",
       "  <tbody>\n",
       "    <tr>\n",
       "      <th>3670</th>\n",
       "      <td>Toyota</td>\n",
       "      <td>Hiace   DX</td>\n",
       "      <td>Manual</td>\n",
       "      <td>Diesel</td>\n",
       "      <td>2400.0</td>\n",
       "      <td>987654</td>\n",
       "      <td>1987</td>\n",
       "      <td>750000.0</td>\n",
       "    </tr>\n",
       "    <tr>\n",
       "      <th>14032</th>\n",
       "      <td>Toyota</td>\n",
       "      <td>Hilux   Vigo Champ TRD Sportivo  fo...</td>\n",
       "      <td>Automatic</td>\n",
       "      <td>Diesel</td>\n",
       "      <td>2500.0</td>\n",
       "      <td>980000</td>\n",
       "      <td>2016</td>\n",
       "      <td>5550000.0</td>\n",
       "    </tr>\n",
       "    <tr>\n",
       "      <th>14715</th>\n",
       "      <td>Honda</td>\n",
       "      <td>Fit   1.5 Hybrid S Package</td>\n",
       "      <td>Automatic</td>\n",
       "      <td>Hybrid</td>\n",
       "      <td>1500.0</td>\n",
       "      <td>920000</td>\n",
       "      <td>2014</td>\n",
       "      <td>2395000.0</td>\n",
       "    </tr>\n",
       "    <tr>\n",
       "      <th>16004</th>\n",
       "      <td>Honda</td>\n",
       "      <td>Civic Reborn  VTi Oriel 1.8 i-VTEC f...</td>\n",
       "      <td>Manual</td>\n",
       "      <td>Petrol</td>\n",
       "      <td>1800.0</td>\n",
       "      <td>950000</td>\n",
       "      <td>2007</td>\n",
       "      <td>1540000.0</td>\n",
       "    </tr>\n",
       "    <tr>\n",
       "      <th>16348</th>\n",
       "      <td>Suzuki</td>\n",
       "      <td>Cultus   VXLi</td>\n",
       "      <td>Manual</td>\n",
       "      <td>Petrol</td>\n",
       "      <td>1000.0</td>\n",
       "      <td>985000</td>\n",
       "      <td>2009</td>\n",
       "      <td>850000.0</td>\n",
       "    </tr>\n",
       "    <tr>\n",
       "      <th>...</th>\n",
       "      <td>...</td>\n",
       "      <td>...</td>\n",
       "      <td>...</td>\n",
       "      <td>...</td>\n",
       "      <td>...</td>\n",
       "      <td>...</td>\n",
       "      <td>...</td>\n",
       "      <td>...</td>\n",
       "    </tr>\n",
       "    <tr>\n",
       "      <th>73109</th>\n",
       "      <td>Suzuki</td>\n",
       "      <td>APV   GLX (CNG)</td>\n",
       "      <td>Manual</td>\n",
       "      <td>Petrol</td>\n",
       "      <td>1500.0</td>\n",
       "      <td>999999</td>\n",
       "      <td>2007</td>\n",
       "      <td>1250000.0</td>\n",
       "    </tr>\n",
       "    <tr>\n",
       "      <th>74348</th>\n",
       "      <td>Daihatsu</td>\n",
       "      <td>Mira Cocoa   PLUS G</td>\n",
       "      <td>Automatic</td>\n",
       "      <td>Petrol</td>\n",
       "      <td>660.0</td>\n",
       "      <td>950000</td>\n",
       "      <td>2012</td>\n",
       "      <td>1150000.0</td>\n",
       "    </tr>\n",
       "    <tr>\n",
       "      <th>75490</th>\n",
       "      <td>Suzuki</td>\n",
       "      <td>Bolan   VX</td>\n",
       "      <td>Manual</td>\n",
       "      <td>Petrol</td>\n",
       "      <td>800.0</td>\n",
       "      <td>980000</td>\n",
       "      <td>2016</td>\n",
       "      <td>790000.0</td>\n",
       "    </tr>\n",
       "    <tr>\n",
       "      <th>75546</th>\n",
       "      <td>Suzuki</td>\n",
       "      <td>Ravi   Euro ll</td>\n",
       "      <td>Manual</td>\n",
       "      <td>Petrol</td>\n",
       "      <td>800.0</td>\n",
       "      <td>911183</td>\n",
       "      <td>2017</td>\n",
       "      <td>950000.0</td>\n",
       "    </tr>\n",
       "    <tr>\n",
       "      <th>75855</th>\n",
       "      <td>Toyota</td>\n",
       "      <td>Passo</td>\n",
       "      <td>Automatic</td>\n",
       "      <td>Petrol</td>\n",
       "      <td>1000.0</td>\n",
       "      <td>980000</td>\n",
       "      <td>2006</td>\n",
       "      <td>1365000.0</td>\n",
       "    </tr>\n",
       "  </tbody>\n",
       "</table>\n",
       "<p>65 rows × 8 columns</p>\n",
       "</div>"
      ],
      "text/plain": [
       "           Make                                     Name Transmission  \\\n",
       "3670     Toyota                              Hiace   DX        Manual   \n",
       "14032    Toyota   Hilux   Vigo Champ TRD Sportivo  fo...    Automatic   \n",
       "14715     Honda              Fit   1.5 Hybrid S Package     Automatic   \n",
       "16004     Honda  Civic Reborn  VTi Oriel 1.8 i-VTEC f...       Manual   \n",
       "16348    Suzuki                           Cultus   VXLi        Manual   \n",
       "...         ...                                      ...          ...   \n",
       "73109    Suzuki                         APV   GLX (CNG)        Manual   \n",
       "74348  Daihatsu                     Mira Cocoa   PLUS G     Automatic   \n",
       "75490    Suzuki                              Bolan   VX        Manual   \n",
       "75546    Suzuki                          Ravi   Euro ll        Manual   \n",
       "75855    Toyota                                Passo        Automatic   \n",
       "\n",
       "      EngineType  EngineCapacity_cc  Mileage_kms  Year      Price  \n",
       "3670      Diesel             2400.0       987654  1987   750000.0  \n",
       "14032     Diesel             2500.0       980000  2016  5550000.0  \n",
       "14715     Hybrid             1500.0       920000  2014  2395000.0  \n",
       "16004     Petrol             1800.0       950000  2007  1540000.0  \n",
       "16348     Petrol             1000.0       985000  2009   850000.0  \n",
       "...          ...                ...          ...   ...        ...  \n",
       "73109     Petrol             1500.0       999999  2007  1250000.0  \n",
       "74348     Petrol              660.0       950000  2012  1150000.0  \n",
       "75490     Petrol              800.0       980000  2016   790000.0  \n",
       "75546     Petrol              800.0       911183  2017   950000.0  \n",
       "75855     Petrol             1000.0       980000  2006  1365000.0  \n",
       "\n",
       "[65 rows x 8 columns]"
      ]
     },
     "execution_count": 32,
     "metadata": {},
     "output_type": "execute_result"
    }
   ],
   "source": [
    "data[data['Mileage_kms']>900000]"
   ]
  },
  {
   "cell_type": "code",
   "execution_count": 33,
   "metadata": {},
   "outputs": [
    {
     "data": {
      "text/html": [
       "<div>\n",
       "<style scoped>\n",
       "    .dataframe tbody tr th:only-of-type {\n",
       "        vertical-align: middle;\n",
       "    }\n",
       "\n",
       "    .dataframe tbody tr th {\n",
       "        vertical-align: top;\n",
       "    }\n",
       "\n",
       "    .dataframe thead th {\n",
       "        text-align: right;\n",
       "    }\n",
       "</style>\n",
       "<table border=\"1\" class=\"dataframe\">\n",
       "  <thead>\n",
       "    <tr style=\"text-align: right;\">\n",
       "      <th></th>\n",
       "      <th>Make</th>\n",
       "      <th>Name</th>\n",
       "      <th>Transmission</th>\n",
       "      <th>EngineType</th>\n",
       "      <th>EngineCapacity_cc</th>\n",
       "      <th>Mileage_kms</th>\n",
       "      <th>Year</th>\n",
       "      <th>Price</th>\n",
       "    </tr>\n",
       "  </thead>\n",
       "  <tbody>\n",
       "    <tr>\n",
       "      <th>56</th>\n",
       "      <td>Suzuki</td>\n",
       "      <td>Alto   VXR</td>\n",
       "      <td>Manual</td>\n",
       "      <td>Petrol</td>\n",
       "      <td>660.0</td>\n",
       "      <td>10</td>\n",
       "      <td>2021</td>\n",
       "      <td>1665000.0</td>\n",
       "    </tr>\n",
       "    <tr>\n",
       "      <th>80</th>\n",
       "      <td>Hyundai</td>\n",
       "      <td>Sonata</td>\n",
       "      <td>Automatic</td>\n",
       "      <td>Petrol</td>\n",
       "      <td>2500.0</td>\n",
       "      <td>45</td>\n",
       "      <td>2021</td>\n",
       "      <td>8150000.0</td>\n",
       "    </tr>\n",
       "    <tr>\n",
       "      <th>81</th>\n",
       "      <td>MG</td>\n",
       "      <td>HS   eHS</td>\n",
       "      <td>Automatic</td>\n",
       "      <td>Hybrid</td>\n",
       "      <td>1500.0</td>\n",
       "      <td>34</td>\n",
       "      <td>2021</td>\n",
       "      <td>6490000.0</td>\n",
       "    </tr>\n",
       "    <tr>\n",
       "      <th>83</th>\n",
       "      <td>Suzuki</td>\n",
       "      <td>Mehran   VXR</td>\n",
       "      <td>Manual</td>\n",
       "      <td>Petrol</td>\n",
       "      <td>800.0</td>\n",
       "      <td>14</td>\n",
       "      <td>2012</td>\n",
       "      <td>650000.0</td>\n",
       "    </tr>\n",
       "    <tr>\n",
       "      <th>89</th>\n",
       "      <td>Toyota</td>\n",
       "      <td>Corolla   Altis Grande X CVT-i 1.8 ...</td>\n",
       "      <td>Automatic</td>\n",
       "      <td>Petrol</td>\n",
       "      <td>1800.0</td>\n",
       "      <td>15</td>\n",
       "      <td>2021</td>\n",
       "      <td>4500000.0</td>\n",
       "    </tr>\n",
       "    <tr>\n",
       "      <th>...</th>\n",
       "      <td>...</td>\n",
       "      <td>...</td>\n",
       "      <td>...</td>\n",
       "      <td>...</td>\n",
       "      <td>...</td>\n",
       "      <td>...</td>\n",
       "      <td>...</td>\n",
       "      <td>...</td>\n",
       "    </tr>\n",
       "    <tr>\n",
       "      <th>76640</th>\n",
       "      <td>Suzuki</td>\n",
       "      <td>Mehran   VX (CNG)</td>\n",
       "      <td>Manual</td>\n",
       "      <td>CNG</td>\n",
       "      <td>800.0</td>\n",
       "      <td>16</td>\n",
       "      <td>2012</td>\n",
       "      <td>580000.0</td>\n",
       "    </tr>\n",
       "    <tr>\n",
       "      <th>76650</th>\n",
       "      <td>Suzuki</td>\n",
       "      <td>Mehran   VX (CNG)</td>\n",
       "      <td>Manual</td>\n",
       "      <td>CNG</td>\n",
       "      <td>800.0</td>\n",
       "      <td>16</td>\n",
       "      <td>2012</td>\n",
       "      <td>580000.0</td>\n",
       "    </tr>\n",
       "    <tr>\n",
       "      <th>76660</th>\n",
       "      <td>Suzuki</td>\n",
       "      <td>Mehran   VX (CNG)</td>\n",
       "      <td>Manual</td>\n",
       "      <td>CNG</td>\n",
       "      <td>800.0</td>\n",
       "      <td>16</td>\n",
       "      <td>2012</td>\n",
       "      <td>580000.0</td>\n",
       "    </tr>\n",
       "    <tr>\n",
       "      <th>76670</th>\n",
       "      <td>Suzuki</td>\n",
       "      <td>Mehran   VX (CNG)</td>\n",
       "      <td>Manual</td>\n",
       "      <td>CNG</td>\n",
       "      <td>800.0</td>\n",
       "      <td>16</td>\n",
       "      <td>2012</td>\n",
       "      <td>580000.0</td>\n",
       "    </tr>\n",
       "    <tr>\n",
       "      <th>76680</th>\n",
       "      <td>Suzuki</td>\n",
       "      <td>Mehran   VX (CNG)</td>\n",
       "      <td>Manual</td>\n",
       "      <td>CNG</td>\n",
       "      <td>800.0</td>\n",
       "      <td>16</td>\n",
       "      <td>2012</td>\n",
       "      <td>580000.0</td>\n",
       "    </tr>\n",
       "  </tbody>\n",
       "</table>\n",
       "<p>4627 rows × 8 columns</p>\n",
       "</div>"
      ],
      "text/plain": [
       "          Make                                    Name Transmission  \\\n",
       "56      Suzuki                             Alto   VXR        Manual   \n",
       "80     Hyundai                              Sonata        Automatic   \n",
       "81          MG                               HS   eHS     Automatic   \n",
       "83      Suzuki                           Mehran   VXR        Manual   \n",
       "89      Toyota  Corolla   Altis Grande X CVT-i 1.8 ...    Automatic   \n",
       "...        ...                                     ...          ...   \n",
       "76640   Suzuki                      Mehran   VX (CNG)        Manual   \n",
       "76650   Suzuki                      Mehran   VX (CNG)        Manual   \n",
       "76660   Suzuki                      Mehran   VX (CNG)        Manual   \n",
       "76670   Suzuki                      Mehran   VX (CNG)        Manual   \n",
       "76680   Suzuki                      Mehran   VX (CNG)        Manual   \n",
       "\n",
       "      EngineType  EngineCapacity_cc  Mileage_kms  Year      Price  \n",
       "56        Petrol              660.0           10  2021  1665000.0  \n",
       "80        Petrol             2500.0           45  2021  8150000.0  \n",
       "81        Hybrid             1500.0           34  2021  6490000.0  \n",
       "83        Petrol              800.0           14  2012   650000.0  \n",
       "89        Petrol             1800.0           15  2021  4500000.0  \n",
       "...          ...                ...          ...   ...        ...  \n",
       "76640        CNG              800.0           16  2012   580000.0  \n",
       "76650        CNG              800.0           16  2012   580000.0  \n",
       "76660        CNG              800.0           16  2012   580000.0  \n",
       "76670        CNG              800.0           16  2012   580000.0  \n",
       "76680        CNG              800.0           16  2012   580000.0  \n",
       "\n",
       "[4627 rows x 8 columns]"
      ]
     },
     "execution_count": 33,
     "metadata": {},
     "output_type": "execute_result"
    }
   ],
   "source": [
    "data[data['Mileage_kms']<100]"
   ]
  },
  {
   "cell_type": "code",
   "execution_count": 34,
   "metadata": {},
   "outputs": [],
   "source": [
    "#remove mileage under 100kms as it is not acceptable for a used car\n",
    "data = data[data.Mileage_kms >= 100]"
   ]
  },
  {
   "cell_type": "code",
   "execution_count": 35,
   "metadata": {},
   "outputs": [],
   "source": [
    "#remove enginecapacity under 660cc \n",
    "data = data[data.EngineCapacity_cc >= 660]"
   ]
  },
  {
   "cell_type": "code",
   "execution_count": 36,
   "metadata": {},
   "outputs": [
    {
     "data": {
      "text/plain": [
       "(72014, 8)"
      ]
     },
     "execution_count": 36,
     "metadata": {},
     "output_type": "execute_result"
    }
   ],
   "source": [
    "data.shape"
   ]
  },
  {
   "cell_type": "code",
   "execution_count": 37,
   "metadata": {},
   "outputs": [
    {
     "data": {
      "image/png": "[encoded data removed]",
      "text/plain": [
       "<Figure size 720x720 with 4 Axes>"
      ]
     },
     "metadata": {
      "needs_background": "light"
     },
     "output_type": "display_data"
    }
   ],
   "source": [
    "#plot data exploration\n",
    "data.hist(figsize=(10,10), edgecolor = 'black');"
   ]
  },
  {
   "cell_type": "code",
   "execution_count": 38,
   "metadata": {},
   "outputs": [
    {
     "data": {
      "text/plain": [
       "Index(['Make', 'Name', 'Transmission', 'EngineType', 'EngineCapacity_cc',\n",
       "       'Mileage_kms', 'Year', 'Price'],\n",
       "      dtype='object')"
      ]
     },
     "execution_count": 38,
     "metadata": {},
     "output_type": "execute_result"
    }
   ],
   "source": [
    "data.columns"
   ]
  },
  {
   "cell_type": "code",
   "execution_count": 39,
   "metadata": {},
   "outputs": [
    {
     "data": {
      "text/plain": [
       "<AxesSubplot:xlabel='Transmission', ylabel='count'>"
      ]
     },
     "execution_count": 39,
     "metadata": {},
     "output_type": "execute_result"
    },
    {
     "data": {
      "image/png": "[encoded data removed]",
      "text/plain": [
       "<Figure size 432x288 with 1 Axes>"
      ]
     },
     "metadata": {
      "needs_background": "light"
     },
     "output_type": "display_data"
    }
   ],
   "source": [
    "sns.countplot(x='Transmission', data=data, palette='Set1')"
   ]
  },
  {
   "cell_type": "code",
   "execution_count": 40,
   "metadata": {},
   "outputs": [
    {
     "data": {
      "text/plain": [
       "<AxesSubplot:xlabel='EngineType', ylabel='count'>"
      ]
     },
     "execution_count": 40,
     "metadata": {},
     "output_type": "execute_result"
    },
    {
     "data": {
      "image/png": "[encoded data removed]",
      "text/plain": [
       "<Figure size 432x288 with 1 Axes>"
      ]
     },
     "metadata": {
      "needs_background": "light"
     },
     "output_type": "display_data"
    }
   ],
   "source": [
    "sns.countplot(x='EngineType', data=data, palette='Set2')"
   ]
  },
  {
   "cell_type": "code",
   "execution_count": 41,
   "metadata": {},
   "outputs": [
    {
     "data": {
      "text/plain": [
       "<function matplotlib.pyplot.show(close=None, block=None)>"
      ]
     },
     "execution_count": 41,
     "metadata": {},
     "output_type": "execute_result"
    },
    {
     "data": {
      "image/png": "[encoded data removed]",
      "text/plain": [
       "<Figure size 720x360 with 2 Axes>"
      ]
     },
     "metadata": {
      "needs_background": "light"
     },
     "output_type": "display_data"
    }
   ],
   "source": [
    "#visualize the corr between all features\n",
    "cor=data.corr()\n",
    "plt.figure(figsize=(10,5))\n",
    "sns.heatmap(cor,annot=True)\n",
    "plt.show"
   ]
  },
  {
   "cell_type": "code",
   "execution_count": 42,
   "metadata": {},
   "outputs": [
    {
     "data": {
      "text/html": [
       "<div>\n",
       "<style scoped>\n",
       "    .dataframe tbody tr th:only-of-type {\n",
       "        vertical-align: middle;\n",
       "    }\n",
       "\n",
       "    .dataframe tbody tr th {\n",
       "        vertical-align: top;\n",
       "    }\n",
       "\n",
       "    .dataframe thead th {\n",
       "        text-align: right;\n",
       "    }\n",
       "</style>\n",
       "<table border=\"1\" class=\"dataframe\">\n",
       "  <thead>\n",
       "    <tr style=\"text-align: right;\">\n",
       "      <th></th>\n",
       "      <th>EngineCapacity_cc</th>\n",
       "      <th>Mileage_kms</th>\n",
       "      <th>Year</th>\n",
       "      <th>Price</th>\n",
       "    </tr>\n",
       "  </thead>\n",
       "  <tbody>\n",
       "    <tr>\n",
       "      <th>count</th>\n",
       "      <td>72014.000000</td>\n",
       "      <td>72014.000000</td>\n",
       "      <td>72014.000000</td>\n",
       "      <td>7.201400e+04</td>\n",
       "    </tr>\n",
       "    <tr>\n",
       "      <th>mean</th>\n",
       "      <td>1496.106479</td>\n",
       "      <td>93609.861152</td>\n",
       "      <td>2011.678521</td>\n",
       "      <td>2.956629e+06</td>\n",
       "    </tr>\n",
       "    <tr>\n",
       "      <th>std</th>\n",
       "      <td>728.022108</td>\n",
       "      <td>77934.578284</td>\n",
       "      <td>7.234528</td>\n",
       "      <td>4.315598e+06</td>\n",
       "    </tr>\n",
       "    <tr>\n",
       "      <th>min</th>\n",
       "      <td>660.000000</td>\n",
       "      <td>100.000000</td>\n",
       "      <td>1940.000000</td>\n",
       "      <td>5.000000e+05</td>\n",
       "    </tr>\n",
       "    <tr>\n",
       "      <th>25%</th>\n",
       "      <td>1000.000000</td>\n",
       "      <td>47000.000000</td>\n",
       "      <td>2007.000000</td>\n",
       "      <td>1.200000e+06</td>\n",
       "    </tr>\n",
       "    <tr>\n",
       "      <th>50%</th>\n",
       "      <td>1300.000000</td>\n",
       "      <td>83000.000000</td>\n",
       "      <td>2013.000000</td>\n",
       "      <td>1.980000e+06</td>\n",
       "    </tr>\n",
       "    <tr>\n",
       "      <th>75%</th>\n",
       "      <td>1800.000000</td>\n",
       "      <td>121318.750000</td>\n",
       "      <td>2017.000000</td>\n",
       "      <td>3.050000e+06</td>\n",
       "    </tr>\n",
       "    <tr>\n",
       "      <th>max</th>\n",
       "      <td>6603.000000</td>\n",
       "      <td>999999.000000</td>\n",
       "      <td>2021.000000</td>\n",
       "      <td>9.350000e+07</td>\n",
       "    </tr>\n",
       "  </tbody>\n",
       "</table>\n",
       "</div>"
      ],
      "text/plain": [
       "       EngineCapacity_cc    Mileage_kms          Year         Price\n",
       "count       72014.000000   72014.000000  72014.000000  7.201400e+04\n",
       "mean         1496.106479   93609.861152   2011.678521  2.956629e+06\n",
       "std           728.022108   77934.578284      7.234528  4.315598e+06\n",
       "min           660.000000     100.000000   1940.000000  5.000000e+05\n",
       "25%          1000.000000   47000.000000   2007.000000  1.200000e+06\n",
       "50%          1300.000000   83000.000000   2013.000000  1.980000e+06\n",
       "75%          1800.000000  121318.750000   2017.000000  3.050000e+06\n",
       "max          6603.000000  999999.000000   2021.000000  9.350000e+07"
      ]
     },
     "execution_count": 42,
     "metadata": {},
     "output_type": "execute_result"
    }
   ],
   "source": [
    "data.describe()"
   ]
  },
  {
   "cell_type": "code",
   "execution_count": 43,
   "metadata": {},
   "outputs": [
    {
     "data": {
      "text/plain": [
       "Index(['Make', 'Name', 'Transmission', 'EngineType', 'EngineCapacity_cc',\n",
       "       'Mileage_kms', 'Year', 'Price'],\n",
       "      dtype='object')"
      ]
     },
     "execution_count": 43,
     "metadata": {},
     "output_type": "execute_result"
    }
   ],
   "source": [
    "data.columns"
   ]
  },
  {
   "cell_type": "code",
   "execution_count": 44,
   "metadata": {},
   "outputs": [
    {
     "data": {
      "text/plain": [
       "<AxesSubplot:xlabel='Year', ylabel='Price'>"
      ]
     },
     "execution_count": 44,
     "metadata": {},
     "output_type": "execute_result"
    },
    {
     "data": {
      "image/png": "[encoded data removed]",
      "text/plain": [
       "<Figure size 576x288 with 1 Axes>"
      ]
     },
     "metadata": {
      "needs_background": "light"
     },
     "output_type": "display_data"
    }
   ],
   "source": [
    "plt.figure(figsize =(8,4))\n",
    "sns.scatterplot(x='Year', y='Price', data=data)"
   ]
  },
  {
   "cell_type": "code",
   "execution_count": 45,
   "metadata": {},
   "outputs": [
    {
     "data": {
      "text/plain": [
       "<AxesSubplot:xlabel='Mileage_kms', ylabel='Price'>"
      ]
     },
     "execution_count": 45,
     "metadata": {},
     "output_type": "execute_result"
    },
    {
     "data": {
      "image/png": "[encoded data removed]",
      "text/plain": [
       "<Figure size 576x288 with 1 Axes>"
      ]
     },
     "metadata": {
      "needs_background": "light"
     },
     "output_type": "display_data"
    }
   ],
   "source": [
    "plt.figure(figsize =(8,4))\n",
    "sns.scatterplot(x='Mileage_kms', y= 'Price', data=data)"
   ]
  },
  {
   "cell_type": "code",
   "execution_count": 46,
   "metadata": {},
   "outputs": [
    {
     "data": {
      "text/plain": [
       "<AxesSubplot:xlabel='EngineCapacity_cc', ylabel='Price'>"
      ]
     },
     "execution_count": 46,
     "metadata": {},
     "output_type": "execute_result"
    },
    {
     "data": {
      "image/png": "[encoded data removed]",
      "text/plain": [
       "<Figure size 576x288 with 1 Axes>"
      ]
     },
     "metadata": {
      "needs_background": "light"
     },
     "output_type": "display_data"
    }
   ],
   "source": [
    "plt.figure(figsize =(8,4))\n",
    "sns.scatterplot(x='EngineCapacity_cc', y='Price', data=data)"
   ]
  },
  {
   "cell_type": "code",
   "execution_count": 47,
   "metadata": {},
   "outputs": [
    {
     "data": {
      "text/plain": [
       "<AxesSubplot:xlabel='Transmission', ylabel='Price'>"
      ]
     },
     "execution_count": 47,
     "metadata": {},
     "output_type": "execute_result"
    },
    {
     "data": {
      "image/png": "[encoded data removed]",
      "text/plain": [
       "<Figure size 576x288 with 1 Axes>"
      ]
     },
     "metadata": {
      "needs_background": "light"
     },
     "output_type": "display_data"
    }
   ],
   "source": [
    "plt.figure(figsize =(8,4))\n",
    "sns.barplot(x='Transmission', y='Price', data=data)"
   ]
  },
  {
   "cell_type": "code",
   "execution_count": 48,
   "metadata": {},
   "outputs": [],
   "source": [
    "#making new variable\n",
    "data_cleaned = data"
   ]
  },
  {
   "cell_type": "code",
   "execution_count": 49,
   "metadata": {},
   "outputs": [],
   "source": [
    "def find_outliers_IQR(data_cleaned):\n",
    "\n",
    "   q1=data_cleaned.quantile(0.25)\n",
    "\n",
    "   q3=data_cleaned.quantile(0.75)\n",
    "\n",
    "   IQR=q3-q1\n",
    "\n",
    "   outliers = data_cleaned[((data_cleaned<(q1-1.5*IQR)) | (data_cleaned>(q3+1.5*IQR)))]\n",
    "\n",
    "   return outliers"
   ]
  },
  {
   "cell_type": "code",
   "execution_count": 50,
   "metadata": {},
   "outputs": [
    {
     "name": "stdout",
     "output_type": "stream",
     "text": [
      "number of outliers: 2552\n",
      "max outlier value: 999999\n",
      "min outlier value: 232924\n"
     ]
    },
    {
     "data": {
      "text/plain": [
       "104      236000\n",
       "177      234000\n",
       "290      300000\n",
       "308      235000\n",
       "336      265000\n",
       "          ...  \n",
       "76642    300000\n",
       "76652    300000\n",
       "76662    300000\n",
       "76672    300000\n",
       "76682    300000\n",
       "Name: Mileage_kms, Length: 2552, dtype: int64"
      ]
     },
     "execution_count": 50,
     "metadata": {},
     "output_type": "execute_result"
    }
   ],
   "source": [
    "#checking outliers for mileages\n",
    "outliers_kms = find_outliers_IQR(data_cleaned['Mileage_kms'])\n",
    "\n",
    "print('number of outliers: '+ str(len(outliers_kms)))\n",
    "\n",
    "print('max outlier value: '+ str(outliers_kms.max()))\n",
    "\n",
    "print('min outlier value: '+ str(outliers_kms.min()))\n",
    "\n",
    "outliers_kms"
   ]
  },
  {
   "cell_type": "code",
   "execution_count": 51,
   "metadata": {},
   "outputs": [
    {
     "name": "stdout",
     "output_type": "stream",
     "text": [
      "number of outliers: 5586\n",
      "max outlier value: 93500000.0\n",
      "min outlier value: 5830000.0\n"
     ]
    },
    {
     "data": {
      "text/plain": [
       "4        19000000.0\n",
       "5         8000000.0\n",
       "21       27500000.0\n",
       "54       33300000.0\n",
       "64       25000000.0\n",
       "            ...    \n",
       "76647     5900000.0\n",
       "76657     5900000.0\n",
       "76667     5900000.0\n",
       "76677     5900000.0\n",
       "76687     5900000.0\n",
       "Name: Price, Length: 5586, dtype: float64"
      ]
     },
     "execution_count": 51,
     "metadata": {},
     "output_type": "execute_result"
    }
   ],
   "source": [
    "#checking outliers for price\n",
    "outliers_price = find_outliers_IQR(data_cleaned['Price'])\n",
    "\n",
    "print('number of outliers: '+ str(len(outliers_price)))\n",
    "\n",
    "print('max outlier value: '+ str(outliers_price.max()))\n",
    "\n",
    "print('min outlier value: '+ str(outliers_price.min()))\n",
    "\n",
    "outliers_price"
   ]
  },
  {
   "cell_type": "code",
   "execution_count": 52,
   "metadata": {},
   "outputs": [
    {
     "name": "stdout",
     "output_type": "stream",
     "text": [
      "number of outliers: 2376\n",
      "max outlier value: 6603.0\n",
      "min outlier value: 3100.0\n"
     ]
    },
    {
     "data": {
      "text/plain": [
       "5        4200.0\n",
       "21       4600.0\n",
       "54       4600.0\n",
       "87       4700.0\n",
       "163      4200.0\n",
       "          ...  \n",
       "76106    3500.0\n",
       "76143    4600.0\n",
       "76187    3400.0\n",
       "76308    4600.0\n",
       "76362    4608.0\n",
       "Name: EngineCapacity_cc, Length: 2376, dtype: float64"
      ]
     },
     "execution_count": 52,
     "metadata": {},
     "output_type": "execute_result"
    }
   ],
   "source": [
    "#checking outliers for engine capacity\n",
    "outliers_cc = find_outliers_IQR(data_cleaned['EngineCapacity_cc'])\n",
    "\n",
    "print('number of outliers: '+ str(len(outliers_cc)))\n",
    "\n",
    "print('max outlier value: '+ str(outliers_cc.max()))\n",
    "\n",
    "print('min outlier value: '+ str(outliers_cc.min()))\n",
    "\n",
    "outliers_cc"
   ]
  },
  {
   "cell_type": "code",
   "execution_count": 53,
   "metadata": {},
   "outputs": [
    {
     "name": "stdout",
     "output_type": "stream",
     "text": [
      "number of outliers: 1253\n",
      "max outlier value: 1991\n",
      "min outlier value: 1940\n"
     ]
    },
    {
     "data": {
      "text/plain": [
       "52       1990\n",
       "165      1984\n",
       "208      1990\n",
       "301      1986\n",
       "395      1988\n",
       "         ... \n",
       "76131    1979\n",
       "76153    1988\n",
       "76216    1971\n",
       "76217    1986\n",
       "76297    1988\n",
       "Name: Year, Length: 1253, dtype: int64"
      ]
     },
     "execution_count": 53,
     "metadata": {},
     "output_type": "execute_result"
    }
   ],
   "source": [
    "#checking outliers for year\n",
    "outliers_year = find_outliers_IQR(data_cleaned['Year'])\n",
    "\n",
    "print('number of outliers: '+ str(len(outliers_year)))\n",
    "\n",
    "print('max outlier value: '+ str(outliers_year.max()))\n",
    "\n",
    "print('min outlier value: '+ str(outliers_year.min()))\n",
    "\n",
    "outliers_year"
   ]
  },
  {
   "cell_type": "code",
   "execution_count": 54,
   "metadata": {},
   "outputs": [
    {
     "name": "stdout",
     "output_type": "stream",
     "text": [
      "327413.5960041848\n",
      "-140193.87370018836\n"
     ]
    }
   ],
   "source": [
    "#selecting unacceptable outliers\n",
    "upper_limit_kms = data_cleaned['Mileage_kms'].mean() + 3*data_cleaned['Mileage_kms'].std()\n",
    "\n",
    "print(upper_limit_kms)\n",
    "\n",
    "lower_limit_kms = data_cleaned['Mileage_kms'].mean() - 3*data_cleaned['Mileage_kms'].std()\n",
    "\n",
    "print(lower_limit_kms)"
   ]
  },
  {
   "cell_type": "code",
   "execution_count": 55,
   "metadata": {},
   "outputs": [
    {
     "name": "stdout",
     "output_type": "stream",
     "text": [
      "2033.3821036032173\n",
      "1989.9749380831213\n"
     ]
    }
   ],
   "source": [
    "upper_limit_year = data_cleaned['Year'].mean() + 3*data_cleaned['Year'].std()\n",
    "\n",
    "print(upper_limit_year)\n",
    "\n",
    "lower_limit_year = data_cleaned['Year'].mean() - 3*data_cleaned['Year'].std()\n",
    "\n",
    "print(lower_limit_year)"
   ]
  },
  {
   "cell_type": "code",
   "execution_count": 56,
   "metadata": {},
   "outputs": [],
   "source": [
    "data_cleaned_filtered = data_cleaned[(data_cleaned[\"Year\"] < upper_limit_year) & (data_cleaned[\"Year\"] > lower_limit_year)]"
   ]
  },
  {
   "cell_type": "code",
   "execution_count": 57,
   "metadata": {},
   "outputs": [
    {
     "data": {
      "text/plain": [
       "(71094, 8)"
      ]
     },
     "execution_count": 57,
     "metadata": {},
     "output_type": "execute_result"
    }
   ],
   "source": [
    "data_cleaned_filtered.shape"
   ]
  },
  {
   "cell_type": "code",
   "execution_count": 58,
   "metadata": {},
   "outputs": [],
   "source": [
    "data_cleaned_filtered = data_cleaned_filtered[(data_cleaned['Mileage_kms'] < upper_limit_kms) & (data_cleaned['Mileage_kms'] > lower_limit_kms)]"
   ]
  },
  {
   "cell_type": "code",
   "execution_count": 59,
   "metadata": {},
   "outputs": [
    {
     "data": {
      "text/plain": [
       "(70402, 8)"
      ]
     },
     "execution_count": 59,
     "metadata": {},
     "output_type": "execute_result"
    }
   ],
   "source": [
    "data_cleaned_filtered.shape"
   ]
  },
  {
   "cell_type": "code",
   "execution_count": 60,
   "metadata": {},
   "outputs": [
    {
     "data": {
      "text/html": [
       "<div>\n",
       "<style scoped>\n",
       "    .dataframe tbody tr th:only-of-type {\n",
       "        vertical-align: middle;\n",
       "    }\n",
       "\n",
       "    .dataframe tbody tr th {\n",
       "        vertical-align: top;\n",
       "    }\n",
       "\n",
       "    .dataframe thead th {\n",
       "        text-align: right;\n",
       "    }\n",
       "</style>\n",
       "<table border=\"1\" class=\"dataframe\">\n",
       "  <thead>\n",
       "    <tr style=\"text-align: right;\">\n",
       "      <th></th>\n",
       "      <th>Make</th>\n",
       "      <th>Name</th>\n",
       "      <th>Transmission</th>\n",
       "      <th>EngineType</th>\n",
       "      <th>EngineCapacity_cc</th>\n",
       "      <th>Mileage_kms</th>\n",
       "      <th>Year</th>\n",
       "      <th>Price</th>\n",
       "    </tr>\n",
       "  </thead>\n",
       "  <tbody>\n",
       "    <tr>\n",
       "      <th>37613</th>\n",
       "      <td>Toyota</td>\n",
       "      <td>Corolla   DX</td>\n",
       "      <td>Automatic</td>\n",
       "      <td>Petrol</td>\n",
       "      <td>1300.0</td>\n",
       "      <td>230671</td>\n",
       "      <td>1990</td>\n",
       "      <td>825000.0</td>\n",
       "    </tr>\n",
       "    <tr>\n",
       "      <th>69455</th>\n",
       "      <td>Toyota</td>\n",
       "      <td>Hilux</td>\n",
       "      <td>Manual</td>\n",
       "      <td>Diesel</td>\n",
       "      <td>2800.0</td>\n",
       "      <td>185000</td>\n",
       "      <td>1990</td>\n",
       "      <td>1675000.0</td>\n",
       "    </tr>\n",
       "    <tr>\n",
       "      <th>26706</th>\n",
       "      <td>Toyota</td>\n",
       "      <td>Land Cruiser 80 Series</td>\n",
       "      <td>Manual</td>\n",
       "      <td>Diesel</td>\n",
       "      <td>2000.0</td>\n",
       "      <td>100000</td>\n",
       "      <td>1990</td>\n",
       "      <td>900000.0</td>\n",
       "    </tr>\n",
       "    <tr>\n",
       "      <th>14388</th>\n",
       "      <td>Mercedes</td>\n",
       "      <td>Benz E Class   E280</td>\n",
       "      <td>Automatic</td>\n",
       "      <td>Diesel</td>\n",
       "      <td>2400.0</td>\n",
       "      <td>115000</td>\n",
       "      <td>1990</td>\n",
       "      <td>2150000.0</td>\n",
       "    </tr>\n",
       "    <tr>\n",
       "      <th>47252</th>\n",
       "      <td>Toyota</td>\n",
       "      <td>Prado</td>\n",
       "      <td>Automatic</td>\n",
       "      <td>Diesel</td>\n",
       "      <td>3000.0</td>\n",
       "      <td>123</td>\n",
       "      <td>1990</td>\n",
       "      <td>2350000.0</td>\n",
       "    </tr>\n",
       "    <tr>\n",
       "      <th>...</th>\n",
       "      <td>...</td>\n",
       "      <td>...</td>\n",
       "      <td>...</td>\n",
       "      <td>...</td>\n",
       "      <td>...</td>\n",
       "      <td>...</td>\n",
       "      <td>...</td>\n",
       "      <td>...</td>\n",
       "    </tr>\n",
       "    <tr>\n",
       "      <th>16915</th>\n",
       "      <td>Suzuki</td>\n",
       "      <td>Alto   VXR</td>\n",
       "      <td>Manual</td>\n",
       "      <td>Petrol</td>\n",
       "      <td>660.0</td>\n",
       "      <td>900</td>\n",
       "      <td>2021</td>\n",
       "      <td>1725000.0</td>\n",
       "    </tr>\n",
       "    <tr>\n",
       "      <th>3094</th>\n",
       "      <td>KIA</td>\n",
       "      <td>Picanto   1.0 MT</td>\n",
       "      <td>Manual</td>\n",
       "      <td>Petrol</td>\n",
       "      <td>1000.0</td>\n",
       "      <td>7000</td>\n",
       "      <td>2021</td>\n",
       "      <td>2340000.0</td>\n",
       "    </tr>\n",
       "    <tr>\n",
       "      <th>3093</th>\n",
       "      <td>DFSK</td>\n",
       "      <td>Glory 580   Pro</td>\n",
       "      <td>Automatic</td>\n",
       "      <td>Petrol</td>\n",
       "      <td>1500.0</td>\n",
       "      <td>100</td>\n",
       "      <td>2021</td>\n",
       "      <td>5200000.0</td>\n",
       "    </tr>\n",
       "    <tr>\n",
       "      <th>73593</th>\n",
       "      <td>MG</td>\n",
       "      <td>HS   1.5 Turbo</td>\n",
       "      <td>Automatic</td>\n",
       "      <td>Petrol</td>\n",
       "      <td>1500.0</td>\n",
       "      <td>4000</td>\n",
       "      <td>2021</td>\n",
       "      <td>6400000.0</td>\n",
       "    </tr>\n",
       "    <tr>\n",
       "      <th>10379</th>\n",
       "      <td>Honda</td>\n",
       "      <td>Civic   Oriel 1.8 i-VTEC CVT</td>\n",
       "      <td>Automatic</td>\n",
       "      <td>Petrol</td>\n",
       "      <td>1800.0</td>\n",
       "      <td>16000</td>\n",
       "      <td>2021</td>\n",
       "      <td>4400000.0</td>\n",
       "    </tr>\n",
       "  </tbody>\n",
       "</table>\n",
       "<p>70402 rows × 8 columns</p>\n",
       "</div>"
      ],
      "text/plain": [
       "           Make                           Name Transmission EngineType  \\\n",
       "37613    Toyota                  Corolla   DX     Automatic     Petrol   \n",
       "69455    Toyota                      Hilux           Manual     Diesel   \n",
       "26706    Toyota      Land Cruiser 80 Series          Manual     Diesel   \n",
       "14388  Mercedes           Benz E Class   E280     Automatic     Diesel   \n",
       "47252    Toyota                      Prado        Automatic     Diesel   \n",
       "...         ...                            ...          ...        ...   \n",
       "16915    Suzuki                    Alto   VXR        Manual     Petrol   \n",
       "3094        KIA              Picanto   1.0 MT        Manual     Petrol   \n",
       "3093       DFSK               Glory 580   Pro     Automatic     Petrol   \n",
       "73593        MG                HS   1.5 Turbo     Automatic     Petrol   \n",
       "10379     Honda  Civic   Oriel 1.8 i-VTEC CVT     Automatic     Petrol   \n",
       "\n",
       "       EngineCapacity_cc  Mileage_kms  Year      Price  \n",
       "37613             1300.0       230671  1990   825000.0  \n",
       "69455             2800.0       185000  1990  1675000.0  \n",
       "26706             2000.0       100000  1990   900000.0  \n",
       "14388             2400.0       115000  1990  2150000.0  \n",
       "47252             3000.0          123  1990  2350000.0  \n",
       "...                  ...          ...   ...        ...  \n",
       "16915              660.0          900  2021  1725000.0  \n",
       "3094              1000.0         7000  2021  2340000.0  \n",
       "3093              1500.0          100  2021  5200000.0  \n",
       "73593             1500.0         4000  2021  6400000.0  \n",
       "10379             1800.0        16000  2021  4400000.0  \n",
       "\n",
       "[70402 rows x 8 columns]"
      ]
     },
     "execution_count": 60,
     "metadata": {},
     "output_type": "execute_result"
    }
   ],
   "source": [
    "#setting the year after removing the outliers\n",
    "data_cleaned_filtered.sort_values('Year')"
   ]
  },
  {
   "cell_type": "code",
   "execution_count": 61,
   "metadata": {},
   "outputs": [
    {
     "data": {
      "text/plain": [
       "array([2017, 2021, 2014, 2013, 2016, 2009, 2019, 2006, 2005, 2018, 2007,\n",
       "       1999, 2011, 2001, 2008, 2012, 2010, 2015, 1990, 2003, 2020, 2002,\n",
       "       1997, 2004, 1994, 1995, 1996, 1998, 1992, 1991, 2000, 1993],\n",
       "      dtype=int64)"
      ]
     },
     "execution_count": 61,
     "metadata": {},
     "output_type": "execute_result"
    }
   ],
   "source": [
    "data_cleaned_filtered['Year'].unique()"
   ]
  },
  {
   "cell_type": "code",
   "execution_count": 62,
   "metadata": {},
   "outputs": [
    {
     "data": {
      "text/html": [
       "<div>\n",
       "<style scoped>\n",
       "    .dataframe tbody tr th:only-of-type {\n",
       "        vertical-align: middle;\n",
       "    }\n",
       "\n",
       "    .dataframe tbody tr th {\n",
       "        vertical-align: top;\n",
       "    }\n",
       "\n",
       "    .dataframe thead th {\n",
       "        text-align: right;\n",
       "    }\n",
       "</style>\n",
       "<table border=\"1\" class=\"dataframe\">\n",
       "  <thead>\n",
       "    <tr style=\"text-align: right;\">\n",
       "      <th></th>\n",
       "      <th>Make</th>\n",
       "      <th>Name</th>\n",
       "      <th>Transmission</th>\n",
       "      <th>EngineType</th>\n",
       "      <th>EngineCapacity_cc</th>\n",
       "      <th>Mileage_kms</th>\n",
       "      <th>Year</th>\n",
       "      <th>Price</th>\n",
       "    </tr>\n",
       "  </thead>\n",
       "  <tbody>\n",
       "    <tr>\n",
       "      <th>61320</th>\n",
       "      <td>Toyota</td>\n",
       "      <td>Prado 90 Series</td>\n",
       "      <td>Automatic</td>\n",
       "      <td>Diesel</td>\n",
       "      <td>3000.0</td>\n",
       "      <td>100</td>\n",
       "      <td>1996</td>\n",
       "      <td>3500000.0</td>\n",
       "    </tr>\n",
       "    <tr>\n",
       "      <th>61111</th>\n",
       "      <td>MG</td>\n",
       "      <td>HS   1.5 Turbo</td>\n",
       "      <td>Automatic</td>\n",
       "      <td>Petrol</td>\n",
       "      <td>1500.0</td>\n",
       "      <td>100</td>\n",
       "      <td>2021</td>\n",
       "      <td>5800000.0</td>\n",
       "    </tr>\n",
       "    <tr>\n",
       "      <th>39376</th>\n",
       "      <td>Suzuki</td>\n",
       "      <td>Ravi</td>\n",
       "      <td>Manual</td>\n",
       "      <td>Petrol</td>\n",
       "      <td>800.0</td>\n",
       "      <td>100</td>\n",
       "      <td>2021</td>\n",
       "      <td>1130000.0</td>\n",
       "    </tr>\n",
       "    <tr>\n",
       "      <th>42765</th>\n",
       "      <td>Toyota</td>\n",
       "      <td>Corolla 9th Generation  GLi 1.3 for...</td>\n",
       "      <td>Manual</td>\n",
       "      <td>Petrol</td>\n",
       "      <td>1300.0</td>\n",
       "      <td>100</td>\n",
       "      <td>2006</td>\n",
       "      <td>1200000.0</td>\n",
       "    </tr>\n",
       "    <tr>\n",
       "      <th>39359</th>\n",
       "      <td>Suzuki</td>\n",
       "      <td>Alto   VXR (CNG)</td>\n",
       "      <td>Manual</td>\n",
       "      <td>Petrol</td>\n",
       "      <td>1000.0</td>\n",
       "      <td>100</td>\n",
       "      <td>2007</td>\n",
       "      <td>700000.0</td>\n",
       "    </tr>\n",
       "    <tr>\n",
       "      <th>...</th>\n",
       "      <td>...</td>\n",
       "      <td>...</td>\n",
       "      <td>...</td>\n",
       "      <td>...</td>\n",
       "      <td>...</td>\n",
       "      <td>...</td>\n",
       "      <td>...</td>\n",
       "      <td>...</td>\n",
       "    </tr>\n",
       "    <tr>\n",
       "      <th>2553</th>\n",
       "      <td>Toyota</td>\n",
       "      <td>Prius   S Standard Package 1.5 for ...</td>\n",
       "      <td>Automatic</td>\n",
       "      <td>Hybrid</td>\n",
       "      <td>1500.0</td>\n",
       "      <td>325420</td>\n",
       "      <td>2007</td>\n",
       "      <td>1925000.0</td>\n",
       "    </tr>\n",
       "    <tr>\n",
       "      <th>48536</th>\n",
       "      <td>Honda</td>\n",
       "      <td>City   i-DSI Vario</td>\n",
       "      <td>Automatic</td>\n",
       "      <td>Petrol</td>\n",
       "      <td>1300.0</td>\n",
       "      <td>325800</td>\n",
       "      <td>2006</td>\n",
       "      <td>1250000.0</td>\n",
       "    </tr>\n",
       "    <tr>\n",
       "      <th>40050</th>\n",
       "      <td>Suzuki</td>\n",
       "      <td>Mehran   VX (CNG)</td>\n",
       "      <td>Manual</td>\n",
       "      <td>Petrol</td>\n",
       "      <td>800.0</td>\n",
       "      <td>326850</td>\n",
       "      <td>2006</td>\n",
       "      <td>510000.0</td>\n",
       "    </tr>\n",
       "    <tr>\n",
       "      <th>63635</th>\n",
       "      <td>Toyota</td>\n",
       "      <td>Corolla 9th Generation  2.0D Saloon...</td>\n",
       "      <td>Manual</td>\n",
       "      <td>Diesel</td>\n",
       "      <td>2000.0</td>\n",
       "      <td>327000</td>\n",
       "      <td>2006</td>\n",
       "      <td>1250000.0</td>\n",
       "    </tr>\n",
       "    <tr>\n",
       "      <th>53412</th>\n",
       "      <td>Toyota</td>\n",
       "      <td>Corolla   GLi 1.3</td>\n",
       "      <td>Manual</td>\n",
       "      <td>Petrol</td>\n",
       "      <td>1300.0</td>\n",
       "      <td>327000</td>\n",
       "      <td>2003</td>\n",
       "      <td>980000.0</td>\n",
       "    </tr>\n",
       "  </tbody>\n",
       "</table>\n",
       "<p>70402 rows × 8 columns</p>\n",
       "</div>"
      ],
      "text/plain": [
       "         Make                                    Name Transmission EngineType  \\\n",
       "61320  Toyota                      Prado 90 Series       Automatic     Diesel   \n",
       "61111      MG                         HS   1.5 Turbo     Automatic     Petrol   \n",
       "39376  Suzuki                                Ravi           Manual     Petrol   \n",
       "42765  Toyota  Corolla 9th Generation  GLi 1.3 for...       Manual     Petrol   \n",
       "39359  Suzuki                       Alto   VXR (CNG)        Manual     Petrol   \n",
       "...       ...                                     ...          ...        ...   \n",
       "2553   Toyota  Prius   S Standard Package 1.5 for ...    Automatic     Hybrid   \n",
       "48536   Honda                     City   i-DSI Vario     Automatic     Petrol   \n",
       "40050  Suzuki                      Mehran   VX (CNG)        Manual     Petrol   \n",
       "63635  Toyota  Corolla 9th Generation  2.0D Saloon...       Manual     Diesel   \n",
       "53412  Toyota                      Corolla   GLi 1.3        Manual     Petrol   \n",
       "\n",
       "       EngineCapacity_cc  Mileage_kms  Year      Price  \n",
       "61320             3000.0          100  1996  3500000.0  \n",
       "61111             1500.0          100  2021  5800000.0  \n",
       "39376              800.0          100  2021  1130000.0  \n",
       "42765             1300.0          100  2006  1200000.0  \n",
       "39359             1000.0          100  2007   700000.0  \n",
       "...                  ...          ...   ...        ...  \n",
       "2553              1500.0       325420  2007  1925000.0  \n",
       "48536             1300.0       325800  2006  1250000.0  \n",
       "40050              800.0       326850  2006   510000.0  \n",
       "63635             2000.0       327000  2006  1250000.0  \n",
       "53412             1300.0       327000  2003   980000.0  \n",
       "\n",
       "[70402 rows x 8 columns]"
      ]
     },
     "execution_count": 62,
     "metadata": {},
     "output_type": "execute_result"
    }
   ],
   "source": [
    "##setting the mileage(kms) after removing the outliers\n",
    "data_cleaned_filtered.sort_values('Mileage_kms')"
   ]
  },
  {
   "cell_type": "code",
   "execution_count": 63,
   "metadata": {},
   "outputs": [
    {
     "data": {
      "text/html": [
       "<div>\n",
       "<style scoped>\n",
       "    .dataframe tbody tr th:only-of-type {\n",
       "        vertical-align: middle;\n",
       "    }\n",
       "\n",
       "    .dataframe tbody tr th {\n",
       "        vertical-align: top;\n",
       "    }\n",
       "\n",
       "    .dataframe thead th {\n",
       "        text-align: right;\n",
       "    }\n",
       "</style>\n",
       "<table border=\"1\" class=\"dataframe\">\n",
       "  <thead>\n",
       "    <tr style=\"text-align: right;\">\n",
       "      <th></th>\n",
       "      <th>EngineCapacity_cc</th>\n",
       "      <th>Mileage_kms</th>\n",
       "      <th>Year</th>\n",
       "      <th>Price</th>\n",
       "    </tr>\n",
       "  </thead>\n",
       "  <tbody>\n",
       "    <tr>\n",
       "      <th>count</th>\n",
       "      <td>70402.000000</td>\n",
       "      <td>70402.000000</td>\n",
       "      <td>70402.000000</td>\n",
       "      <td>7.040200e+04</td>\n",
       "    </tr>\n",
       "    <tr>\n",
       "      <th>mean</th>\n",
       "      <td>1489.019147</td>\n",
       "      <td>88512.031050</td>\n",
       "      <td>2012.097668</td>\n",
       "      <td>2.994836e+06</td>\n",
       "    </tr>\n",
       "    <tr>\n",
       "      <th>std</th>\n",
       "      <td>723.762673</td>\n",
       "      <td>58873.728283</td>\n",
       "      <td>6.482231</td>\n",
       "      <td>4.348946e+06</td>\n",
       "    </tr>\n",
       "    <tr>\n",
       "      <th>min</th>\n",
       "      <td>660.000000</td>\n",
       "      <td>100.000000</td>\n",
       "      <td>1990.000000</td>\n",
       "      <td>5.000000e+05</td>\n",
       "    </tr>\n",
       "    <tr>\n",
       "      <th>25%</th>\n",
       "      <td>1000.000000</td>\n",
       "      <td>46500.000000</td>\n",
       "      <td>2007.000000</td>\n",
       "      <td>1.230000e+06</td>\n",
       "    </tr>\n",
       "    <tr>\n",
       "      <th>50%</th>\n",
       "      <td>1300.000000</td>\n",
       "      <td>82000.000000</td>\n",
       "      <td>2014.000000</td>\n",
       "      <td>2.000000e+06</td>\n",
       "    </tr>\n",
       "    <tr>\n",
       "      <th>75%</th>\n",
       "      <td>1800.000000</td>\n",
       "      <td>120000.000000</td>\n",
       "      <td>2017.000000</td>\n",
       "      <td>3.100000e+06</td>\n",
       "    </tr>\n",
       "    <tr>\n",
       "      <th>max</th>\n",
       "      <td>6600.000000</td>\n",
       "      <td>327000.000000</td>\n",
       "      <td>2021.000000</td>\n",
       "      <td>9.350000e+07</td>\n",
       "    </tr>\n",
       "  </tbody>\n",
       "</table>\n",
       "</div>"
      ],
      "text/plain": [
       "       EngineCapacity_cc    Mileage_kms          Year         Price\n",
       "count       70402.000000   70402.000000  70402.000000  7.040200e+04\n",
       "mean         1489.019147   88512.031050   2012.097668  2.994836e+06\n",
       "std           723.762673   58873.728283      6.482231  4.348946e+06\n",
       "min           660.000000     100.000000   1990.000000  5.000000e+05\n",
       "25%          1000.000000   46500.000000   2007.000000  1.230000e+06\n",
       "50%          1300.000000   82000.000000   2014.000000  2.000000e+06\n",
       "75%          1800.000000  120000.000000   2017.000000  3.100000e+06\n",
       "max          6600.000000  327000.000000   2021.000000  9.350000e+07"
      ]
     },
     "execution_count": 63,
     "metadata": {},
     "output_type": "execute_result"
    }
   ],
   "source": [
    "data_cleaned_filtered.describe()"
   ]
  },
  {
   "cell_type": "markdown",
   "metadata": {},
   "source": [
    "The min and max for engine capacity , mileage and year are reasonably perfect for buying a used car . "
   ]
  },
  {
   "cell_type": "code",
   "execution_count": 170,
   "metadata": {},
   "outputs": [
    {
     "data": {
      "image/png": "[encoded data removed]",
      "text/plain": [
       "<Figure size 1080x720 with 6 Axes>"
      ]
     },
     "metadata": {
      "needs_background": "light"
     },
     "output_type": "display_data"
    }
   ],
   "source": [
    "#plot data exploration after removing outliers\n",
    "data_cleaned_filtered.hist(figsize=(15,10), edgecolor = 'black');"
   ]
  },
  {
   "cell_type": "code",
   "execution_count": 67,
   "metadata": {},
   "outputs": [
    {
     "data": {
      "text/plain": [
       "<AxesSubplot:xlabel='Transmission', ylabel='count'>"
      ]
     },
     "execution_count": 67,
     "metadata": {},
     "output_type": "execute_result"
    },
    {
     "data": {
      "image/png": "[encoded data removed]",
      "text/plain": [
       "<Figure size 432x288 with 1 Axes>"
      ]
     },
     "metadata": {
      "needs_background": "light"
     },
     "output_type": "display_data"
    }
   ],
   "source": [
    "sns.countplot(x='Transmission', data=data_cleaned_filtered, palette='Set1')"
   ]
  },
  {
   "cell_type": "code",
   "execution_count": 68,
   "metadata": {},
   "outputs": [
    {
     "data": {
      "text/plain": [
       "<AxesSubplot:xlabel='EngineType', ylabel='count'>"
      ]
     },
     "execution_count": 68,
     "metadata": {},
     "output_type": "execute_result"
    },
    {
     "data": {
      "image/png": "[encoded data removed]",
      "text/plain": [
       "<Figure size 432x288 with 1 Axes>"
      ]
     },
     "metadata": {
      "needs_background": "light"
     },
     "output_type": "display_data"
    }
   ],
   "source": [
    "sns.countplot(x='EngineType', data=data_cleaned_filtered, palette='Set2')"
   ]
  },
  {
   "cell_type": "code",
   "execution_count": 69,
   "metadata": {},
   "outputs": [
    {
     "data": {
      "text/plain": [
       "<function matplotlib.pyplot.show(close=None, block=None)>"
      ]
     },
     "execution_count": 69,
     "metadata": {},
     "output_type": "execute_result"
    },
    {
     "data": {
      "image/png": "[encoded data removed]",
      "text/plain": [
       "<Figure size 720x360 with 2 Axes>"
      ]
     },
     "metadata": {
      "needs_background": "light"
     },
     "output_type": "display_data"
    }
   ],
   "source": [
    "cor=data_cleaned_filtered.corr()\n",
    "plt.figure(figsize=(10,5))\n",
    "sns.heatmap(cor,annot=True)\n",
    "plt.show"
   ]
  },
  {
   "cell_type": "code",
   "execution_count": 70,
   "metadata": {},
   "outputs": [
    {
     "data": {
      "text/plain": [
       "<AxesSubplot:xlabel='Year', ylabel='Price'>"
      ]
     },
     "execution_count": 70,
     "metadata": {},
     "output_type": "execute_result"
    },
    {
     "data": {
      "image/png": "[encoded data removed]",
      "text/plain": [
       "<Figure size 576x288 with 1 Axes>"
      ]
     },
     "metadata": {
      "needs_background": "light"
     },
     "output_type": "display_data"
    }
   ],
   "source": [
    "plt.figure(figsize =(8,4))\n",
    "sns.scatterplot(x='Year', y='Price', data=data_cleaned_filtered)"
   ]
  },
  {
   "cell_type": "code",
   "execution_count": 71,
   "metadata": {},
   "outputs": [
    {
     "data": {
      "text/plain": [
       "<AxesSubplot:xlabel='Mileage_kms', ylabel='Price'>"
      ]
     },
     "execution_count": 71,
     "metadata": {},
     "output_type": "execute_result"
    },
    {
     "data": {
      "image/png": "[encoded data removed]",
      "text/plain": [
       "<Figure size 576x288 with 1 Axes>"
      ]
     },
     "metadata": {
      "needs_background": "light"
     },
     "output_type": "display_data"
    }
   ],
   "source": [
    "plt.figure(figsize =(8,4))\n",
    "sns.scatterplot(x='Mileage_kms', y='Price', data=data_cleaned_filtered)"
   ]
  },
  {
   "cell_type": "code",
   "execution_count": 72,
   "metadata": {},
   "outputs": [
    {
     "data": {
      "text/plain": [
       "<AxesSubplot:xlabel='EngineCapacity_cc', ylabel='Price'>"
      ]
     },
     "execution_count": 72,
     "metadata": {},
     "output_type": "execute_result"
    },
    {
     "data": {
      "image/png": "[encoded data removed]",
      "text/plain": [
       "<Figure size 576x288 with 1 Axes>"
      ]
     },
     "metadata": {
      "needs_background": "light"
     },
     "output_type": "display_data"
    }
   ],
   "source": [
    "plt.figure(figsize =(8 ,4))\n",
    "sns.scatterplot(x='EngineCapacity_cc', y='Price', data=data_cleaned_filtered)"
   ]
  },
  {
   "cell_type": "code",
   "execution_count": 73,
   "metadata": {},
   "outputs": [
    {
     "data": {
      "text/html": [
       "<div>\n",
       "<style scoped>\n",
       "    .dataframe tbody tr th:only-of-type {\n",
       "        vertical-align: middle;\n",
       "    }\n",
       "\n",
       "    .dataframe tbody tr th {\n",
       "        vertical-align: top;\n",
       "    }\n",
       "\n",
       "    .dataframe thead th {\n",
       "        text-align: right;\n",
       "    }\n",
       "</style>\n",
       "<table border=\"1\" class=\"dataframe\">\n",
       "  <thead>\n",
       "    <tr style=\"text-align: right;\">\n",
       "      <th></th>\n",
       "      <th>EngineCapacity_cc</th>\n",
       "      <th>Mileage_kms</th>\n",
       "      <th>Year</th>\n",
       "      <th>Price</th>\n",
       "    </tr>\n",
       "  </thead>\n",
       "  <tbody>\n",
       "    <tr>\n",
       "      <th>EngineCapacity_cc</th>\n",
       "      <td>1.000000</td>\n",
       "      <td>0.045583</td>\n",
       "      <td>-0.125214</td>\n",
       "      <td>0.659212</td>\n",
       "    </tr>\n",
       "    <tr>\n",
       "      <th>Mileage_kms</th>\n",
       "      <td>0.045583</td>\n",
       "      <td>1.000000</td>\n",
       "      <td>-0.565992</td>\n",
       "      <td>-0.215334</td>\n",
       "    </tr>\n",
       "    <tr>\n",
       "      <th>Year</th>\n",
       "      <td>-0.125214</td>\n",
       "      <td>-0.565992</td>\n",
       "      <td>1.000000</td>\n",
       "      <td>0.227133</td>\n",
       "    </tr>\n",
       "    <tr>\n",
       "      <th>Price</th>\n",
       "      <td>0.659212</td>\n",
       "      <td>-0.215334</td>\n",
       "      <td>0.227133</td>\n",
       "      <td>1.000000</td>\n",
       "    </tr>\n",
       "  </tbody>\n",
       "</table>\n",
       "</div>"
      ],
      "text/plain": [
       "                   EngineCapacity_cc  Mileage_kms      Year     Price\n",
       "EngineCapacity_cc           1.000000     0.045583 -0.125214  0.659212\n",
       "Mileage_kms                 0.045583     1.000000 -0.565992 -0.215334\n",
       "Year                       -0.125214    -0.565992  1.000000  0.227133\n",
       "Price                       0.659212    -0.215334  0.227133  1.000000"
      ]
     },
     "execution_count": 73,
     "metadata": {},
     "output_type": "execute_result"
    }
   ],
   "source": [
    "data_cleaned_filtered.corr()"
   ]
  },
  {
   "cell_type": "code",
   "execution_count": 74,
   "metadata": {},
   "outputs": [
    {
     "data": {
      "text/html": [
       "<div>\n",
       "<style scoped>\n",
       "    .dataframe tbody tr th:only-of-type {\n",
       "        vertical-align: middle;\n",
       "    }\n",
       "\n",
       "    .dataframe tbody tr th {\n",
       "        vertical-align: top;\n",
       "    }\n",
       "\n",
       "    .dataframe thead th {\n",
       "        text-align: right;\n",
       "    }\n",
       "</style>\n",
       "<table border=\"1\" class=\"dataframe\">\n",
       "  <thead>\n",
       "    <tr style=\"text-align: right;\">\n",
       "      <th></th>\n",
       "      <th>Make</th>\n",
       "      <th>Name</th>\n",
       "      <th>Transmission</th>\n",
       "      <th>EngineType</th>\n",
       "      <th>EngineCapacity_cc</th>\n",
       "      <th>Mileage_kms</th>\n",
       "      <th>Year</th>\n",
       "      <th>Price</th>\n",
       "    </tr>\n",
       "  </thead>\n",
       "  <tbody>\n",
       "    <tr>\n",
       "      <th>0</th>\n",
       "      <td>Honda</td>\n",
       "      <td>BR-V   i-VTEC S</td>\n",
       "      <td>Automatic</td>\n",
       "      <td>Petrol</td>\n",
       "      <td>1500.0</td>\n",
       "      <td>41371</td>\n",
       "      <td>2017</td>\n",
       "      <td>3150000.0</td>\n",
       "    </tr>\n",
       "    <tr>\n",
       "      <th>1</th>\n",
       "      <td>Toyota</td>\n",
       "      <td>Corolla   Altis Automatic 1.6</td>\n",
       "      <td>Automatic</td>\n",
       "      <td>Petrol</td>\n",
       "      <td>1600.0</td>\n",
       "      <td>2460</td>\n",
       "      <td>2021</td>\n",
       "      <td>3575000.0</td>\n",
       "    </tr>\n",
       "    <tr>\n",
       "      <th>2</th>\n",
       "      <td>Toyota</td>\n",
       "      <td>Vitz   F Limited II 1.0</td>\n",
       "      <td>Automatic</td>\n",
       "      <td>Petrol</td>\n",
       "      <td>1000.0</td>\n",
       "      <td>67000</td>\n",
       "      <td>2014</td>\n",
       "      <td>1955000.0</td>\n",
       "    </tr>\n",
       "    <tr>\n",
       "      <th>3</th>\n",
       "      <td>Daihatsu</td>\n",
       "      <td>Move   Custom X Limited</td>\n",
       "      <td>Automatic</td>\n",
       "      <td>Petrol</td>\n",
       "      <td>660.0</td>\n",
       "      <td>64000</td>\n",
       "      <td>2013</td>\n",
       "      <td>1450000.0</td>\n",
       "    </tr>\n",
       "    <tr>\n",
       "      <th>4</th>\n",
       "      <td>Toyota</td>\n",
       "      <td>Prado   TX L Package 2.7</td>\n",
       "      <td>Automatic</td>\n",
       "      <td>Petrol</td>\n",
       "      <td>2700.0</td>\n",
       "      <td>64000</td>\n",
       "      <td>2016</td>\n",
       "      <td>19000000.0</td>\n",
       "    </tr>\n",
       "  </tbody>\n",
       "</table>\n",
       "</div>"
      ],
      "text/plain": [
       "       Make                            Name Transmission EngineType  \\\n",
       "0     Honda                BR-V   i-VTEC S     Automatic     Petrol   \n",
       "1    Toyota  Corolla   Altis Automatic 1.6     Automatic     Petrol   \n",
       "2    Toyota        Vitz   F Limited II 1.0     Automatic     Petrol   \n",
       "3  Daihatsu        Move   Custom X Limited     Automatic     Petrol   \n",
       "4    Toyota       Prado   TX L Package 2.7     Automatic     Petrol   \n",
       "\n",
       "   EngineCapacity_cc  Mileage_kms  Year       Price  \n",
       "0             1500.0        41371  2017   3150000.0  \n",
       "1             1600.0         2460  2021   3575000.0  \n",
       "2             1000.0        67000  2014   1955000.0  \n",
       "3              660.0        64000  2013   1450000.0  \n",
       "4             2700.0        64000  2016  19000000.0  "
      ]
     },
     "execution_count": 74,
     "metadata": {},
     "output_type": "execute_result"
    }
   ],
   "source": [
    "data_cleaned_filtered.head()"
   ]
  },
  {
   "cell_type": "code",
   "execution_count": 75,
   "metadata": {},
   "outputs": [],
   "source": [
    "#dropping make and name columns.\n",
    "data_cleaned_filtered.drop(columns = ['Make', 'Name'], inplace = True)"
   ]
  },
  {
   "cell_type": "code",
   "execution_count": 76,
   "metadata": {},
   "outputs": [
    {
     "name": "stdout",
     "output_type": "stream",
     "text": [
      "<class 'pandas.core.frame.DataFrame'>\n",
      "Int64Index: 70402 entries, 0 to 76689\n",
      "Data columns (total 6 columns):\n",
      " #   Column             Non-Null Count  Dtype  \n",
      "---  ------             --------------  -----  \n",
      " 0   Transmission       70402 non-null  object \n",
      " 1   EngineType         70402 non-null  object \n",
      " 2   EngineCapacity_cc  70402 non-null  float64\n",
      " 3   Mileage_kms        70402 non-null  int64  \n",
      " 4   Year               70402 non-null  int64  \n",
      " 5   Price              70402 non-null  float64\n",
      "dtypes: float64(2), int64(2), object(2)\n",
      "memory usage: 6.3+ MB\n"
     ]
    }
   ],
   "source": [
    "data_cleaned_filtered.info()"
   ]
  },
  {
   "cell_type": "code",
   "execution_count": 77,
   "metadata": {},
   "outputs": [],
   "source": [
    "#encoding the catagorical data\n",
    "data_cleaned_filtered.replace({'EngineType': {'Petrol': 1,'LPG': 2, 'CNG':3, 'Hybrid':4, 'Diesel':5}}, inplace =True)\n",
    "data_cleaned_filtered.replace({'Transmission':{ 'Automatic' : 1, 'Manual':2}}, inplace=True)"
   ]
  },
  {
   "cell_type": "code",
   "execution_count": 78,
   "metadata": {},
   "outputs": [
    {
     "data": {
      "text/html": [
       "<div>\n",
       "<style scoped>\n",
       "    .dataframe tbody tr th:only-of-type {\n",
       "        vertical-align: middle;\n",
       "    }\n",
       "\n",
       "    .dataframe tbody tr th {\n",
       "        vertical-align: top;\n",
       "    }\n",
       "\n",
       "    .dataframe thead th {\n",
       "        text-align: right;\n",
       "    }\n",
       "</style>\n",
       "<table border=\"1\" class=\"dataframe\">\n",
       "  <thead>\n",
       "    <tr style=\"text-align: right;\">\n",
       "      <th></th>\n",
       "      <th>Transmission</th>\n",
       "      <th>EngineType</th>\n",
       "      <th>EngineCapacity_cc</th>\n",
       "      <th>Mileage_kms</th>\n",
       "      <th>Year</th>\n",
       "      <th>Price</th>\n",
       "    </tr>\n",
       "  </thead>\n",
       "  <tbody>\n",
       "    <tr>\n",
       "      <th>76685</th>\n",
       "      <td>2</td>\n",
       "      <td>1</td>\n",
       "      <td>800.0</td>\n",
       "      <td>59500</td>\n",
       "      <td>2016</td>\n",
       "      <td>890000.0</td>\n",
       "    </tr>\n",
       "    <tr>\n",
       "      <th>76686</th>\n",
       "      <td>1</td>\n",
       "      <td>1</td>\n",
       "      <td>1800.0</td>\n",
       "      <td>199000</td>\n",
       "      <td>2010</td>\n",
       "      <td>2700000.0</td>\n",
       "    </tr>\n",
       "    <tr>\n",
       "      <th>76687</th>\n",
       "      <td>1</td>\n",
       "      <td>1</td>\n",
       "      <td>2000.0</td>\n",
       "      <td>180</td>\n",
       "      <td>2020</td>\n",
       "      <td>5900000.0</td>\n",
       "    </tr>\n",
       "    <tr>\n",
       "      <th>76688</th>\n",
       "      <td>2</td>\n",
       "      <td>1</td>\n",
       "      <td>800.0</td>\n",
       "      <td>16300</td>\n",
       "      <td>2019</td>\n",
       "      <td>1170000.0</td>\n",
       "    </tr>\n",
       "    <tr>\n",
       "      <th>76689</th>\n",
       "      <td>2</td>\n",
       "      <td>1</td>\n",
       "      <td>800.0</td>\n",
       "      <td>69000</td>\n",
       "      <td>2014</td>\n",
       "      <td>690000.0</td>\n",
       "    </tr>\n",
       "  </tbody>\n",
       "</table>\n",
       "</div>"
      ],
      "text/plain": [
       "       Transmission  EngineType  EngineCapacity_cc  Mileage_kms  Year  \\\n",
       "76685             2           1              800.0        59500  2016   \n",
       "76686             1           1             1800.0       199000  2010   \n",
       "76687             1           1             2000.0          180  2020   \n",
       "76688             2           1              800.0        16300  2019   \n",
       "76689             2           1              800.0        69000  2014   \n",
       "\n",
       "           Price  \n",
       "76685   890000.0  \n",
       "76686  2700000.0  \n",
       "76687  5900000.0  \n",
       "76688  1170000.0  \n",
       "76689   690000.0  "
      ]
     },
     "execution_count": 78,
     "metadata": {},
     "output_type": "execute_result"
    }
   ],
   "source": [
    "data_cleaned_filtered.tail()"
   ]
  },
  {
   "cell_type": "code",
   "execution_count": 79,
   "metadata": {},
   "outputs": [
    {
     "name": "stdout",
     "output_type": "stream",
     "text": [
      "<class 'pandas.core.frame.DataFrame'>\n",
      "Int64Index: 70402 entries, 0 to 76689\n",
      "Data columns (total 6 columns):\n",
      " #   Column             Non-Null Count  Dtype  \n",
      "---  ------             --------------  -----  \n",
      " 0   Transmission       70402 non-null  int64  \n",
      " 1   EngineType         70402 non-null  int64  \n",
      " 2   EngineCapacity_cc  70402 non-null  float64\n",
      " 3   Mileage_kms        70402 non-null  int64  \n",
      " 4   Year               70402 non-null  int64  \n",
      " 5   Price              70402 non-null  float64\n",
      "dtypes: float64(2), int64(4)\n",
      "memory usage: 6.3 MB\n"
     ]
    }
   ],
   "source": [
    "data_cleaned_filtered.info()"
   ]
  },
  {
   "cell_type": "code",
   "execution_count": 125,
   "metadata": {},
   "outputs": [],
   "source": [
    "#making the year dataset easy to access  \n",
    "data_cleaned_filtered.loc[(data_cleaned_filtered['Year'] >= 1990) & (data_cleaned_filtered['Year'] <= 1995),'Year'] = 1\n",
    "data_cleaned_filtered.loc[(data_cleaned_filtered['Year'] >= 1996) & (data_cleaned_filtered['Year'] <= 2000),'Year'] = 2\n",
    "data_cleaned_filtered.loc[(data_cleaned_filtered['Year'] >= 2001) & (data_cleaned_filtered['Year'] <= 2005),'Year'] = 3\n",
    "data_cleaned_filtered.loc[(data_cleaned_filtered['Year'] >= 2006) & (data_cleaned_filtered['Year'] <= 2010),'Year'] = 4\n",
    "data_cleaned_filtered.loc[(data_cleaned_filtered['Year'] >= 2011) & (data_cleaned_filtered['Year'] <= 2015),'Year'] = 5\n",
    "data_cleaned_filtered.loc[(data_cleaned_filtered['Year'] >= 2016) & (data_cleaned_filtered['Year'] <= 2021),'Year'] = 6"
   ]
  },
  {
   "cell_type": "code",
   "execution_count": 126,
   "metadata": {},
   "outputs": [
    {
     "data": {
      "text/html": [
       "<div>\n",
       "<style scoped>\n",
       "    .dataframe tbody tr th:only-of-type {\n",
       "        vertical-align: middle;\n",
       "    }\n",
       "\n",
       "    .dataframe tbody tr th {\n",
       "        vertical-align: top;\n",
       "    }\n",
       "\n",
       "    .dataframe thead th {\n",
       "        text-align: right;\n",
       "    }\n",
       "</style>\n",
       "<table border=\"1\" class=\"dataframe\">\n",
       "  <thead>\n",
       "    <tr style=\"text-align: right;\">\n",
       "      <th></th>\n",
       "      <th>Transmission</th>\n",
       "      <th>EngineType</th>\n",
       "      <th>EngineCapacity_cc</th>\n",
       "      <th>Mileage_kms</th>\n",
       "      <th>Year</th>\n",
       "      <th>Price</th>\n",
       "    </tr>\n",
       "  </thead>\n",
       "  <tbody>\n",
       "    <tr>\n",
       "      <th>0</th>\n",
       "      <td>1</td>\n",
       "      <td>1</td>\n",
       "      <td>1500.0</td>\n",
       "      <td>41371</td>\n",
       "      <td>6</td>\n",
       "      <td>3150000.0</td>\n",
       "    </tr>\n",
       "    <tr>\n",
       "      <th>1</th>\n",
       "      <td>1</td>\n",
       "      <td>1</td>\n",
       "      <td>1600.0</td>\n",
       "      <td>2460</td>\n",
       "      <td>6</td>\n",
       "      <td>3575000.0</td>\n",
       "    </tr>\n",
       "    <tr>\n",
       "      <th>2</th>\n",
       "      <td>1</td>\n",
       "      <td>1</td>\n",
       "      <td>1000.0</td>\n",
       "      <td>67000</td>\n",
       "      <td>5</td>\n",
       "      <td>1955000.0</td>\n",
       "    </tr>\n",
       "    <tr>\n",
       "      <th>3</th>\n",
       "      <td>1</td>\n",
       "      <td>1</td>\n",
       "      <td>660.0</td>\n",
       "      <td>64000</td>\n",
       "      <td>5</td>\n",
       "      <td>1450000.0</td>\n",
       "    </tr>\n",
       "    <tr>\n",
       "      <th>4</th>\n",
       "      <td>1</td>\n",
       "      <td>1</td>\n",
       "      <td>2700.0</td>\n",
       "      <td>64000</td>\n",
       "      <td>6</td>\n",
       "      <td>19000000.0</td>\n",
       "    </tr>\n",
       "  </tbody>\n",
       "</table>\n",
       "</div>"
      ],
      "text/plain": [
       "   Transmission  EngineType  EngineCapacity_cc  Mileage_kms  Year       Price\n",
       "0             1           1             1500.0        41371     6   3150000.0\n",
       "1             1           1             1600.0         2460     6   3575000.0\n",
       "2             1           1             1000.0        67000     5   1955000.0\n",
       "3             1           1              660.0        64000     5   1450000.0\n",
       "4             1           1             2700.0        64000     6  19000000.0"
      ]
     },
     "execution_count": 126,
     "metadata": {},
     "output_type": "execute_result"
    }
   ],
   "source": [
    "data_cleaned_filtered.head()"
   ]
  },
  {
   "cell_type": "code",
   "execution_count": 127,
   "metadata": {},
   "outputs": [
    {
     "data": {
      "text/plain": [
       "Index(['Transmission', 'EngineType', 'EngineCapacity_cc', 'Mileage_kms',\n",
       "       'Year', 'Price'],\n",
       "      dtype='object')"
      ]
     },
     "execution_count": 127,
     "metadata": {},
     "output_type": "execute_result"
    }
   ],
   "source": [
    "data_cleaned_filtered.columns"
   ]
  },
  {
   "cell_type": "code",
   "execution_count": 128,
   "metadata": {},
   "outputs": [
    {
     "name": "stdout",
     "output_type": "stream",
     "text": [
      "<class 'pandas.core.frame.DataFrame'>\n",
      "Int64Index: 70402 entries, 0 to 76689\n",
      "Data columns (total 6 columns):\n",
      " #   Column             Non-Null Count  Dtype  \n",
      "---  ------             --------------  -----  \n",
      " 0   Transmission       70402 non-null  int64  \n",
      " 1   EngineType         70402 non-null  int64  \n",
      " 2   EngineCapacity_cc  70402 non-null  float64\n",
      " 3   Mileage_kms        70402 non-null  int64  \n",
      " 4   Year               70402 non-null  int64  \n",
      " 5   Price              70402 non-null  float64\n",
      "dtypes: float64(2), int64(4)\n",
      "memory usage: 6.3 MB\n"
     ]
    }
   ],
   "source": [
    "data_cleaned_filtered.info()"
   ]
  },
  {
   "cell_type": "code",
   "execution_count": 129,
   "metadata": {},
   "outputs": [],
   "source": [
    "import statsmodels.api as sm\n",
    "import statsmodels.stats.api as sms\n",
    "import statsmodels.formula.api as smf\n",
    "from statsmodels.formula.api import ols"
   ]
  },
  {
   "cell_type": "markdown",
   "metadata": {},
   "source": [
    "# Baseline model"
   ]
  },
  {
   "cell_type": "code",
   "execution_count": 130,
   "metadata": {},
   "outputs": [],
   "source": [
    "car_preds= data_cleaned_filtered.drop('Price', axis=1)\n",
    "car_target= data_cleaned_filtered['Price']"
   ]
  },
  {
   "cell_type": "code",
   "execution_count": 131,
   "metadata": {},
   "outputs": [
    {
     "data": {
      "text/html": [
       "<div>\n",
       "<style scoped>\n",
       "    .dataframe tbody tr th:only-of-type {\n",
       "        vertical-align: middle;\n",
       "    }\n",
       "\n",
       "    .dataframe tbody tr th {\n",
       "        vertical-align: top;\n",
       "    }\n",
       "\n",
       "    .dataframe thead th {\n",
       "        text-align: right;\n",
       "    }\n",
       "</style>\n",
       "<table border=\"1\" class=\"dataframe\">\n",
       "  <thead>\n",
       "    <tr style=\"text-align: right;\">\n",
       "      <th></th>\n",
       "      <th>const</th>\n",
       "      <th>Transmission</th>\n",
       "      <th>EngineType</th>\n",
       "      <th>EngineCapacity_cc</th>\n",
       "      <th>Mileage_kms</th>\n",
       "      <th>Year</th>\n",
       "    </tr>\n",
       "  </thead>\n",
       "  <tbody>\n",
       "    <tr>\n",
       "      <th>0</th>\n",
       "      <td>1.0</td>\n",
       "      <td>1</td>\n",
       "      <td>1</td>\n",
       "      <td>1500.0</td>\n",
       "      <td>41371</td>\n",
       "      <td>6</td>\n",
       "    </tr>\n",
       "    <tr>\n",
       "      <th>1</th>\n",
       "      <td>1.0</td>\n",
       "      <td>1</td>\n",
       "      <td>1</td>\n",
       "      <td>1600.0</td>\n",
       "      <td>2460</td>\n",
       "      <td>6</td>\n",
       "    </tr>\n",
       "    <tr>\n",
       "      <th>2</th>\n",
       "      <td>1.0</td>\n",
       "      <td>1</td>\n",
       "      <td>1</td>\n",
       "      <td>1000.0</td>\n",
       "      <td>67000</td>\n",
       "      <td>5</td>\n",
       "    </tr>\n",
       "    <tr>\n",
       "      <th>3</th>\n",
       "      <td>1.0</td>\n",
       "      <td>1</td>\n",
       "      <td>1</td>\n",
       "      <td>660.0</td>\n",
       "      <td>64000</td>\n",
       "      <td>5</td>\n",
       "    </tr>\n",
       "    <tr>\n",
       "      <th>4</th>\n",
       "      <td>1.0</td>\n",
       "      <td>1</td>\n",
       "      <td>1</td>\n",
       "      <td>2700.0</td>\n",
       "      <td>64000</td>\n",
       "      <td>6</td>\n",
       "    </tr>\n",
       "    <tr>\n",
       "      <th>5</th>\n",
       "      <td>1.0</td>\n",
       "      <td>1</td>\n",
       "      <td>1</td>\n",
       "      <td>4200.0</td>\n",
       "      <td>140000</td>\n",
       "      <td>4</td>\n",
       "    </tr>\n",
       "    <tr>\n",
       "      <th>6</th>\n",
       "      <td>1.0</td>\n",
       "      <td>1</td>\n",
       "      <td>1</td>\n",
       "      <td>1000.0</td>\n",
       "      <td>23000</td>\n",
       "      <td>6</td>\n",
       "    </tr>\n",
       "    <tr>\n",
       "      <th>7</th>\n",
       "      <td>1.0</td>\n",
       "      <td>2</td>\n",
       "      <td>3</td>\n",
       "      <td>1000.0</td>\n",
       "      <td>87000</td>\n",
       "      <td>4</td>\n",
       "    </tr>\n",
       "    <tr>\n",
       "      <th>8</th>\n",
       "      <td>1.0</td>\n",
       "      <td>1</td>\n",
       "      <td>1</td>\n",
       "      <td>2600.0</td>\n",
       "      <td>168000</td>\n",
       "      <td>3</td>\n",
       "    </tr>\n",
       "    <tr>\n",
       "      <th>9</th>\n",
       "      <td>1.0</td>\n",
       "      <td>1</td>\n",
       "      <td>1</td>\n",
       "      <td>1800.0</td>\n",
       "      <td>83000</td>\n",
       "      <td>6</td>\n",
       "    </tr>\n",
       "  </tbody>\n",
       "</table>\n",
       "</div>"
      ],
      "text/plain": [
       "   const  Transmission  EngineType  EngineCapacity_cc  Mileage_kms  Year\n",
       "0    1.0             1           1             1500.0        41371     6\n",
       "1    1.0             1           1             1600.0         2460     6\n",
       "2    1.0             1           1             1000.0        67000     5\n",
       "3    1.0             1           1              660.0        64000     5\n",
       "4    1.0             1           1             2700.0        64000     6\n",
       "5    1.0             1           1             4200.0       140000     4\n",
       "6    1.0             1           1             1000.0        23000     6\n",
       "7    1.0             2           3             1000.0        87000     4\n",
       "8    1.0             1           1             2600.0       168000     3\n",
       "9    1.0             1           1             1800.0        83000     6"
      ]
     },
     "execution_count": 131,
     "metadata": {},
     "output_type": "execute_result"
    }
   ],
   "source": [
    "predictors = sm.add_constant(car_preds)\n",
    "predictors.head(10)"
   ]
  },
  {
   "cell_type": "code",
   "execution_count": 132,
   "metadata": {},
   "outputs": [],
   "source": [
    "baseline_model = sm.OLS(car_target, predictors).fit ()"
   ]
  },
  {
   "cell_type": "code",
   "execution_count": 133,
   "metadata": {},
   "outputs": [
    {
     "data": {
      "text/html": [
       "<table class=\"simpletable\">\n",
       "<caption>OLS Regression Results</caption>\n",
       "<tr>\n",
       "  <th>Dep. Variable:</th>          <td>Price</td>      <th>  R-squared:         </th>  <td>   0.552</td>  \n",
       "</tr>\n",
       "<tr>\n",
       "  <th>Model:</th>                   <td>OLS</td>       <th>  Adj. R-squared:    </th>  <td>   0.552</td>  \n",
       "</tr>\n",
       "<tr>\n",
       "  <th>Method:</th>             <td>Least Squares</td>  <th>  F-statistic:       </th>  <td>1.734e+04</td> \n",
       "</tr>\n",
       "<tr>\n",
       "  <th>Date:</th>             <td>Mon, 07 Nov 2022</td> <th>  Prob (F-statistic):</th>   <td>  0.00</td>   \n",
       "</tr>\n",
       "<tr>\n",
       "  <th>Time:</th>                 <td>10:46:37</td>     <th>  Log-Likelihood:    </th> <td>-1.1478e+06</td>\n",
       "</tr>\n",
       "<tr>\n",
       "  <th>No. Observations:</th>      <td> 70402</td>      <th>  AIC:               </th>  <td>2.296e+06</td> \n",
       "</tr>\n",
       "<tr>\n",
       "  <th>Df Residuals:</th>          <td> 70396</td>      <th>  BIC:               </th>  <td>2.296e+06</td> \n",
       "</tr>\n",
       "<tr>\n",
       "  <th>Df Model:</th>              <td>     5</td>      <th>                     </th>      <td> </td>     \n",
       "</tr>\n",
       "<tr>\n",
       "  <th>Covariance Type:</th>      <td>nonrobust</td>    <th>                     </th>      <td> </td>     \n",
       "</tr>\n",
       "</table>\n",
       "<table class=\"simpletable\">\n",
       "<tr>\n",
       "          <td></td>             <th>coef</th>     <th>std err</th>      <th>t</th>      <th>P>|t|</th>  <th>[0.025</th>    <th>0.975]</th>  \n",
       "</tr>\n",
       "<tr>\n",
       "  <th>const</th>             <td>-6.027e+06</td> <td> 8.77e+04</td> <td>  -68.715</td> <td> 0.000</td> <td> -6.2e+06</td> <td>-5.85e+06</td>\n",
       "</tr>\n",
       "<tr>\n",
       "  <th>Transmission</th>      <td>-2.037e+05</td> <td> 2.44e+04</td> <td>   -8.346</td> <td> 0.000</td> <td>-2.51e+05</td> <td>-1.56e+05</td>\n",
       "</tr>\n",
       "<tr>\n",
       "  <th>EngineType</th>        <td>-4.214e+05</td> <td> 1.14e+04</td> <td>  -36.990</td> <td> 0.000</td> <td>-4.44e+05</td> <td>-3.99e+05</td>\n",
       "</tr>\n",
       "<tr>\n",
       "  <th>EngineCapacity_cc</th> <td> 4309.0207</td> <td>   16.980</td> <td>  253.776</td> <td> 0.000</td> <td> 4275.741</td> <td> 4342.301</td>\n",
       "</tr>\n",
       "<tr>\n",
       "  <th>Mileage_kms</th>       <td>   -7.8627</td> <td>    0.221</td> <td>  -35.631</td> <td> 0.000</td> <td>   -8.295</td> <td>   -7.430</td>\n",
       "</tr>\n",
       "<tr>\n",
       "  <th>Year</th>              <td> 8.656e+05</td> <td> 1.05e+04</td> <td>   82.407</td> <td> 0.000</td> <td> 8.45e+05</td> <td> 8.86e+05</td>\n",
       "</tr>\n",
       "</table>\n",
       "<table class=\"simpletable\">\n",
       "<tr>\n",
       "  <th>Omnibus:</th>       <td>84505.042</td> <th>  Durbin-Watson:     </th>   <td>   1.906</td>  \n",
       "</tr>\n",
       "<tr>\n",
       "  <th>Prob(Omnibus):</th>  <td> 0.000</td>   <th>  Jarque-Bera (JB):  </th> <td>21698512.451</td>\n",
       "</tr>\n",
       "<tr>\n",
       "  <th>Skew:</th>           <td> 6.185</td>   <th>  Prob(JB):          </th>   <td>    0.00</td>  \n",
       "</tr>\n",
       "<tr>\n",
       "  <th>Kurtosis:</th>       <td>88.112</td>   <th>  Cond. No.          </th>   <td>8.67e+05</td>  \n",
       "</tr>\n",
       "</table><br/><br/>Notes:<br/>[1] Standard Errors assume that the covariance matrix of the errors is correctly specified.<br/>[2] The condition number is large, 8.67e+05. This might indicate that there are<br/>strong multicollinearity or other numerical problems."
      ],
      "text/plain": [
       "<class 'statsmodels.iolib.summary.Summary'>\n",
       "\"\"\"\n",
       "                            OLS Regression Results                            \n",
       "==============================================================================\n",
       "Dep. Variable:                  Price   R-squared:                       0.552\n",
       "Model:                            OLS   Adj. R-squared:                  0.552\n",
       "Method:                 Least Squares   F-statistic:                 1.734e+04\n",
       "Date:                Mon, 07 Nov 2022   Prob (F-statistic):               0.00\n",
       "Time:                        10:46:37   Log-Likelihood:            -1.1478e+06\n",
       "No. Observations:               70402   AIC:                         2.296e+06\n",
       "Df Residuals:                   70396   BIC:                         2.296e+06\n",
       "Df Model:                           5                                         \n",
       "Covariance Type:            nonrobust                                         \n",
       "=====================================================================================\n",
       "                        coef    std err          t      P>|t|      [0.025      0.975]\n",
       "-------------------------------------------------------------------------------------\n",
       "const             -6.027e+06   8.77e+04    -68.715      0.000    -6.2e+06   -5.85e+06\n",
       "Transmission      -2.037e+05   2.44e+04     -8.346      0.000   -2.51e+05   -1.56e+05\n",
       "EngineType        -4.214e+05   1.14e+04    -36.990      0.000   -4.44e+05   -3.99e+05\n",
       "EngineCapacity_cc  4309.0207     16.980    253.776      0.000    4275.741    4342.301\n",
       "Mileage_kms          -7.8627      0.221    -35.631      0.000      -8.295      -7.430\n",
       "Year               8.656e+05   1.05e+04     82.407      0.000    8.45e+05    8.86e+05\n",
       "==============================================================================\n",
       "Omnibus:                    84505.042   Durbin-Watson:                   1.906\n",
       "Prob(Omnibus):                  0.000   Jarque-Bera (JB):         21698512.451\n",
       "Skew:                           6.185   Prob(JB):                         0.00\n",
       "Kurtosis:                      88.112   Cond. No.                     8.67e+05\n",
       "==============================================================================\n",
       "\n",
       "Notes:\n",
       "[1] Standard Errors assume that the covariance matrix of the errors is correctly specified.\n",
       "[2] The condition number is large, 8.67e+05. This might indicate that there are\n",
       "strong multicollinearity or other numerical problems.\n",
       "\"\"\""
      ]
     },
     "execution_count": 133,
     "metadata": {},
     "output_type": "execute_result"
    }
   ],
   "source": [
    "baseline_model.summary()"
   ]
  },
  {
   "cell_type": "code",
   "execution_count": 134,
   "metadata": {},
   "outputs": [
    {
     "data": {
      "image/png": "[encoded data removed]",
      "text/plain": [
       "<Figure size 432x288 with 1 Axes>"
      ]
     },
     "metadata": {
      "needs_background": "light"
     },
     "output_type": "display_data"
    }
   ],
   "source": [
    "residuals = baseline_model.resid\n",
    "sm.graphics.qqplot(residuals, dist=stats.norm, line='45', fit=True, )    \n",
    "plt.show;"
   ]
  },
  {
   "cell_type": "code",
   "execution_count": 135,
   "metadata": {},
   "outputs": [],
   "source": [
    "from sklearn.preprocessing import MinMaxScaler\n",
    "from sklearn.preprocessing import StandardScaler\n",
    "from sklearn.model_selection import train_test_split\n",
    "from sklearn.linear_model import LinearRegression\n",
    "from sklearn import metrics\n",
    "from sklearn.metrics import mean_squared_error, make_scorer\n",
    "from sklearn.model_selection import cross_val_score"
   ]
  },
  {
   "cell_type": "code",
   "execution_count": 136,
   "metadata": {},
   "outputs": [],
   "source": [
    "X=data_cleaned_filtered.drop(['Price'], axis=1)\n",
    "y=data_cleaned_filtered['Price']"
   ]
  },
  {
   "cell_type": "code",
   "execution_count": 137,
   "metadata": {},
   "outputs": [
    {
     "name": "stdout",
     "output_type": "stream",
     "text": [
      "       Transmission  EngineType  EngineCapacity_cc  Mileage_kms  Year\n",
      "0                 1           1             1500.0        41371     6\n",
      "1                 1           1             1600.0         2460     6\n",
      "2                 1           1             1000.0        67000     5\n",
      "3                 1           1              660.0        64000     5\n",
      "4                 1           1             2700.0        64000     6\n",
      "...             ...         ...                ...          ...   ...\n",
      "76685             2           1              800.0        59500     6\n",
      "76686             1           1             1800.0       199000     4\n",
      "76687             1           1             2000.0          180     6\n",
      "76688             2           1              800.0        16300     6\n",
      "76689             2           1              800.0        69000     5\n",
      "\n",
      "[70402 rows x 5 columns]\n"
     ]
    }
   ],
   "source": [
    "print(X)"
   ]
  },
  {
   "cell_type": "code",
   "execution_count": 138,
   "metadata": {},
   "outputs": [
    {
     "name": "stdout",
     "output_type": "stream",
     "text": [
      "0         3150000.0\n",
      "1         3575000.0\n",
      "2         1955000.0\n",
      "3         1450000.0\n",
      "4        19000000.0\n",
      "            ...    \n",
      "76685      890000.0\n",
      "76686     2700000.0\n",
      "76687     5900000.0\n",
      "76688     1170000.0\n",
      "76689      690000.0\n",
      "Name: Price, Length: 70402, dtype: float64\n"
     ]
    }
   ],
   "source": [
    "print(y)"
   ]
  },
  {
   "cell_type": "code",
   "execution_count": 139,
   "metadata": {},
   "outputs": [],
   "source": [
    "#spliting datas for training and testing\n",
    "X_train, X_test, y_train, y_test = train_test_split(X, y, test_size=0.25, random_state=42)"
   ]
  },
  {
   "cell_type": "code",
   "execution_count": 140,
   "metadata": {},
   "outputs": [
    {
     "data": {
      "text/html": [
       "<div>\n",
       "<style scoped>\n",
       "    .dataframe tbody tr th:only-of-type {\n",
       "        vertical-align: middle;\n",
       "    }\n",
       "\n",
       "    .dataframe tbody tr th {\n",
       "        vertical-align: top;\n",
       "    }\n",
       "\n",
       "    .dataframe thead th {\n",
       "        text-align: right;\n",
       "    }\n",
       "</style>\n",
       "<table border=\"1\" class=\"dataframe\">\n",
       "  <thead>\n",
       "    <tr style=\"text-align: right;\">\n",
       "      <th></th>\n",
       "      <th>Transmission</th>\n",
       "      <th>EngineType</th>\n",
       "      <th>EngineCapacity_cc</th>\n",
       "      <th>Mileage_kms</th>\n",
       "      <th>Year</th>\n",
       "    </tr>\n",
       "  </thead>\n",
       "  <tbody>\n",
       "    <tr>\n",
       "      <th>51682</th>\n",
       "      <td>2</td>\n",
       "      <td>1</td>\n",
       "      <td>1300.0</td>\n",
       "      <td>130000</td>\n",
       "      <td>5</td>\n",
       "    </tr>\n",
       "    <tr>\n",
       "      <th>16335</th>\n",
       "      <td>2</td>\n",
       "      <td>1</td>\n",
       "      <td>1300.0</td>\n",
       "      <td>12500</td>\n",
       "      <td>6</td>\n",
       "    </tr>\n",
       "    <tr>\n",
       "      <th>57294</th>\n",
       "      <td>1</td>\n",
       "      <td>1</td>\n",
       "      <td>1600.0</td>\n",
       "      <td>114500</td>\n",
       "      <td>5</td>\n",
       "    </tr>\n",
       "    <tr>\n",
       "      <th>48245</th>\n",
       "      <td>2</td>\n",
       "      <td>1</td>\n",
       "      <td>1500.0</td>\n",
       "      <td>78000</td>\n",
       "      <td>3</td>\n",
       "    </tr>\n",
       "    <tr>\n",
       "      <th>12066</th>\n",
       "      <td>1</td>\n",
       "      <td>1</td>\n",
       "      <td>5000.0</td>\n",
       "      <td>25000</td>\n",
       "      <td>6</td>\n",
       "    </tr>\n",
       "    <tr>\n",
       "      <th>...</th>\n",
       "      <td>...</td>\n",
       "      <td>...</td>\n",
       "      <td>...</td>\n",
       "      <td>...</td>\n",
       "      <td>...</td>\n",
       "    </tr>\n",
       "    <tr>\n",
       "      <th>40692</th>\n",
       "      <td>1</td>\n",
       "      <td>1</td>\n",
       "      <td>1600.0</td>\n",
       "      <td>88000</td>\n",
       "      <td>4</td>\n",
       "    </tr>\n",
       "    <tr>\n",
       "      <th>6948</th>\n",
       "      <td>2</td>\n",
       "      <td>1</td>\n",
       "      <td>1300.0</td>\n",
       "      <td>20500</td>\n",
       "      <td>1</td>\n",
       "    </tr>\n",
       "    <tr>\n",
       "      <th>59868</th>\n",
       "      <td>1</td>\n",
       "      <td>1</td>\n",
       "      <td>660.0</td>\n",
       "      <td>42000</td>\n",
       "      <td>6</td>\n",
       "    </tr>\n",
       "    <tr>\n",
       "      <th>933</th>\n",
       "      <td>2</td>\n",
       "      <td>1</td>\n",
       "      <td>1000.0</td>\n",
       "      <td>70000</td>\n",
       "      <td>5</td>\n",
       "    </tr>\n",
       "    <tr>\n",
       "      <th>17363</th>\n",
       "      <td>2</td>\n",
       "      <td>1</td>\n",
       "      <td>1300.0</td>\n",
       "      <td>140000</td>\n",
       "      <td>5</td>\n",
       "    </tr>\n",
       "  </tbody>\n",
       "</table>\n",
       "<p>52801 rows × 5 columns</p>\n",
       "</div>"
      ],
      "text/plain": [
       "       Transmission  EngineType  EngineCapacity_cc  Mileage_kms  Year\n",
       "51682             2           1             1300.0       130000     5\n",
       "16335             2           1             1300.0        12500     6\n",
       "57294             1           1             1600.0       114500     5\n",
       "48245             2           1             1500.0        78000     3\n",
       "12066             1           1             5000.0        25000     6\n",
       "...             ...         ...                ...          ...   ...\n",
       "40692             1           1             1600.0        88000     4\n",
       "6948              2           1             1300.0        20500     1\n",
       "59868             1           1              660.0        42000     6\n",
       "933               2           1             1000.0        70000     5\n",
       "17363             2           1             1300.0       140000     5\n",
       "\n",
       "[52801 rows x 5 columns]"
      ]
     },
     "execution_count": 140,
     "metadata": {},
     "output_type": "execute_result"
    }
   ],
   "source": [
    "X_train"
   ]
  },
  {
   "cell_type": "code",
   "execution_count": 141,
   "metadata": {},
   "outputs": [
    {
     "data": {
      "text/html": [
       "<div>\n",
       "<style scoped>\n",
       "    .dataframe tbody tr th:only-of-type {\n",
       "        vertical-align: middle;\n",
       "    }\n",
       "\n",
       "    .dataframe tbody tr th {\n",
       "        vertical-align: top;\n",
       "    }\n",
       "\n",
       "    .dataframe thead th {\n",
       "        text-align: right;\n",
       "    }\n",
       "</style>\n",
       "<table border=\"1\" class=\"dataframe\">\n",
       "  <thead>\n",
       "    <tr style=\"text-align: right;\">\n",
       "      <th></th>\n",
       "      <th>Transmission</th>\n",
       "      <th>EngineType</th>\n",
       "      <th>EngineCapacity_cc</th>\n",
       "      <th>Mileage_kms</th>\n",
       "      <th>Year</th>\n",
       "    </tr>\n",
       "  </thead>\n",
       "  <tbody>\n",
       "    <tr>\n",
       "      <th>12272</th>\n",
       "      <td>1</td>\n",
       "      <td>1</td>\n",
       "      <td>1600.0</td>\n",
       "      <td>146000</td>\n",
       "      <td>5</td>\n",
       "    </tr>\n",
       "    <tr>\n",
       "      <th>32931</th>\n",
       "      <td>1</td>\n",
       "      <td>1</td>\n",
       "      <td>1500.0</td>\n",
       "      <td>10000</td>\n",
       "      <td>1</td>\n",
       "    </tr>\n",
       "    <tr>\n",
       "      <th>45893</th>\n",
       "      <td>2</td>\n",
       "      <td>1</td>\n",
       "      <td>1000.0</td>\n",
       "      <td>60532</td>\n",
       "      <td>3</td>\n",
       "    </tr>\n",
       "    <tr>\n",
       "      <th>66619</th>\n",
       "      <td>2</td>\n",
       "      <td>1</td>\n",
       "      <td>800.0</td>\n",
       "      <td>125000</td>\n",
       "      <td>4</td>\n",
       "    </tr>\n",
       "    <tr>\n",
       "      <th>42022</th>\n",
       "      <td>2</td>\n",
       "      <td>1</td>\n",
       "      <td>1000.0</td>\n",
       "      <td>60000</td>\n",
       "      <td>4</td>\n",
       "    </tr>\n",
       "    <tr>\n",
       "      <th>...</th>\n",
       "      <td>...</td>\n",
       "      <td>...</td>\n",
       "      <td>...</td>\n",
       "      <td>...</td>\n",
       "      <td>...</td>\n",
       "    </tr>\n",
       "    <tr>\n",
       "      <th>17907</th>\n",
       "      <td>2</td>\n",
       "      <td>1</td>\n",
       "      <td>1300.0</td>\n",
       "      <td>90000</td>\n",
       "      <td>5</td>\n",
       "    </tr>\n",
       "    <tr>\n",
       "      <th>75581</th>\n",
       "      <td>1</td>\n",
       "      <td>1</td>\n",
       "      <td>4600.0</td>\n",
       "      <td>44000</td>\n",
       "      <td>4</td>\n",
       "    </tr>\n",
       "    <tr>\n",
       "      <th>37185</th>\n",
       "      <td>1</td>\n",
       "      <td>1</td>\n",
       "      <td>1000.0</td>\n",
       "      <td>123568</td>\n",
       "      <td>3</td>\n",
       "    </tr>\n",
       "    <tr>\n",
       "      <th>30073</th>\n",
       "      <td>2</td>\n",
       "      <td>1</td>\n",
       "      <td>1500.0</td>\n",
       "      <td>280743</td>\n",
       "      <td>3</td>\n",
       "    </tr>\n",
       "    <tr>\n",
       "      <th>69628</th>\n",
       "      <td>1</td>\n",
       "      <td>1</td>\n",
       "      <td>1500.0</td>\n",
       "      <td>110000</td>\n",
       "      <td>3</td>\n",
       "    </tr>\n",
       "  </tbody>\n",
       "</table>\n",
       "<p>17601 rows × 5 columns</p>\n",
       "</div>"
      ],
      "text/plain": [
       "       Transmission  EngineType  EngineCapacity_cc  Mileage_kms  Year\n",
       "12272             1           1             1600.0       146000     5\n",
       "32931             1           1             1500.0        10000     1\n",
       "45893             2           1             1000.0        60532     3\n",
       "66619             2           1              800.0       125000     4\n",
       "42022             2           1             1000.0        60000     4\n",
       "...             ...         ...                ...          ...   ...\n",
       "17907             2           1             1300.0        90000     5\n",
       "75581             1           1             4600.0        44000     4\n",
       "37185             1           1             1000.0       123568     3\n",
       "30073             2           1             1500.0       280743     3\n",
       "69628             1           1             1500.0       110000     3\n",
       "\n",
       "[17601 rows x 5 columns]"
      ]
     },
     "execution_count": 141,
     "metadata": {},
     "output_type": "execute_result"
    }
   ],
   "source": [
    "X_test"
   ]
  },
  {
   "cell_type": "code",
   "execution_count": 142,
   "metadata": {},
   "outputs": [
    {
     "data": {
      "text/plain": [
       "51682     2250000.0\n",
       "16335     2650000.0\n",
       "57294     1825000.0\n",
       "48245     1250000.0\n",
       "12066    25900000.0\n",
       "            ...    \n",
       "40692     2350000.0\n",
       "6948       550000.0\n",
       "59868     1800000.0\n",
       "933        830000.0\n",
       "17363     1795000.0\n",
       "Name: Price, Length: 52801, dtype: float64"
      ]
     },
     "execution_count": 142,
     "metadata": {},
     "output_type": "execute_result"
    }
   ],
   "source": [
    "y_train"
   ]
  },
  {
   "cell_type": "code",
   "execution_count": 143,
   "metadata": {},
   "outputs": [
    {
     "data": {
      "text/plain": [
       "12272     1790000.0\n",
       "32931     1350000.0\n",
       "45893      630000.0\n",
       "66619      607000.0\n",
       "42022      790000.0\n",
       "            ...    \n",
       "17907     1620000.0\n",
       "75581    16500000.0\n",
       "37185     1460000.0\n",
       "30073     1070000.0\n",
       "69628     1050000.0\n",
       "Name: Price, Length: 17601, dtype: float64"
      ]
     },
     "execution_count": 143,
     "metadata": {},
     "output_type": "execute_result"
    }
   ],
   "source": [
    "y_test"
   ]
  },
  {
   "cell_type": "code",
   "execution_count": 144,
   "metadata": {},
   "outputs": [],
   "source": [
    "#performing scaling (standardization) for baselinemodel\n",
    "scaler=StandardScaler()\n",
    "X_train=scaler.fit_transform(X_train)\n",
    "X_test=scaler.transform(X_test)"
   ]
  },
  {
   "cell_type": "code",
   "execution_count": 145,
   "metadata": {},
   "outputs": [
    {
     "data": {
      "text/plain": [
       "array([[ 1.16552604, -0.3226595 , -0.26085087,  0.7069289 ,  0.15850807],\n",
       "       [ 1.16552604, -0.3226595 , -0.26085087, -1.29053752,  0.94822163],\n",
       "       [-0.85798169, -0.3226595 ,  0.15526273,  0.44343333,  0.15850807],\n",
       "       ...,\n",
       "       [-0.85798169, -0.3226595 , -1.14855987, -0.78904595,  0.94822163],\n",
       "       [ 1.16552604, -0.3226595 , -0.67696446, -0.31305395,  0.15850807],\n",
       "       [ 1.16552604, -0.3226595 , -0.26085087,  0.87692604,  0.15850807]])"
      ]
     },
     "execution_count": 145,
     "metadata": {},
     "output_type": "execute_result"
    }
   ],
   "source": [
    "X_train"
   ]
  },
  {
   "cell_type": "code",
   "execution_count": 146,
   "metadata": {},
   "outputs": [
    {
     "data": {
      "text/plain": [
       "LinearRegression()"
      ]
     },
     "execution_count": 146,
     "metadata": {},
     "output_type": "execute_result"
    }
   ],
   "source": [
    "##loading the linear regression model\n",
    "linreg = LinearRegression()\n",
    "linreg.fit(X_train, y_train)"
   ]
  },
  {
   "cell_type": "code",
   "execution_count": 147,
   "metadata": {},
   "outputs": [],
   "source": [
    "#model evaluating\n",
    "train_pred = linreg.predict(X_train)"
   ]
  },
  {
   "cell_type": "code",
   "execution_count": 148,
   "metadata": {},
   "outputs": [],
   "source": [
    "#prediction on training data\n",
    "linreg = LinearRegression()\n",
    "linreg.fit(X_train, y_train)\n",
    "\n",
    "y_pred_train = linreg.predict(X_train)"
   ]
  },
  {
   "cell_type": "code",
   "execution_count": 149,
   "metadata": {},
   "outputs": [
    {
     "name": "stdout",
     "output_type": "stream",
     "text": [
      "R2 error: 0.5553417731642898\n"
     ]
    }
   ],
   "source": [
    "#comparing the predicted value with original value\n",
    "#r2 error\n",
    "error_score=metrics.r2_score(y_train, y_pred_train)\n",
    "print('R2 error:', error_score)"
   ]
  },
  {
   "cell_type": "code",
   "execution_count": 150,
   "metadata": {},
   "outputs": [
    {
     "data": {
      "image/png": "[encoded data removed]",
      "text/plain": [
       "<Figure size 432x288 with 1 Axes>"
      ]
     },
     "metadata": {
      "needs_background": "light"
     },
     "output_type": "display_data"
    }
   ],
   "source": [
    "#visualize actual price with predicted price on train data\n",
    "plt.scatter(y_train , y_pred_train)\n",
    "plt.xlabel('actual price')\n",
    "plt.ylabel('predicted price')\n",
    "plt.title('actual vs pred')\n",
    "plt.show()"
   ]
  },
  {
   "cell_type": "code",
   "execution_count": 151,
   "metadata": {},
   "outputs": [],
   "source": [
    "#prediction on testing data\n",
    "y_pred_test = linreg.predict(X_test)"
   ]
  },
  {
   "cell_type": "code",
   "execution_count": 152,
   "metadata": {},
   "outputs": [
    {
     "name": "stdout",
     "output_type": "stream",
     "text": [
      "R2 error: 0.5421822098512367\n"
     ]
    }
   ],
   "source": [
    "#comparing the predicted value with original test value\n",
    "#r2 error\n",
    "error_score_test=metrics.r2_score(y_test, y_pred_test)\n",
    "print('R2 error:', error_score_test)"
   ]
  },
  {
   "cell_type": "code",
   "execution_count": 153,
   "metadata": {},
   "outputs": [
    {
     "data": {
      "image/png": "[encoded data removed]",
      "text/plain": [
       "<Figure size 432x288 with 1 Axes>"
      ]
     },
     "metadata": {
      "needs_background": "light"
     },
     "output_type": "display_data"
    }
   ],
   "source": [
    "#visualize actual price with predicted price on test data\n",
    "plt.scatter(y_test, y_pred_test)\n",
    "plt.xlabel('actual price')\n",
    "plt.ylabel('predicted price')\n",
    "plt.title('actual vs pred')\n",
    "plt.show()"
   ]
  },
  {
   "cell_type": "code",
   "execution_count": 154,
   "metadata": {},
   "outputs": [
    {
     "name": "stdout",
     "output_type": "stream",
     "text": [
      "Train Mean Squared Error: 8286918407900.833\n",
      "Test Mean Squared Error: 9038313310313.914\n"
     ]
    }
   ],
   "source": [
    "#calculating the mse\n",
    "train_mse = mean_squared_error(y_train, y_pred_train)\n",
    "test_mse = mean_squared_error(y_test, y_pred_test)\n",
    "print('Train Mean Squared Error:', train_mse)\n",
    "print('Test Mean Squared Error:', test_mse)"
   ]
  },
  {
   "cell_type": "code",
   "execution_count": 155,
   "metadata": {},
   "outputs": [
    {
     "data": {
      "text/plain": [
       "8517201049696.947"
      ]
     },
     "execution_count": 155,
     "metadata": {},
     "output_type": "execute_result"
    }
   ],
   "source": [
    "#performing cv test and comparing with train and test MSE \n",
    "mse = make_scorer(mean_squared_error)\n",
    "cv_10_results = cross_val_score(linreg, X, y, cv=10, scoring=mse)\n",
    "cv_10_results.mean()"
   ]
  },
  {
   "cell_type": "code",
   "execution_count": 156,
   "metadata": {},
   "outputs": [],
   "source": [
    "train_residuals = y_pred_train - y_train\n",
    "test_residuals = y_pred_test - y_test"
   ]
  },
  {
   "cell_type": "markdown",
   "metadata": {},
   "source": [
    "# model 2"
   ]
  },
  {
   "cell_type": "code",
   "execution_count": 157,
   "metadata": {},
   "outputs": [
    {
     "data": {
      "image/png": "[encoded data removed]",
      "text/plain": [
       "<Figure size 1296x576 with 6 Axes>"
      ]
     },
     "metadata": {
      "needs_background": "light"
     },
     "output_type": "display_data"
    }
   ],
   "source": [
    "#perform log transformation for normalization\n",
    "\n",
    "data_log = pd.DataFrame([])\n",
    "   \n",
    "data_log['Transmission'] = (data_cleaned_filtered['Transmission'])\n",
    "data_log['EngineType'] = (data_cleaned_filtered['EngineType'])\n",
    "data_log['EngineCapacity_cc_log'] = np.log(data_cleaned_filtered['EngineCapacity_cc'])\n",
    "data_log['Mileage_kms_log'] = np.log(data_cleaned_filtered['Mileage_kms'])\n",
    "data_log['Year_log'] = np.log(data_cleaned_filtered['Year'])\n",
    "data_log['Price_log'] = np.log(data_cleaned_filtered['Price'])\n",
    "\n",
    "   \n",
    "data_log.hist(figsize  = [18,8]);"
   ]
  },
  {
   "cell_type": "code",
   "execution_count": 158,
   "metadata": {},
   "outputs": [
    {
     "data": {
      "text/plain": [
       "Index(['Transmission', 'EngineType', 'EngineCapacity_cc_log',\n",
       "       'Mileage_kms_log', 'Year_log', 'Price_log'],\n",
       "      dtype='object')"
      ]
     },
     "execution_count": 158,
     "metadata": {},
     "output_type": "execute_result"
    }
   ],
   "source": [
    "data_log.columns"
   ]
  },
  {
   "cell_type": "code",
   "execution_count": 159,
   "metadata": {},
   "outputs": [
    {
     "data": {
      "text/html": [
       "<table class=\"simpletable\">\n",
       "<caption>OLS Regression Results</caption>\n",
       "<tr>\n",
       "  <th>Dep. Variable:</th>        <td>Price_log</td>    <th>  R-squared:         </th> <td>   0.795</td> \n",
       "</tr>\n",
       "<tr>\n",
       "  <th>Model:</th>                   <td>OLS</td>       <th>  Adj. R-squared:    </th> <td>   0.795</td> \n",
       "</tr>\n",
       "<tr>\n",
       "  <th>Method:</th>             <td>Least Squares</td>  <th>  F-statistic:       </th> <td>5.444e+04</td>\n",
       "</tr>\n",
       "<tr>\n",
       "  <th>Date:</th>             <td>Mon, 07 Nov 2022</td> <th>  Prob (F-statistic):</th>  <td>  0.00</td>  \n",
       "</tr>\n",
       "<tr>\n",
       "  <th>Time:</th>                 <td>10:47:17</td>     <th>  Log-Likelihood:    </th> <td> -25262.</td> \n",
       "</tr>\n",
       "<tr>\n",
       "  <th>No. Observations:</th>      <td> 70402</td>      <th>  AIC:               </th> <td>5.054e+04</td>\n",
       "</tr>\n",
       "<tr>\n",
       "  <th>Df Residuals:</th>          <td> 70396</td>      <th>  BIC:               </th> <td>5.059e+04</td>\n",
       "</tr>\n",
       "<tr>\n",
       "  <th>Df Model:</th>              <td>     5</td>      <th>                     </th>     <td> </td>    \n",
       "</tr>\n",
       "<tr>\n",
       "  <th>Covariance Type:</th>      <td>nonrobust</td>    <th>                     </th>     <td> </td>    \n",
       "</tr>\n",
       "</table>\n",
       "<table class=\"simpletable\">\n",
       "<tr>\n",
       "            <td></td>               <th>coef</th>     <th>std err</th>      <th>t</th>      <th>P>|t|</th>  <th>[0.025</th>    <th>0.975]</th>  \n",
       "</tr>\n",
       "<tr>\n",
       "  <th>Intercept</th>             <td>    5.8997</td> <td>    0.032</td> <td>  184.750</td> <td> 0.000</td> <td>    5.837</td> <td>    5.962</td>\n",
       "</tr>\n",
       "<tr>\n",
       "  <th>Transmission</th>          <td>   -0.4268</td> <td>    0.003</td> <td> -147.687</td> <td> 0.000</td> <td>   -0.432</td> <td>   -0.421</td>\n",
       "</tr>\n",
       "<tr>\n",
       "  <th>EngineType</th>            <td>    0.0097</td> <td>    0.001</td> <td>    7.163</td> <td> 0.000</td> <td>    0.007</td> <td>    0.012</td>\n",
       "</tr>\n",
       "<tr>\n",
       "  <th>EngineCapacity_cc_log</th> <td>    1.2011</td> <td>    0.004</td> <td>  340.020</td> <td> 0.000</td> <td>    1.194</td> <td>    1.208</td>\n",
       "</tr>\n",
       "<tr>\n",
       "  <th>Mileage_kms_log</th>       <td>   -0.0702</td> <td>    0.001</td> <td>  -61.438</td> <td> 0.000</td> <td>   -0.072</td> <td>   -0.068</td>\n",
       "</tr>\n",
       "<tr>\n",
       "  <th>Year_log</th>              <td>    0.8838</td> <td>    0.004</td> <td>  220.940</td> <td> 0.000</td> <td>    0.876</td> <td>    0.892</td>\n",
       "</tr>\n",
       "</table>\n",
       "<table class=\"simpletable\">\n",
       "<tr>\n",
       "  <th>Omnibus:</th>       <td>8536.549</td> <th>  Durbin-Watson:     </th> <td>   1.927</td> \n",
       "</tr>\n",
       "<tr>\n",
       "  <th>Prob(Omnibus):</th>  <td> 0.000</td>  <th>  Jarque-Bera (JB):  </th> <td>22735.813</td>\n",
       "</tr>\n",
       "<tr>\n",
       "  <th>Skew:</th>           <td> 0.683</td>  <th>  Prob(JB):          </th> <td>    0.00</td> \n",
       "</tr>\n",
       "<tr>\n",
       "  <th>Kurtosis:</th>       <td> 5.426</td>  <th>  Cond. No.          </th> <td>    332.</td> \n",
       "</tr>\n",
       "</table><br/><br/>Notes:<br/>[1] Standard Errors assume that the covariance matrix of the errors is correctly specified."
      ],
      "text/plain": [
       "<class 'statsmodels.iolib.summary.Summary'>\n",
       "\"\"\"\n",
       "                            OLS Regression Results                            \n",
       "==============================================================================\n",
       "Dep. Variable:              Price_log   R-squared:                       0.795\n",
       "Model:                            OLS   Adj. R-squared:                  0.795\n",
       "Method:                 Least Squares   F-statistic:                 5.444e+04\n",
       "Date:                Mon, 07 Nov 2022   Prob (F-statistic):               0.00\n",
       "Time:                        10:47:17   Log-Likelihood:                -25262.\n",
       "No. Observations:               70402   AIC:                         5.054e+04\n",
       "Df Residuals:                   70396   BIC:                         5.059e+04\n",
       "Df Model:                           5                                         \n",
       "Covariance Type:            nonrobust                                         \n",
       "=========================================================================================\n",
       "                            coef    std err          t      P>|t|      [0.025      0.975]\n",
       "-----------------------------------------------------------------------------------------\n",
       "Intercept                 5.8997      0.032    184.750      0.000       5.837       5.962\n",
       "Transmission             -0.4268      0.003   -147.687      0.000      -0.432      -0.421\n",
       "EngineType                0.0097      0.001      7.163      0.000       0.007       0.012\n",
       "EngineCapacity_cc_log     1.2011      0.004    340.020      0.000       1.194       1.208\n",
       "Mileage_kms_log          -0.0702      0.001    -61.438      0.000      -0.072      -0.068\n",
       "Year_log                  0.8838      0.004    220.940      0.000       0.876       0.892\n",
       "==============================================================================\n",
       "Omnibus:                     8536.549   Durbin-Watson:                   1.927\n",
       "Prob(Omnibus):                  0.000   Jarque-Bera (JB):            22735.813\n",
       "Skew:                           0.683   Prob(JB):                         0.00\n",
       "Kurtosis:                       5.426   Cond. No.                         332.\n",
       "==============================================================================\n",
       "\n",
       "Notes:\n",
       "[1] Standard Errors assume that the covariance matrix of the errors is correctly specified.\n",
       "\"\"\""
      ]
     },
     "execution_count": 159,
     "metadata": {},
     "output_type": "execute_result"
    }
   ],
   "source": [
    "outcome = 'Price_log'\n",
    "x_cols = ['Transmission', 'EngineType', 'EngineCapacity_cc_log',\n",
    "       'Mileage_kms_log', 'Year_log']\n",
    "predictors = '+'.join(x_cols)\n",
    "formula= outcome + '~' + predictors\n",
    "model_2 = ols(formula=formula, data=data_log).fit()\n",
    "\n",
    "\n",
    "model_2.summary()"
   ]
  },
  {
   "cell_type": "markdown",
   "metadata": {},
   "source": [
    "Model 2 ,after performing normalization .Provided the best fit with 0.795 of R squared value which mean 79.5% of the data is explained .\n",
    "\n",
    "Performed a validation with T-test, with a result of Mean Squared Error(MSE):0.11\n",
    "\n",
    "performed Cross validation test ,  resulted in 0.12"
   ]
  },
  {
   "cell_type": "code",
   "execution_count": 160,
   "metadata": {},
   "outputs": [
    {
     "data": {
      "image/png": "[encoded data removed]",
      "text/plain": [
       "<Figure size 432x288 with 1 Axes>"
      ]
     },
     "metadata": {
      "needs_background": "light"
     },
     "output_type": "display_data"
    }
   ],
   "source": [
    "residuals = model_2.resid\n",
    "sm.graphics.qqplot(residuals, dist=stats.norm, line='45', fit=True, )    \n",
    "plt.show;"
   ]
  },
  {
   "cell_type": "code",
   "execution_count": 161,
   "metadata": {},
   "outputs": [
    {
     "data": {
      "text/html": [
       "<div>\n",
       "<style scoped>\n",
       "    .dataframe tbody tr th:only-of-type {\n",
       "        vertical-align: middle;\n",
       "    }\n",
       "\n",
       "    .dataframe tbody tr th {\n",
       "        vertical-align: top;\n",
       "    }\n",
       "\n",
       "    .dataframe thead th {\n",
       "        text-align: right;\n",
       "    }\n",
       "</style>\n",
       "<table border=\"1\" class=\"dataframe\">\n",
       "  <thead>\n",
       "    <tr style=\"text-align: right;\">\n",
       "      <th></th>\n",
       "      <th>Transmission</th>\n",
       "      <th>EngineType</th>\n",
       "      <th>EngineCapacity_cc_log</th>\n",
       "      <th>Mileage_kms_log</th>\n",
       "      <th>Year_log</th>\n",
       "      <th>Price_log</th>\n",
       "    </tr>\n",
       "  </thead>\n",
       "  <tbody>\n",
       "    <tr>\n",
       "      <th>0</th>\n",
       "      <td>1</td>\n",
       "      <td>1</td>\n",
       "      <td>7.313220</td>\n",
       "      <td>10.630335</td>\n",
       "      <td>1.791759</td>\n",
       "      <td>14.962913</td>\n",
       "    </tr>\n",
       "    <tr>\n",
       "      <th>1</th>\n",
       "      <td>1</td>\n",
       "      <td>1</td>\n",
       "      <td>7.377759</td>\n",
       "      <td>7.807917</td>\n",
       "      <td>1.791759</td>\n",
       "      <td>15.089476</td>\n",
       "    </tr>\n",
       "    <tr>\n",
       "      <th>2</th>\n",
       "      <td>1</td>\n",
       "      <td>1</td>\n",
       "      <td>6.907755</td>\n",
       "      <td>11.112448</td>\n",
       "      <td>1.609438</td>\n",
       "      <td>14.485901</td>\n",
       "    </tr>\n",
       "    <tr>\n",
       "      <th>3</th>\n",
       "      <td>1</td>\n",
       "      <td>1</td>\n",
       "      <td>6.492240</td>\n",
       "      <td>11.066638</td>\n",
       "      <td>1.609438</td>\n",
       "      <td>14.187074</td>\n",
       "    </tr>\n",
       "    <tr>\n",
       "      <th>4</th>\n",
       "      <td>1</td>\n",
       "      <td>1</td>\n",
       "      <td>7.901007</td>\n",
       "      <td>11.066638</td>\n",
       "      <td>1.791759</td>\n",
       "      <td>16.759950</td>\n",
       "    </tr>\n",
       "    <tr>\n",
       "      <th>...</th>\n",
       "      <td>...</td>\n",
       "      <td>...</td>\n",
       "      <td>...</td>\n",
       "      <td>...</td>\n",
       "      <td>...</td>\n",
       "      <td>...</td>\n",
       "    </tr>\n",
       "    <tr>\n",
       "      <th>76685</th>\n",
       "      <td>2</td>\n",
       "      <td>1</td>\n",
       "      <td>6.684612</td>\n",
       "      <td>10.993732</td>\n",
       "      <td>1.791759</td>\n",
       "      <td>13.698977</td>\n",
       "    </tr>\n",
       "    <tr>\n",
       "      <th>76686</th>\n",
       "      <td>1</td>\n",
       "      <td>1</td>\n",
       "      <td>7.495542</td>\n",
       "      <td>12.201060</td>\n",
       "      <td>1.386294</td>\n",
       "      <td>14.808762</td>\n",
       "    </tr>\n",
       "    <tr>\n",
       "      <th>76687</th>\n",
       "      <td>1</td>\n",
       "      <td>1</td>\n",
       "      <td>7.600902</td>\n",
       "      <td>5.192957</td>\n",
       "      <td>1.791759</td>\n",
       "      <td>15.590463</td>\n",
       "    </tr>\n",
       "    <tr>\n",
       "      <th>76688</th>\n",
       "      <td>2</td>\n",
       "      <td>1</td>\n",
       "      <td>6.684612</td>\n",
       "      <td>9.698920</td>\n",
       "      <td>1.791759</td>\n",
       "      <td>13.972514</td>\n",
       "    </tr>\n",
       "    <tr>\n",
       "      <th>76689</th>\n",
       "      <td>2</td>\n",
       "      <td>1</td>\n",
       "      <td>6.684612</td>\n",
       "      <td>11.141862</td>\n",
       "      <td>1.609438</td>\n",
       "      <td>13.444447</td>\n",
       "    </tr>\n",
       "  </tbody>\n",
       "</table>\n",
       "<p>70402 rows × 6 columns</p>\n",
       "</div>"
      ],
      "text/plain": [
       "       Transmission  EngineType  EngineCapacity_cc_log  Mileage_kms_log  \\\n",
       "0                 1           1               7.313220        10.630335   \n",
       "1                 1           1               7.377759         7.807917   \n",
       "2                 1           1               6.907755        11.112448   \n",
       "3                 1           1               6.492240        11.066638   \n",
       "4                 1           1               7.901007        11.066638   \n",
       "...             ...         ...                    ...              ...   \n",
       "76685             2           1               6.684612        10.993732   \n",
       "76686             1           1               7.495542        12.201060   \n",
       "76687             1           1               7.600902         5.192957   \n",
       "76688             2           1               6.684612         9.698920   \n",
       "76689             2           1               6.684612        11.141862   \n",
       "\n",
       "       Year_log  Price_log  \n",
       "0      1.791759  14.962913  \n",
       "1      1.791759  15.089476  \n",
       "2      1.609438  14.485901  \n",
       "3      1.609438  14.187074  \n",
       "4      1.791759  16.759950  \n",
       "...         ...        ...  \n",
       "76685  1.791759  13.698977  \n",
       "76686  1.386294  14.808762  \n",
       "76687  1.791759  15.590463  \n",
       "76688  1.791759  13.972514  \n",
       "76689  1.609438  13.444447  \n",
       "\n",
       "[70402 rows x 6 columns]"
      ]
     },
     "execution_count": 161,
     "metadata": {},
     "output_type": "execute_result"
    }
   ],
   "source": [
    "#identify x and y of the datalog for train-test split\n",
    "\n",
    "X = data_log.drop('Price_log', axis=1)\n",
    "y = data_log['Price_log']\n",
    "\n",
    "data_log"
   ]
  },
  {
   "cell_type": "code",
   "execution_count": 162,
   "metadata": {},
   "outputs": [],
   "source": [
    "X_train, X_test, y_train, y_test = train_test_split(X, y, test_size=0.25, random_state=40)"
   ]
  },
  {
   "cell_type": "code",
   "execution_count": 163,
   "metadata": {},
   "outputs": [
    {
     "name": "stdout",
     "output_type": "stream",
     "text": [
      "52801 17601 52801 17601\n"
     ]
    }
   ],
   "source": [
    "print(len(X_train), len(X_test), len(y_train), len(y_test))"
   ]
  },
  {
   "cell_type": "code",
   "execution_count": 164,
   "metadata": {},
   "outputs": [
    {
     "name": "stdout",
     "output_type": "stream",
     "text": [
      "       Transmission  EngineType  EngineCapacity_cc_log  Mileage_kms_log  \\\n",
      "66483             1           1               7.495542        11.918391   \n",
      "22391             2           1               6.907755        11.502875   \n",
      "22155             2           1               6.907755        10.571317   \n",
      "58474             1           3               7.170120        12.100712   \n",
      "67895             2           1               6.684612        10.085809   \n",
      "...             ...         ...                    ...              ...   \n",
      "12755             1           1               7.495542        10.950807   \n",
      "59533             2           1               6.684612        11.239002   \n",
      "61886             2           1               7.377759        12.156541   \n",
      "33619             2           1               7.170120        11.904968   \n",
      "12818             2           1               6.907755        11.512925   \n",
      "\n",
      "       Year_log  \n",
      "66483  1.609438  \n",
      "22391  1.386294  \n",
      "22155  1.609438  \n",
      "58474  1.386294  \n",
      "67895  1.791759  \n",
      "...         ...  \n",
      "12755  1.791759  \n",
      "59533  1.609438  \n",
      "61886  1.098612  \n",
      "33619  1.609438  \n",
      "12818  1.098612  \n",
      "\n",
      "[52801 rows x 5 columns]\n"
     ]
    }
   ],
   "source": [
    "print(X_train)"
   ]
  },
  {
   "cell_type": "code",
   "execution_count": 165,
   "metadata": {},
   "outputs": [
    {
     "name": "stdout",
     "output_type": "stream",
     "text": [
      "       Transmission  EngineType  EngineCapacity_cc_log  Mileage_kms_log  \\\n",
      "17990             2           1               7.170120        11.643954   \n",
      "28986             1           1               7.495542        11.451050   \n",
      "63649             2           1               7.170120        12.611538   \n",
      "27030             2           1               7.170120        11.918391   \n",
      "24044             1           5               7.937375        11.326596   \n",
      "...             ...         ...                    ...              ...   \n",
      "37761             2           1               7.170120        11.225243   \n",
      "37074             2           1               6.684612        10.680516   \n",
      "55226             1           1               7.313220         6.684612   \n",
      "45109             1           4               7.495542        10.950807   \n",
      "62494             1           1               6.492240        10.596635   \n",
      "\n",
      "       Year_log  \n",
      "17990  1.609438  \n",
      "28986  1.386294  \n",
      "63649  1.386294  \n",
      "27030  1.386294  \n",
      "24044  1.609438  \n",
      "...         ...  \n",
      "37761  1.386294  \n",
      "37074  1.386294  \n",
      "55226  1.791759  \n",
      "45109  1.791759  \n",
      "62494  1.791759  \n",
      "\n",
      "[17601 rows x 5 columns]\n"
     ]
    }
   ],
   "source": [
    "print(X_test)"
   ]
  },
  {
   "cell_type": "code",
   "execution_count": 166,
   "metadata": {},
   "outputs": [
    {
     "name": "stdout",
     "output_type": "stream",
     "text": [
      "Train Mean Squared Error: 0.11995025028665633\n",
      "Test Mean Squared Error: 0.12018623873919616\n"
     ]
    }
   ],
   "source": [
    "#loading the linear regression model\n",
    "linreg = LinearRegression()\n",
    "linreg.fit(X_train, y_train)\n",
    "#model evaluation\n",
    "y_hat_train = linreg.predict(X_train)\n",
    "y_hat_test = linreg.predict(X_test)\n",
    "#calculating the mse\n",
    "train_mse = mean_squared_error(y_train, y_hat_train)\n",
    "test_mse = mean_squared_error(y_test, y_hat_test)\n",
    "print('Train Mean Squared Error:', train_mse)\n",
    "print('Test Mean Squared Error:', test_mse)"
   ]
  },
  {
   "cell_type": "code",
   "execution_count": 167,
   "metadata": {},
   "outputs": [
    {
     "data": {
      "text/plain": [
       "0.12027851529574167"
      ]
     },
     "execution_count": 167,
     "metadata": {},
     "output_type": "execute_result"
    }
   ],
   "source": [
    "#performing cv test and comparing with train and test MSE\n",
    "mse = make_scorer(mean_squared_error)\n",
    "cv_10_results = cross_val_score(linreg, X, y, cv=10, scoring=mse)\n",
    "cv_10_results.mean()"
   ]
  }
 ],
 "metadata": {
  "kernelspec": {
   "display_name": "Python (learn-env)",
   "language": "python",
   "name": "learn-env"
  },
  "language_info": {
   "codemirror_mode": {
    "name": "ipython",
    "version": 3
   },
   "file_extension": ".py",
   "mimetype": "text/x-python",
   "name": "python",
   "nbconvert_exporter": "python",
   "pygments_lexer": "ipython3",
   "version": "3.8.5"
  }
 },
 "nbformat": 4,
 "nbformat_minor": 4
}
